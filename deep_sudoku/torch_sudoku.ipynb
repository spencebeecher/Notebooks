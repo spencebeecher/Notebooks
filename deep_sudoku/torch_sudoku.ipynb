{
 "cells": [
  {
   "cell_type": "code",
   "execution_count": 1,
   "metadata": {},
   "outputs": [],
   "source": [
    "# sudoku.csv - https://www.kaggle.com/bryanpark/sudoku\n",
    "# test_sudoku.csv - https://github.com/Kyubyong/sudoku/blob/master/data/test.csv"
   ]
  },
  {
   "cell_type": "code",
   "execution_count": 1,
   "metadata": {},
   "outputs": [],
   "source": [
    "import seaborn as sns\n",
    "import numpy as np\n",
    "import scipy as sp\n",
    "import pandas as pd\n",
    "\n",
    "# good default imports \n",
    "import matplotlib.pyplot as plt\n",
    "\n",
    "import warnings\n",
    "warnings.filterwarnings('ignore') \n",
    "%matplotlib inline\n",
    "\n",
    "import pylab \n",
    "pylab.rcParams['figure.figsize'] = 10, 7\n",
    "\n",
    "\n",
    "import collections\n",
    "import torch\n",
    "import torch.cuda\n",
    "from torch.autograd import Variable\n",
    "import torch.nn.functional as F\n",
    "import time"
   ]
  },
  {
   "cell_type": "code",
   "execution_count": 2,
   "metadata": {},
   "outputs": [],
   "source": [
    "import logging\n",
    "# Create a custom logger\n",
    "\n",
    "\n",
    "import os\n",
    "import time\n",
    "import datetime\n",
    "import logging\n",
    "\n",
    "loggers = {}\n",
    "\n",
    "def get_logger(name='torch_sudoku'):\n",
    "    global loggers\n",
    "\n",
    "    if loggers.get(name):\n",
    "        return loggers.get(name)\n",
    "    else:\n",
    "        logger = logging.getLogger(name)\n",
    "        \n",
    "        # Create handlers\n",
    "\n",
    "        #c_handler = logging.StreamHandler()\n",
    "        f_handler = logging.FileHandler('torch_sudoku.log')\n",
    "        #c_handler.setLevel(logging.INFO)\n",
    "        f_handler.setLevel(logging.INFO)\n",
    "\n",
    "        # Create formatters and add it to handlers\n",
    "        f_format = logging.Formatter('%(asctime)s - %(levelname)s - %(message)s')\n",
    "        #c_handler.setFormatter(f_format)\n",
    "        f_handler.setFormatter(f_format)\n",
    "\n",
    "        #logger.addHandler(c_handler)\n",
    "        logger.addHandler(f_handler)\n",
    "        logger.setLevel(logging.INFO)\n",
    "        logger.info('Initialized =======================')\n",
    "        loggers[name] = logger\n",
    "\n",
    "        return logger\n",
    "\n",
    "\n",
    "\n",
    "\n",
    "\n"
   ]
  },
  {
   "cell_type": "code",
   "execution_count": 3,
   "metadata": {},
   "outputs": [],
   "source": [
    "logger = get_logger()"
   ]
  },
  {
   "cell_type": "code",
   "execution_count": 4,
   "metadata": {},
   "outputs": [],
   "source": [
    "import sys\n",
    "sys.path.append(\".\")\n",
    "import sudoku_solver as sudoku\n",
    "\n",
    "from helper_functions import *\n",
    "from sudoku_networks import *"
   ]
  },
  {
   "cell_type": "code",
   "execution_count": 5,
   "metadata": {},
   "outputs": [
    {
     "name": "stdout",
     "output_type": "stream",
     "text": [
      "729\n",
      "729\n",
      "1458\n"
     ]
    }
   ],
   "source": [
    "file_name = 'data/sudoku.csv'\n",
    "#eval_file_name = 'sudoku_eval.dat'\n",
    "\n",
    "with open(file_name, 'r') as f:\n",
    "    puz_x, puz_y = get_x_y(f, batches=1)\n",
    "\n",
    "input_size = len(puz_x[0])\n",
    "output_size = len(puz_y[0])\n",
    "\n",
    "# based on literature\n",
    "hidden_size = int(output_size + (2. / 3. * input_size) * 1.5) \n",
    "\n",
    "print(input_size)\n",
    "print(output_size)\n",
    "print(hidden_size)"
   ]
  },
  {
   "cell_type": "code",
   "execution_count": 6,
   "metadata": {},
   "outputs": [],
   "source": [
    "class TargetMultiLabelSoftMarginLoss(object):\n",
    "    \n",
    "    def __init__(self):\n",
    "    \n",
    "        self.loss = torch.nn.MultiLabelSoftMarginLoss(reduce=False)\n",
    "    \n",
    "    def __call__(self, y_pred, y):\n",
    "        t = y.reshape((-1, 9, 81))\n",
    "        \n",
    "        \n",
    "        \n",
    "        t = t.transpose(1, 2).sum(2).reshape(-1,81)\n",
    "\n",
    "        #t = torch.concatenate([t,t,t,t,t,t,t,t,t],-1) == 0\n",
    "        t = t.repeat(1, 9) == 0\n",
    "\n",
    "        #random non masked words need to be predicted\n",
    "\n",
    "        #t = t | np.random.choice([True, False], (t.shape[0], 729), p=[0.1, 0.9])\n",
    "        t = t | (torch.rand(t.shape[0], 729) < 0.1).type(torch.cuda.ByteTensor)\n",
    "\n",
    "        return self.loss(\n",
    "            y_pred * t.type(torch.cuda.FloatTensor), \n",
    "            y * t.type(torch.cuda.FloatTensor)\n",
    "        )\n",
    "    def __str__(self):\n",
    "        return 'TargetMultiLabelSoftMarginLoss()'"
   ]
  },
  {
   "cell_type": "code",
   "execution_count": 7,
   "metadata": {},
   "outputs": [],
   "source": [
    "scale = 1\n",
    "num_examples = int(999000/scale)\n",
    "\n",
    "#epochs = int(np.ceil(5.0/scale))\n",
    "\n",
    "batch_size = int(128*2)\n",
    "\n",
    "test_data = next(FileTrainingData(file_name, 0, 400))\n",
    "\n",
    "parameters = [  \n",
    "    {\n",
    "        'models': [\n",
    "            #lambda: ResListModule(\n",
    "            #    ConvNet(3, ResidualConvBlock, 220, 0.1, True), \n",
    "            #    ConvNet(3, ResidualConvBlock, 220, 0.1, True)\n",
    "            #)\n",
    "            #lambda: ConvNet(3, ResidualConvBlock, 220, 0.1, True),\n",
    "            \n",
    "            #recursive_convnet,\n",
    "    \n",
    "            #lambda: SoftmaxModule(SumModel(\n",
    "            #    LinearModel(729, 729),\n",
    "            #    ConvNet(3, ResidualConvBlock, 220, dropout_prob, True)\n",
    "            #)), \n",
    "            \n",
    "            #lambda: SumModel(\n",
    "            #    LinearModel(729, 729),\n",
    "            #    ConvNet(3, ResidualConvBlock, 220, dropout_prob, True)\n",
    "            #), \n",
    "            \n",
    "            #lambda: NewConvNet(25, ResidualConvBlock, 220, dropout_prob, True),\n",
    "            lambda: SumModel(\n",
    "                LinearModel(729, 729),\n",
    "                ConvNet(20, ResidualConvBlock, 240, 0.2, False)\n",
    "            ),\n",
    "            #lambda: LinearModel(729, 729),\n",
    "            \n",
    "                           \n",
    "        ],\n",
    "        'training_data': lambda: FileTrainingData(file_name, 400, 128), \n",
    "        'test_data': lambda: test_data, \n",
    "        # 'loss_fn': lambda: torch.nn.MultiLabelSoftMarginLoss(reduce=False), \n",
    "        'loss_fn': lambda: TargetMultiLabelSoftMarginLoss(),\n",
    "        'optimizer': lambda model: torch.optim.Adam(model.parameters(), lr=0.001), \n",
    "        'epochs': 30\n",
    "    }    \n",
    "    \n",
    "     \n",
    "]"
   ]
  },
  {
   "cell_type": "code",
   "execution_count": 8,
   "metadata": {},
   "outputs": [],
   "source": [
    "from tqdm import tqdm"
   ]
  },
  {
   "cell_type": "code",
   "execution_count": 9,
   "metadata": {
    "scrolled": false
   },
   "outputs": [
    {
     "name": "stderr",
     "output_type": "stream",
     "text": [
      "100%|██████████| 30/30 [12:43:35<00:00, 1527.53s/it]  \n"
     ]
    }
   ],
   "source": [
    "trainers=[]\n",
    "for param in parameters:\n",
    "    for i, model in enumerate(param['models']):\n",
    "        model = model()\n",
    "\n",
    "        torch.cuda.empty_cache()\n",
    "\n",
    "        model.cuda()\n",
    "\n",
    "        optimizer = param['optimizer'](model)\n",
    "\n",
    "        loss_fn = param['loss_fn']()\n",
    "\n",
    "        training_data = param['training_data']()\n",
    "\n",
    "        trainer = Trainer(\n",
    "            model, \n",
    "            training_data, \n",
    "            test_data, \n",
    "            loss_fn, \n",
    "            optimizer\n",
    "        )\n",
    "\n",
    "        for _ in tqdm(range(param['epochs'])):\n",
    "            trainer.train_step()\n",
    "\n",
    "        lr, tr = trainer.loss_results, trainer.time_results\n",
    "\n",
    "        logger.info('=======================')\n",
    "        logger.info(f'{str(trainer)}')\n",
    "\n",
    "        r = eval_and_score_puzzle(\n",
    "            trainer.model, \n",
    "            'data/test_sudoku.csv', \n",
    "            predict_puzzle)\n",
    "        trainer.r = r\n",
    "        logger.info('=======================')\n",
    "\n",
    "        logger.info(f'Avg Score: {np.mean([v[0] / v[1] for v in r])}')\n",
    "        logger.info(f'Num Correct: {np.sum([v[0] for v in r])}')\n",
    "        logger.info(f'Num Chances: {np.sum([v[1] for v in r])}')\n",
    "        logger.info(f'Scores: {[v[0] / v[1] for v in r]}')\n",
    "        logger.info(f'Results: {[(v[0], v[1]) for v in r]}')\n",
    "\n",
    "\n",
    "        torch.save(trainer, f'{str(hash(str(trainer)))}.trainer')\n",
    "\n",
    "        "
   ]
  },
  {
   "cell_type": "code",
   "execution_count": 10,
   "metadata": {},
   "outputs": [],
   "source": [
    "disk_mods = !ls ./*.trainer\n",
    "trainers = []\n",
    "\n",
    "for i, trainer_name in enumerate(disk_mods):\n",
    "    try:\n",
    "        trainer = torch.load(trainer_name)\n",
    "        trainers.append(trainer)\n",
    "    except:\n",
    "        pass"
   ]
  },
  {
   "cell_type": "code",
   "execution_count": 11,
   "metadata": {},
   "outputs": [],
   "source": [
    "trainers = sorted(trainers, key=lambda x: x.loss_results[-1])"
   ]
  },
  {
   "cell_type": "code",
   "execution_count": 12,
   "metadata": {
    "scrolled": false
   },
   "outputs": [],
   "source": [
    "#disk_mods = !ls ./*.mdl\n",
    "def show_results(trainers):\n",
    "    pylab.rcParams['figure.figsize'] = 15, 8\n",
    "    for i, trainer in enumerate(trainers):\n",
    "        model = trainer.model\n",
    "        \n",
    "            \n",
    "        try:\n",
    "            m_name = str(model)\n",
    "            lr, tr, ev = trainer.loss_results, trainer.time_results, trainer.r\n",
    "\n",
    "            plt.plot(lr, label=str(i)+' '+m_name[:30])\n",
    "\n",
    "            plt.legend(loc='top')\n",
    "            #plt.ylim(0, 140)\n",
    "\n",
    "            print(str(i)+' '+str(trainer))\n",
    "            print(lr[-1])\n",
    "            print(np.mean([v[0] / v[1] for v in ev]))\n",
    "            print('')\n",
    "        except:\n",
    "            pass\n"
   ]
  },
  {
   "cell_type": "code",
   "execution_count": 13,
   "metadata": {
    "scrolled": true
   },
   "outputs": [
    {
     "name": "stdout",
     "output_type": "stream",
     "text": [
      "0 SumModel LinearModel 729 729 ConvNet hidden_layers:20 conv_block:<class 'sudoku_networks.ResidualConvBlock'> num_filters:240 is_large:False dropout_prob:0.2\n",
      "\tepochs:30\n",
      "\tFileTrainingData data/sudoku.csv 400 128\n",
      "\tMultiLabelSoftMarginLoss()\n",
      "\tAdam (\n",
      "Parameter Group 0\n",
      "    amsgrad: False\n",
      "    betas: (0.9, 0.999)\n",
      "    eps: 1e-08\n",
      "    lr: 0.001\n",
      "    weight_decay: 0\n",
      ")\n",
      "0.04343150928616524\n",
      "0.7408260663829136\n",
      "\n",
      "1 ConvNet hidden_layers:30 conv_block:<class 'sudoku_networks.ResidualConvBlock'> num_filters:250 is_large:False dropout_prob:0.1\n",
      "\tepochs:5\n",
      "\tFileTrainingData data/sudoku.csv 400 128\n",
      "\tMultiLabelSoftMarginLoss()\n",
      "\tAdam (\n",
      "Parameter Group 0\n",
      "    amsgrad: False\n",
      "    betas: (0.9, 0.999)\n",
      "    eps: 1e-08\n",
      "    lr: 0.001\n",
      "    weight_decay: 0\n",
      ")\n",
      "0.239690899848938\n",
      "0.739169143605423\n",
      "\n",
      "2 ConvNet hidden_layers:20 conv_block:<class 'sudoku_networks.ResidualConvBlock'> num_filters:220 is_large:False dropout_prob:0.8\n",
      "\tepochs:30\n",
      "\tFileTrainingData data/sudoku.csv 400 128\n",
      "\tMultiLabelSoftMarginLoss()\n",
      "\tAdam (\n",
      "Parameter Group 0\n",
      "    amsgrad: False\n",
      "    betas: (0.9, 0.999)\n",
      "    eps: 1e-08\n",
      "    lr: 0.001\n",
      "    weight_decay: 0\n",
      ")\n",
      "0.4038647413253784\n",
      "0.838415770483473\n",
      "\n",
      "3 ConvNet hidden_layers:24 conv_block:<class 'sudoku_networks.ResidualConvBlock'> num_filters:220 is_large:True dropout_prob:0.1\n",
      "\tepochs:5\n",
      "\tZeroTrainingData 0.04 FileTrainingData data/sudoku.csv 400 128\n",
      "\tMultiLabelSoftMarginLoss()\n",
      "\tAdam (\n",
      "Parameter Group 0\n",
      "    amsgrad: False\n",
      "    betas: (0.9, 0.999)\n",
      "    eps: 1e-08\n",
      "    lr: 0.001\n",
      "    weight_decay: 0\n",
      ")\n",
      "0.5042845010757446\n",
      "0.7606272752404828\n",
      "\n",
      "4 ConvNet hidden_layers:7 conv_block:<class 'sudoku_networks.ResidualConvBlock'> num_filters:220 is_large:True dropout_prob:0.1\n",
      "\tepochs:5\n",
      "\tZeroTrainingData 0.05 FileTrainingData data/sudoku.csv 400 128\n",
      "\tMultiLabelSoftMarginLoss()\n",
      "\tAdam (\n",
      "Parameter Group 0\n",
      "    amsgrad: False\n",
      "    betas: (0.9, 0.999)\n",
      "    eps: 1e-08\n",
      "    lr: 0.001\n",
      "    weight_decay: 0\n",
      ")\n",
      "1.084633231163025\n",
      "0.7946928543154957\n",
      "\n",
      "5 SumModel LinearModel 729 729 ConvNet hidden_layers:7 conv_block:<class 'sudoku_networks.ResidualConvBlock'> num_filters:220 is_large:True dropout_prob:0.1\n",
      "\tepochs:5\n",
      "\tZeroTrainingData 0.05 FileTrainingData data/sudoku.csv 400 128\n",
      "\tMultiLabelSoftMarginLoss()\n",
      "\tAdam (\n",
      "Parameter Group 0\n",
      "    amsgrad: False\n",
      "    betas: (0.9, 0.999)\n",
      "    eps: 1e-08\n",
      "    lr: 0.001\n",
      "    weight_decay: 0\n",
      ")\n",
      "1.0898478031158447\n",
      "0.8245052826462955\n",
      "\n",
      "6 SumModel LinearModel 729 729 ConvNet hidden_layers:7 conv_block:<class 'sudoku_networks.ResidualConvBlock'> num_filters:220 is_large:True dropout_prob:0.1\n",
      "\tepochs:5\n",
      "\tZeroTrainingData 0.05 FileTrainingData data/sudoku.csv 400 128\n",
      "\tMultiLabelSoftMarginLoss()\n",
      "\tAdam (\n",
      "Parameter Group 0\n",
      "    amsgrad: False\n",
      "    betas: (0.9, 0.999)\n",
      "    eps: 1e-08\n",
      "    lr: 0.001\n",
      "    weight_decay: 0\n",
      ")\n",
      "1.1497993469238281\n",
      "0.785316259928971\n",
      "\n",
      "7 SumModel LinearModel 729 729 ConvNet hidden_layers:3 conv_block:<class 'sudoku_networks.ResidualConvBlock'> num_filters:220 is_large:True dropout_prob:0.1\n",
      "\tepochs:5\n",
      "\tZeroTrainingData 0.05 FileTrainingData data/sudoku.csv 400 128\n",
      "\tMultiLabelSoftMarginLoss()\n",
      "\tAdam (\n",
      "Parameter Group 0\n",
      "    amsgrad: False\n",
      "    betas: (0.9, 0.999)\n",
      "    eps: 1e-08\n",
      "    lr: 0.001\n",
      "    weight_decay: 0\n",
      ")\n",
      "4.656524658203125\n",
      "0.834970816450459\n",
      "\n",
      "8 ConvNet hidden_layers:3 conv_block:<class 'sudoku_networks.ResidualConvBlock'> num_filters:220 is_large:True dropout_prob:0.1\n",
      "\tepochs:5\n",
      "\tZeroTrainingData 0.05 FileTrainingData data/sudoku.csv 400 128\n",
      "\tMultiLabelSoftMarginLoss()\n",
      "\tAdam (\n",
      "Parameter Group 0\n",
      "    amsgrad: False\n",
      "    betas: (0.9, 0.999)\n",
      "    eps: 1e-08\n",
      "    lr: 0.001\n",
      "    weight_decay: 0\n",
      ")\n",
      "4.789222240447998\n",
      "0.799631440188044\n",
      "\n",
      "9 ConvNet hidden_layers:3 conv_block:<class 'sudoku_networks.ResidualConvBlock'> num_filters:220 is_large:True dropout_prob:0.1\n",
      "\tepochs:5\n",
      "\tFileTrainingData data/sudoku.csv 400 128\n",
      "\tMultiLabelSoftMarginLoss()\n",
      "\tAdam (\n",
      "Parameter Group 0\n",
      "    amsgrad: False\n",
      "    betas: (0.9, 0.999)\n",
      "    eps: 1e-08\n",
      "    lr: 0.001\n",
      "    weight_decay: 0\n",
      ")\n",
      "5.036678314208984\n",
      "0.8310103581487228\n",
      "\n",
      "10 ConvNet hidden_layers:3 conv_block:<class 'sudoku_networks.ResidualConvBlock'> num_filters:220 is_large:True dropout_prob:0.1\n",
      "\tepochs:5\n",
      "\tZeroTrainingData 0.01 FileTrainingData data/sudoku.csv 400 128\n",
      "\tMultiLabelSoftMarginLoss()\n",
      "\tAdam (\n",
      "Parameter Group 0\n",
      "    amsgrad: False\n",
      "    betas: (0.9, 0.999)\n",
      "    eps: 1e-08\n",
      "    lr: 0.001\n",
      "    weight_decay: 0\n",
      ")\n",
      "5.147588729858398\n",
      "0.7980122328723785\n",
      "\n",
      "11 ResList ConvNet hidden_layers:3 conv_block:<class 'sudoku_networks.ResidualConvBlock'> num_filters:220 is_large:True dropout_prob:0.1 ConvNet hidden_layers:3 conv_block:<class 'sudoku_networks.ResidualConvBlock'> num_filters:220 is_large:True dropout_prob:0.1\n",
      "\tepochs:5\n",
      "\tZeroTrainingData 0.05 FileTrainingData data/sudoku.csv 400 128\n",
      "\tMultiLabelSoftMarginLoss()\n",
      "\tAdam (\n",
      "Parameter Group 0\n",
      "    amsgrad: False\n",
      "    betas: (0.9, 0.999)\n",
      "    eps: 1e-08\n",
      "    lr: 0.001\n",
      "    weight_decay: 0\n",
      ")\n",
      "7.698106288909912\n",
      "0.7975821968210056\n",
      "\n",
      "12 NewConvNet hidden_layers:25 conv_block:<class 'sudoku_networks.ResidualConvBlock'> num_filters:220 is_large:True dropout_prob:0.1\n",
      "\tepochs:5\n",
      "\tZeroTrainingData 0.04 FileTrainingData data/sudoku.csv 400 128\n",
      "\tMultiLabelSoftMarginLoss()\n",
      "\tAdam (\n",
      "Parameter Group 0\n",
      "    amsgrad: False\n",
      "    betas: (0.9, 0.999)\n",
      "    eps: 1e-08\n",
      "    lr: 0.001\n",
      "    weight_decay: 0\n",
      ")\n",
      "11.390222549438477\n",
      "0.5789225725475776\n",
      "\n",
      "13 ConvNet hidden_layers:7 conv_block:<class 'sudoku_networks.ResidualConvBlock'> num_filters:220 is_large:True dropout_prob:0.1\n",
      "\tepochs:5\n",
      "\tZeroTrainingData 0.4 FileTrainingData data/sudoku.csv 400 128\n",
      "\tMultiLabelSoftMarginLoss()\n",
      "\tAdam (\n",
      "Parameter Group 0\n",
      "    amsgrad: False\n",
      "    betas: (0.9, 0.999)\n",
      "    eps: 1e-08\n",
      "    lr: 0.001\n",
      "    weight_decay: 0\n",
      ")\n",
      "17.827407836914062\n",
      "0.6926849782665949\n",
      "\n",
      "14 NewConvNet hidden_layers:25 conv_block:<class 'sudoku_networks.ResidualConvBlock'> num_filters:220 is_large:True dropout_prob:0.1\n",
      "\tepochs:5\n",
      "\tZeroTrainingData 0.04 FileTrainingData data/sudoku.csv 400 128\n",
      "\tMultiLabelSoftMarginLoss()\n",
      "\tAdam (\n",
      "Parameter Group 0\n",
      "    amsgrad: False\n",
      "    betas: (0.9, 0.999)\n",
      "    eps: 1e-08\n",
      "    lr: 0.001\n",
      "    weight_decay: 0\n",
      ")\n",
      "24.017377853393555\n",
      "0.6444087083435244\n",
      "\n",
      "15 NewConvNet hidden_layers:7 conv_block:<class 'sudoku_networks.ResidualConvBlock'> num_filters:220 is_large:True dropout_prob:0.1\n",
      "\tepochs:5\n",
      "\tZeroTrainingData 0.04 FileTrainingData data/sudoku.csv 400 128\n",
      "\tMultiLabelSoftMarginLoss()\n",
      "\tAdam (\n",
      "Parameter Group 0\n",
      "    amsgrad: False\n",
      "    betas: (0.9, 0.999)\n",
      "    eps: 1e-08\n",
      "    lr: 0.001\n",
      "    weight_decay: 0\n",
      ")\n",
      "25.664064407348633\n",
      "0.6535492137984782\n",
      "\n",
      "16 NewConvNet hidden_layers:6 conv_block:<class 'sudoku_networks.ResidualConvBlock'> num_filters:220 is_large:True dropout_prob:0.1\n",
      "\tepochs:5\n",
      "\tZeroTrainingData 0.04 FileTrainingData data/sudoku.csv 400 128\n",
      "\tMultiLabelSoftMarginLoss()\n",
      "\tAdam (\n",
      "Parameter Group 0\n",
      "    amsgrad: False\n",
      "    betas: (0.9, 0.999)\n",
      "    eps: 1e-08\n",
      "    lr: 0.001\n",
      "    weight_decay: 0\n",
      ")\n",
      "30.873767852783203\n",
      "0.6224896993847312\n",
      "\n",
      "17 LinearModel 729 729\n",
      "\tepochs:5\n",
      "\tFileTrainingData data/sudoku.csv 400 128\n",
      "\tMultiLabelSoftMarginLoss()\n",
      "\tAdam (\n",
      "Parameter Group 0\n",
      "    amsgrad: False\n",
      "    betas: (0.9, 0.999)\n",
      "    eps: 1e-08\n",
      "    lr: 0.001\n",
      "    weight_decay: 0\n",
      ")\n",
      "35.2344970703125\n",
      "0.7321570118115088\n",
      "\n",
      "18 SumModel LinearModel 729 729 ConvNet hidden_layers:7 conv_block:<class 'sudoku_networks.ResidualConvBlock'> num_filters:220 is_large:True dropout_prob:0.1\n",
      "\tepochs:5\n",
      "\tZeroTrainingData 0.4 FileTrainingData data/sudoku.csv 400 128\n",
      "\tMultiLabelSoftMarginLoss()\n",
      "\tAdam (\n",
      "Parameter Group 0\n",
      "    amsgrad: False\n",
      "    betas: (0.9, 0.999)\n",
      "    eps: 1e-08\n",
      "    lr: 0.001\n",
      "    weight_decay: 0\n",
      ")\n",
      "75.13520050048828\n",
      "0.7855306886586264\n",
      "\n",
      "19 SumModel LinearModel 729 729 ConvNet hidden_layers:20 conv_block:<class 'sudoku_networks.ResidualConvBlock'> num_filters:240 is_large:False dropout_prob:0.2\n",
      "\tepochs:30\n",
      "\tFileTrainingData data/sudoku.csv 400 128\n",
      "\t<__main__.TargetMultiLabelSoftMarginLoss object at 0x7f3de2948940>\n",
      "\tAdam (\n",
      "Parameter Group 0\n",
      "    amsgrad: False\n",
      "    betas: (0.9, 0.999)\n",
      "    eps: 1e-08\n",
      "    lr: 0.001\n",
      "    weight_decay: 0\n",
      ")\n",
      "249.47264099121094\n",
      "0.7502445095139095\n",
      "\n",
      "20 List ConvNet hidden_layers:3 conv_block:<class 'sudoku_networks.ResidualConvBlock'> num_filters:220 is_large:True dropout_prob:0.1 ConvNet hidden_layers:3 conv_block:<class 'sudoku_networks.ResidualConvBlock'> num_filters:220 is_large:True dropout_prob:0.1\n",
      "\tepochs:5\n",
      "\tZeroTrainingData 0.01 FileTrainingData data/sudoku.csv 400 128\n",
      "\tMultiLabelSoftMarginLoss()\n",
      "\tAdam (\n",
      "Parameter Group 0\n",
      "    amsgrad: False\n",
      "    betas: (0.9, 0.999)\n",
      "    eps: 1e-08\n",
      "    lr: 0.001\n",
      "    weight_decay: 0\n",
      ")\n",
      "251.94334411621094\n",
      "0.13201494447651746\n",
      "\n",
      "21 LinearModel 729 729\n",
      "\tepochs:1\n",
      "\tFileTrainingData data/sudoku.csv 400 128\n",
      "\t<__main__.TargetMultiLabelSoftMarginLoss object at 0x7f3deae49fd0>\n",
      "\tAdam (\n",
      "Parameter Group 0\n",
      "    amsgrad: False\n",
      "    betas: (0.9, 0.999)\n",
      "    eps: 1e-08\n",
      "    lr: 0.001\n",
      "    weight_decay: 0\n",
      ")\n",
      "254.26234436035156\n",
      "0.5821041571491534\n",
      "\n",
      "22 SoftmaxModule SumModel LinearModel 729 729 ConvNet hidden_layers:3 conv_block:<class 'sudoku_networks.ResidualConvBlock'> num_filters:220 is_large:True dropout_prob:0.1\n",
      "\tepochs:5\n",
      "\tZeroTrainingData 0.05 FileTrainingData data/sudoku.csv 400 128\n",
      "\tMultiLabelSoftMarginLoss()\n",
      "\tAdam (\n",
      "Parameter Group 0\n",
      "    amsgrad: False\n",
      "    betas: (0.9, 0.999)\n",
      "    eps: 1e-08\n",
      "    lr: 0.001\n",
      "    weight_decay: 0\n",
      ")\n",
      "276.77020263671875\n",
      "0.10565650336199493\n",
      "\n",
      "23 List SoftmaxModule ConvNet hidden_layers:3 conv_block:<class 'sudoku_networks.ResidualConvBlock'> num_filters:220 is_large:True dropout_prob:0.1 SoftmaxModule ConvNet hidden_layers:3 conv_block:<class 'sudoku_networks.ResidualConvBlock'> num_filters:220 is_large:True dropout_prob:0.1\n",
      "\tepochs:5\n",
      "\tZeroTrainingData 0.05 FileTrainingData data/sudoku.csv 400 128\n",
      "\tMultiLabelSoftMarginLoss()\n",
      "\tAdam (\n",
      "Parameter Group 0\n",
      "    amsgrad: False\n",
      "    betas: (0.9, 0.999)\n",
      "    eps: 1e-08\n",
      "    lr: 0.001\n",
      "    weight_decay: 0\n",
      ")\n",
      "276.91986083984375\n",
      "0.10565650336199493\n",
      "\n",
      "24 List ConvNet hidden_layers:3 conv_block:<class 'sudoku_networks.ResidualConvBlock'> num_filters:220 is_large:True dropout_prob:0.1 ConvNet hidden_layers:3 conv_block:<class 'sudoku_networks.ResidualConvBlock'> num_filters:220 is_large:True dropout_prob:0.1\n",
      "\tepochs:5\n",
      "\tFileTrainingData data/sudoku.csv 400 128\n",
      "\tMultiLabelSoftMarginLoss()\n",
      "\tAdam (\n",
      "Parameter Group 0\n",
      "    amsgrad: False\n",
      "    betas: (0.9, 0.999)\n",
      "    eps: 1e-08\n",
      "    lr: 0.001\n",
      "    weight_decay: 0\n",
      ")\n",
      "318.4964294433594\n",
      "0.10732698300104024\n",
      "\n"
     ]
    },
    {
     "data": {
      "text/plain": [
       "(0, 20)"
      ]
     },
     "execution_count": 13,
     "metadata": {},
     "output_type": "execute_result"
    },
    {
     "data": {
      "image/png": "[encoded data removed]",
      "text/plain": [
       "<Figure size 1080x576 with 1 Axes>"
      ]
     },
     "metadata": {
      "needs_background": "light"
     },
     "output_type": "display_data"
    }
   ],
   "source": [
    "show_results(trainers)\n",
    "plt.ylim(0,20)"
   ]
  },
  {
   "cell_type": "code",
   "execution_count": 28,
   "metadata": {},
   "outputs": [],
   "source": [
    "kaggle_puz = []\n",
    "kaggle_sln = []\n",
    "for i, line in enumerate(open('data/test_sudoku.csv', 'r').read().splitlines()):\n",
    "    try:\n",
    "        quiz, solution = line.split(\",\")\n",
    "        kaggle_puz.append([int(c) for c in quiz])\n",
    "        kaggle_sln.append([int(c) for c in solution])\n",
    "    except:\n",
    "        pass\n",
    "\n",
    "\n",
    "kaggle_puz = np.array(kaggle_puz).reshape((-1, 9, 9))\n",
    "kaggle_sln = np.array(kaggle_sln).reshape((-1, 9, 9))"
   ]
  },
  {
   "cell_type": "code",
   "execution_count": 29,
   "metadata": {},
   "outputs": [],
   "source": [
    "import sudoku"
   ]
  },
  {
   "cell_type": "code",
   "execution_count": 103,
   "metadata": {},
   "outputs": [],
   "source": [
    "def eval_zeros(m):\n",
    "    p = sudoku.create_matrix()\n",
    "    arr = []\n",
    "    for i in range(9):\n",
    "        for j in range(9):\n",
    "            arr.append(predict_cell(i,j, p, m))\n",
    "    x = np.array(arr)[:,:,1]\n",
    "    return np.percentile(x, 95) - np.percentile(x, 5)"
   ]
  },
  {
   "cell_type": "code",
   "execution_count": 104,
   "metadata": {},
   "outputs": [
    {
     "data": {
      "text/plain": [
       "\"ConvNet hidden_layers:7 conv_block:<class 'sudoku_networks.ResidualConvBlock'> num_filters:220 is_large:True dropout_prob:0.1\""
      ]
     },
     "execution_count": 104,
     "metadata": {},
     "output_type": "execute_result"
    }
   ],
   "source": [
    "str(trainers[4].model)"
   ]
  },
  {
   "cell_type": "code",
   "execution_count": 105,
   "metadata": {},
   "outputs": [
    {
     "data": {
      "text/plain": [
       "\"SumModel LinearModel 729 729 ConvNet hidden_layers:20 conv_block:<class 'sudoku_networks.ResidualConvBlock'> num_filters:240 is_large:False dropout_prob:0.2\""
      ]
     },
     "execution_count": 105,
     "metadata": {},
     "output_type": "execute_result"
    }
   ],
   "source": [
    "str(trainers[0].model)"
   ]
  },
  {
   "cell_type": "code",
   "execution_count": 106,
   "metadata": {},
   "outputs": [
    {
     "data": {
      "text/plain": [
       "0.40537853543646635"
      ]
     },
     "execution_count": 106,
     "metadata": {},
     "output_type": "execute_result"
    }
   ],
   "source": [
    "eval_zeros(trainers[4].model)"
   ]
  },
  {
   "cell_type": "code",
   "execution_count": 107,
   "metadata": {},
   "outputs": [
    {
     "data": {
      "text/plain": [
       "0.8165743054310675"
      ]
     },
     "execution_count": 107,
     "metadata": {},
     "output_type": "execute_result"
    }
   ],
   "source": [
    "eval_zeros(trainers[0].model)"
   ]
  },
  {
   "cell_type": "code",
   "execution_count": 111,
   "metadata": {
    "scrolled": true
   },
   "outputs": [
    {
     "name": "stdout",
     "output_type": "stream",
     "text": [
      "0.8165743054310675 SumModel LinearModel 729 729 ConvNet hidden_layers:20 conv_block:<class 'sudoku_networks.ResidualConvBlock'> num_filters:240 is_large:False dropout_prob:0.2\n",
      "\n",
      "0.39222594136372213 ConvNet hidden_layers:30 conv_block:<class 'sudoku_networks.ResidualConvBlock'> num_filters:250 is_large:False dropout_prob:0.1\n",
      "\n",
      "0.48393348005483866 ConvNet hidden_layers:20 conv_block:<class 'sudoku_networks.ResidualConvBlock'> num_filters:220 is_large:False dropout_prob:0.8\n",
      "\n",
      "0.4457185095641762 ConvNet hidden_layers:24 conv_block:<class 'sudoku_networks.ResidualConvBlock'> num_filters:220 is_large:True dropout_prob:0.1\n",
      "\n",
      "0.40537853543646635 ConvNet hidden_layers:7 conv_block:<class 'sudoku_networks.ResidualConvBlock'> num_filters:220 is_large:True dropout_prob:0.1\n",
      "\n",
      "0.5865793522927564 SumModel LinearModel 729 729 ConvNet hidden_layers:7 conv_block:<class 'sudoku_networks.ResidualConvBlock'> num_filters:220 is_large:True dropout_prob:0.1\n",
      "\n",
      "1.0 SumModel LinearModel 729 729 ConvNet hidden_layers:7 conv_block:<class 'sudoku_networks.ResidualConvBlock'> num_filters:220 is_large:True dropout_prob:0.1\n",
      "\n",
      "0.5224835026839413 SumModel LinearModel 729 729 ConvNet hidden_layers:3 conv_block:<class 'sudoku_networks.ResidualConvBlock'> num_filters:220 is_large:True dropout_prob:0.1\n",
      "\n",
      "0.4254311592267187 ConvNet hidden_layers:3 conv_block:<class 'sudoku_networks.ResidualConvBlock'> num_filters:220 is_large:True dropout_prob:0.1\n",
      "\n",
      "1.0 ConvNet hidden_layers:3 conv_block:<class 'sudoku_networks.ResidualConvBlock'> num_filters:220 is_large:True dropout_prob:0.1\n",
      "\n",
      "0.491253542900086 ConvNet hidden_layers:3 conv_block:<class 'sudoku_networks.ResidualConvBlock'> num_filters:220 is_large:True dropout_prob:0.1\n",
      "\n",
      "0.9845525503158508 ResList ConvNet hidden_layers:3 conv_block:<class 'sudoku_networks.ResidualConvBlock'> num_filters:220 is_large:True dropout_prob:0.1 ConvNet hidden_layers:3 conv_block:<class 'sudoku_networks.ResidualConvBlock'> num_filters:220 is_large:True dropout_prob:0.1\n",
      "\n",
      "0.48313989029265986 NewConvNet hidden_layers:25 conv_block:<class 'sudoku_networks.ResidualConvBlock'> num_filters:220 is_large:True dropout_prob:0.1\n",
      "\n",
      "0.9951979517936086 ConvNet hidden_layers:7 conv_block:<class 'sudoku_networks.ResidualConvBlock'> num_filters:220 is_large:True dropout_prob:0.1\n",
      "\n",
      "0.37306238822638993 NewConvNet hidden_layers:25 conv_block:<class 'sudoku_networks.ResidualConvBlock'> num_filters:220 is_large:True dropout_prob:0.1\n",
      "\n",
      "0.47114303505513827 NewConvNet hidden_layers:7 conv_block:<class 'sudoku_networks.ResidualConvBlock'> num_filters:220 is_large:True dropout_prob:0.1\n",
      "\n",
      "0.49641809895401817 NewConvNet hidden_layers:6 conv_block:<class 'sudoku_networks.ResidualConvBlock'> num_filters:220 is_large:True dropout_prob:0.1\n",
      "\n",
      "0.007881240546703347 LinearModel 729 729\n",
      "\n",
      "0.14773537665605552 SumModel LinearModel 729 729 ConvNet hidden_layers:7 conv_block:<class 'sudoku_networks.ResidualConvBlock'> num_filters:220 is_large:True dropout_prob:0.1\n",
      "\n",
      "0.6173614060659023 SumModel LinearModel 729 729 ConvNet hidden_layers:20 conv_block:<class 'sudoku_networks.ResidualConvBlock'> num_filters:240 is_large:False dropout_prob:0.2\n",
      "\n"
     ]
    }
   ],
   "source": [
    "for i in range(20):\n",
    "    print(eval_zeros(trainers[i].model), str(trainers[i].model))\n",
    "    print()"
   ]
  },
  {
   "cell_type": "code",
   "execution_count": 112,
   "metadata": {
    "scrolled": false
   },
   "outputs": [],
   "source": [
    "\n",
    "\n",
    "def predict_puzzle_simulate(puzzle, model, num_sims=10):\n",
    "    \n",
    "    num_zeros = np.sum(puzzle == 0)\n",
    "    r = matrix_to_one_hot(puzzle)\n",
    "    for _ in range(num_zeros):\n",
    "        pred = simulate_solve(r, model, num_sims)\n",
    "        \n",
    "        r = pred + r\n",
    "        \n",
    "    r = one_hot_to_matrix(r)\n",
    "    return r\n",
    "\n",
    "def simulate_solve(puz, m, num_sims=100):\n",
    "    puz = puz.copy()\n",
    "    p = predict(puz, m)\n",
    "    \n",
    "    answers = []\n",
    "    \n",
    "    p = p / p.sum()\n",
    "    \n",
    "    selection = np.random.choice(np.arange(len(p)), p=p, size=num_sims)\n",
    "    \n",
    "    #selection = np.argsort(s)[-1*num_sims:]\n",
    "    \n",
    "    np.random.shuffle(selection)\n",
    "    \n",
    "    for s in selection:\n",
    "        puz[selection] = 1\n",
    "        \n",
    "        #p = matrix_to_one_hot(predict_puzzle(one_hot_to_matrix(puz), m))\n",
    "        answers.append(predict((puz), m))\n",
    "        \n",
    "        #answers += (p > 0.95)\n",
    "        \n",
    "        puz[selection] = 0\n",
    "    \n",
    "    #answers needs to get percentile b/c that is stable p20\n",
    "    answers = np.percentile(np.array(answers), 20, axis=0)\n",
    "    ret = np.zeros(len(p))\n",
    "    ret[np.argmax(answers)] = 1\n",
    "    return ret"
   ]
  },
  {
   "cell_type": "code",
   "execution_count": 16,
   "metadata": {},
   "outputs": [],
   "source": [
    "# generate predictions for a given board state\n",
    "# pick one at random as the assigned value\n",
    "# recurse"
   ]
  },
  {
   "cell_type": "code",
   "execution_count": 113,
   "metadata": {},
   "outputs": [],
   "source": [
    "def sudoku_walk(puz, m):\n",
    "    if (puz.reshape(9,81).sum(0) > 0).sum() == 81:\n",
    "        return puz\n",
    "    else:\n",
    "        p = predict(puz, m)\n",
    "        p = p / p.sum()\n",
    "        selection = np.random.choice(np.arange(len(p)), p=p, size=len(p))\n",
    "        puz = puz.copy()\n",
    "        puz[selection] = 1\n",
    "        return sudoku_walk(puz, m)"
   ]
  },
  {
   "cell_type": "code",
   "execution_count": 114,
   "metadata": {},
   "outputs": [],
   "source": [
    "def solve_sudoku_walk(puzzle, m):\n",
    "    puz = matrix_to_one_hot(puzzle)\n",
    "    \n",
    "    while not (puz.reshape(9,81).sum(0) > 0).sum() == 81:\n",
    "        \n",
    "        walks = np.array([sudoku_walk(puz,m) for x in range(100)])\n",
    "\n",
    "        walks = walks.sum(0) * (puz == 0)\n",
    "\n",
    "        puz[np.argmax(walks)] = 1\n",
    "    return one_hot_to_matrix(puz)"
   ]
  },
  {
   "cell_type": "code",
   "execution_count": 120,
   "metadata": {},
   "outputs": [],
   "source": [
    "r = eval_and_score_puzzle(\n",
    "                trainers[1].model, \n",
    "                'data/test_sudoku.csv', \n",
    "                solve_sudoku_walk)"
   ]
  },
  {
   "cell_type": "code",
   "execution_count": 121,
   "metadata": {},
   "outputs": [],
   "source": [
    "r2 = eval_and_score_puzzle(\n",
    "                trainers[1].model, \n",
    "                'data/test_sudoku.csv', \n",
    "                predict_puzzle)"
   ]
  },
  {
   "cell_type": "code",
   "execution_count": 119,
   "metadata": {},
   "outputs": [
    {
     "name": "stdout",
     "output_type": "stream",
     "text": [
      "0.7489540752726686\n",
      "0.7408260663829136\n"
     ]
    }
   ],
   "source": [
    "print(np.mean([v[0] / v[1] for v in r]))\n",
    "print(np.mean([v[0] / v[1] for v in r2]))"
   ]
  },
  {
   "cell_type": "code",
   "execution_count": null,
   "metadata": {},
   "outputs": [],
   "source": [
    "def simulate_solve(puz, m, num_zeros, num_sims=100, answers = []):\n",
    "    \n",
    "    \n",
    "    \n",
    "    p = predict(puz, m)\n",
    "    \n",
    "    if num_zeros == 1:\n",
    "        return [p]\n",
    "    else:\n",
    "        p = p / p.sum()\n",
    "    \n",
    "        selection = np.random.choice(num_sims, p=p, size=num_sims)\n",
    "        puz = puz.copy()\n",
    "        puz[selection] = 1\n",
    "        \n",
    "        simulate_solve(puz, m, num_zeros, num_sims=1, answers = [])\n",
    "        \n",
    "        #p = matrix_to_one_hot(predict_puzzle(one_hot_to_matrix(puz), m))\n",
    "        answers.append(predict((puz), m))\n",
    "        \n",
    "        #answers += (p > 0.95)\n",
    "        \n",
    "        puz[selection] = 0\n",
    "    \n",
    "    #answers needs to get percentile b/c that is stable p20\n",
    "    answers = np.percentile(np.array(answers), 20, axis=0)\n",
    "    ret = np.zeros(len(p))\n",
    "    ret[np.argmax(answers)] = 1\n",
    "    return ret"
   ]
  },
  {
   "cell_type": "code",
   "execution_count": 41,
   "metadata": {},
   "outputs": [],
   "source": [
    "k = np.array(simulate_solve(matrix_to_one_hot(kaggle_puz[6]),m, 50))"
   ]
  },
  {
   "cell_type": "code",
   "execution_count": 48,
   "metadata": {},
   "outputs": [],
   "source": [
    "k = predict_puzzle_simulate(kaggle_puz[6], m, 50)"
   ]
  },
  {
   "cell_type": "code",
   "execution_count": 49,
   "metadata": {},
   "outputs": [
    {
     "data": {
      "text/plain": [
       "array([[5, 7, 4, 9, 6, 1, 2, 3, 8],\n",
       "       [9, 1, 8, 3, 2, 7, 5, 4, 6],\n",
       "       [2, 6, 3, 8, 4, 5, 7, 9, 1],\n",
       "       [6, 8, 2, 1, 3, 4, 9, 5, 7],\n",
       "       [4, 3, 9, 5, 7, 6, 8, 1, 2],\n",
       "       [7, 5, 1, 2, 8, 9, 4, 6, 3],\n",
       "       [8, 9, 5, 6, 1, 2, 3, 7, 4],\n",
       "       [1, 2, 7, 4, 5, 3, 6, 8, 9],\n",
       "       [3, 4, 6, 7, 9, 8, 1, 2, 5]])"
      ]
     },
     "execution_count": 49,
     "metadata": {},
     "output_type": "execute_result"
    }
   ],
   "source": [
    "kaggle_sln[6]"
   ]
  },
  {
   "cell_type": "code",
   "execution_count": 50,
   "metadata": {},
   "outputs": [
    {
     "data": {
      "text/plain": [
       "array([[5, 7, 4, 9, 0, 1, 3, 2, 8],\n",
       "       [9, 1, 8, 3, 7, 2, 5, 0, 6],\n",
       "       [2, 6, 3, 8, 4, 5, 7, 9, 1],\n",
       "       [6, 0, 2, 1, 0, 4, 9, 5, 7],\n",
       "       [4, 3, 9, 0, 5, 0, 8, 1, 2],\n",
       "       [7, 5, 1, 2, 0, 9, 4, 6, 3],\n",
       "       [8, 9, 0, 4, 1, 6, 0, 7, 0],\n",
       "       [1, 4, 7, 5, 2, 3, 6, 8, 9],\n",
       "       [3, 2, 6, 7, 0, 8, 1, 0, 5]])"
      ]
     },
     "execution_count": 50,
     "metadata": {},
     "output_type": "execute_result"
    }
   ],
   "source": [
    "k "
   ]
  },
  {
   "cell_type": "code",
   "execution_count": null,
   "metadata": {},
   "outputs": [],
   "source": []
  },
  {
   "cell_type": "code",
   "execution_count": null,
   "metadata": {},
   "outputs": [],
   "source": []
  },
  {
   "cell_type": "code",
   "execution_count": null,
   "metadata": {},
   "outputs": [],
   "source": []
  },
  {
   "cell_type": "code",
   "execution_count": 111,
   "metadata": {},
   "outputs": [
    {
     "data": {
      "text/plain": [
       "55"
      ]
     },
     "execution_count": 111,
     "metadata": {},
     "output_type": "execute_result"
    }
   ],
   "source": [
    "(j == kaggle_sln[6]).sum()"
   ]
  },
  {
   "cell_type": "code",
   "execution_count": 204,
   "metadata": {},
   "outputs": [],
   "source": [
    "def eval_and_score_puzzle(model, file_name):\n",
    "    kaggle_puz = []\n",
    "    kaggle_sln = []\n",
    "    for i, line in enumerate(open(file_name, 'r').read().splitlines()):\n",
    "        try:\n",
    "            quiz, solution = line.split(\",\")\n",
    "            kaggle_puz.append([int(c) for c in quiz])\n",
    "            kaggle_sln.append([int(c) for c in solution])\n",
    "        except:\n",
    "            pass\n",
    "\n",
    "\n",
    "    kaggle_puz = np.array(kaggle_puz).reshape((-1, 9, 9))\n",
    "    kaggle_sln = np.array(kaggle_sln).reshape((-1, 9, 9))\n",
    "\n",
    "    scores = []\n",
    "    for puz, sln in zip(kaggle_puz, kaggle_sln):\n",
    "        p = predict_puzzle_recursive(puz, model)\n",
    "        score = accuracy(sln, puz, p)\n",
    "        scores.append(score)\n",
    "\n",
    "    #print(scores)\n",
    "    #print(np.mean(scores))\n",
    "    #print('')\n",
    "    return scores"
   ]
  },
  {
   "cell_type": "code",
   "execution_count": 206,
   "metadata": {},
   "outputs": [
    {
     "ename": "KeyboardInterrupt",
     "evalue": "",
     "output_type": "error",
     "traceback": [
      "\u001b[0;31m---------------------------------------------------------------------------\u001b[0m",
      "\u001b[0;31mKeyboardInterrupt\u001b[0m                         Traceback (most recent call last)",
      "\u001b[0;32m<ipython-input-206-6595135e4c22>\u001b[0m in \u001b[0;36m<module>\u001b[0;34m\u001b[0m\n\u001b[0;32m----> 1\u001b[0;31m \u001b[0mscores\u001b[0m \u001b[0;34m=\u001b[0m \u001b[0meval_and_score_puzzle\u001b[0m\u001b[0;34m(\u001b[0m\u001b[0mm\u001b[0m\u001b[0;34m,\u001b[0m \u001b[0mfile_name\u001b[0m\u001b[0;34m)\u001b[0m\u001b[0;34m\u001b[0m\u001b[0;34m\u001b[0m\u001b[0m\n\u001b[0m",
      "\u001b[0;32m<ipython-input-204-d725c340e6d7>\u001b[0m in \u001b[0;36meval_and_score_puzzle\u001b[0;34m(model, file_name)\u001b[0m\n\u001b[1;32m     16\u001b[0m     \u001b[0mscores\u001b[0m \u001b[0;34m=\u001b[0m \u001b[0;34m[\u001b[0m\u001b[0;34m]\u001b[0m\u001b[0;34m\u001b[0m\u001b[0;34m\u001b[0m\u001b[0m\n\u001b[1;32m     17\u001b[0m     \u001b[0;32mfor\u001b[0m \u001b[0mpuz\u001b[0m\u001b[0;34m,\u001b[0m \u001b[0msln\u001b[0m \u001b[0;32min\u001b[0m \u001b[0mzip\u001b[0m\u001b[0;34m(\u001b[0m\u001b[0mkaggle_puz\u001b[0m\u001b[0;34m,\u001b[0m \u001b[0mkaggle_sln\u001b[0m\u001b[0;34m)\u001b[0m\u001b[0;34m:\u001b[0m\u001b[0;34m\u001b[0m\u001b[0;34m\u001b[0m\u001b[0m\n\u001b[0;32m---> 18\u001b[0;31m         \u001b[0mp\u001b[0m \u001b[0;34m=\u001b[0m \u001b[0mpredict_puzzle_recursive\u001b[0m\u001b[0;34m(\u001b[0m\u001b[0mpuz\u001b[0m\u001b[0;34m,\u001b[0m \u001b[0mmodel\u001b[0m\u001b[0;34m)\u001b[0m\u001b[0;34m\u001b[0m\u001b[0;34m\u001b[0m\u001b[0m\n\u001b[0m\u001b[1;32m     19\u001b[0m         \u001b[0mscore\u001b[0m \u001b[0;34m=\u001b[0m \u001b[0maccuracy\u001b[0m\u001b[0;34m(\u001b[0m\u001b[0msln\u001b[0m\u001b[0;34m,\u001b[0m \u001b[0mpuz\u001b[0m\u001b[0;34m,\u001b[0m \u001b[0mp\u001b[0m\u001b[0;34m)\u001b[0m\u001b[0;34m\u001b[0m\u001b[0;34m\u001b[0m\u001b[0m\n\u001b[1;32m     20\u001b[0m         \u001b[0mscores\u001b[0m\u001b[0;34m.\u001b[0m\u001b[0mappend\u001b[0m\u001b[0;34m(\u001b[0m\u001b[0mscore\u001b[0m\u001b[0;34m)\u001b[0m\u001b[0;34m\u001b[0m\u001b[0;34m\u001b[0m\u001b[0m\n",
      "\u001b[0;32m<ipython-input-201-fa51c0ead6f8>\u001b[0m in \u001b[0;36mpredict_puzzle_recursive\u001b[0;34m(puzzle, model, num_sims)\u001b[0m\n\u001b[1;32m     27\u001b[0m     \u001b[0mr\u001b[0m \u001b[0;34m=\u001b[0m \u001b[0mmatrix_to_one_hot\u001b[0m\u001b[0;34m(\u001b[0m\u001b[0mpuzzle\u001b[0m\u001b[0;34m)\u001b[0m\u001b[0;34m\u001b[0m\u001b[0;34m\u001b[0m\u001b[0m\n\u001b[1;32m     28\u001b[0m     \u001b[0;32mfor\u001b[0m \u001b[0m_\u001b[0m \u001b[0;32min\u001b[0m \u001b[0mrange\u001b[0m\u001b[0;34m(\u001b[0m\u001b[0mnum_zeros\u001b[0m\u001b[0;34m)\u001b[0m\u001b[0;34m:\u001b[0m\u001b[0;34m\u001b[0m\u001b[0;34m\u001b[0m\u001b[0m\n\u001b[0;32m---> 29\u001b[0;31m         \u001b[0mpred\u001b[0m \u001b[0;34m=\u001b[0m \u001b[0mrecursive_solve\u001b[0m\u001b[0;34m(\u001b[0m\u001b[0mr\u001b[0m\u001b[0;34m,\u001b[0m \u001b[0mmodel\u001b[0m\u001b[0;34m,\u001b[0m \u001b[0mnum_sims\u001b[0m\u001b[0;34m)\u001b[0m\u001b[0;34m\u001b[0m\u001b[0;34m\u001b[0m\u001b[0m\n\u001b[0m\u001b[1;32m     30\u001b[0m \u001b[0;34m\u001b[0m\u001b[0m\n\u001b[1;32m     31\u001b[0m         \u001b[0mr\u001b[0m \u001b[0;34m=\u001b[0m \u001b[0mpred\u001b[0m \u001b[0;34m+\u001b[0m \u001b[0mr\u001b[0m\u001b[0;34m\u001b[0m\u001b[0;34m\u001b[0m\u001b[0m\n",
      "\u001b[0;32m<ipython-input-201-fa51c0ead6f8>\u001b[0m in \u001b[0;36mrecursive_solve\u001b[0;34m(puz, m, num_sims)\u001b[0m\n\u001b[1;32m     52\u001b[0m \u001b[0;34m\u001b[0m\u001b[0m\n\u001b[1;32m     53\u001b[0m         \u001b[0;31m#p = matrix_to_one_hot(predict_puzzle(one_hot_to_matrix(puz), m))\u001b[0m\u001b[0;34m\u001b[0m\u001b[0;34m\u001b[0m\u001b[0;34m\u001b[0m\u001b[0m\n\u001b[0;32m---> 54\u001b[0;31m         \u001b[0mp\u001b[0m \u001b[0;34m=\u001b[0m \u001b[0mpredict\u001b[0m\u001b[0;34m(\u001b[0m\u001b[0;34m(\u001b[0m\u001b[0mpuz\u001b[0m\u001b[0;34m)\u001b[0m\u001b[0;34m,\u001b[0m \u001b[0mm\u001b[0m\u001b[0;34m)\u001b[0m\u001b[0;34m\u001b[0m\u001b[0;34m\u001b[0m\u001b[0m\n\u001b[0m\u001b[1;32m     55\u001b[0m \u001b[0;34m\u001b[0m\u001b[0m\n\u001b[1;32m     56\u001b[0m         \u001b[0manswers\u001b[0m \u001b[0;34m+=\u001b[0m \u001b[0;34m(\u001b[0m\u001b[0mp\u001b[0m \u001b[0;34m>\u001b[0m \u001b[0;36m0.95\u001b[0m\u001b[0;34m)\u001b[0m\u001b[0;34m\u001b[0m\u001b[0;34m\u001b[0m\u001b[0m\n",
      "\u001b[0;32m<ipython-input-201-fa51c0ead6f8>\u001b[0m in \u001b[0;36mpredict\u001b[0;34m(puz, model)\u001b[0m\n\u001b[1;32m      1\u001b[0m \u001b[0;32mdef\u001b[0m \u001b[0mpredict\u001b[0m\u001b[0;34m(\u001b[0m\u001b[0mpuz\u001b[0m\u001b[0;34m,\u001b[0m \u001b[0mmodel\u001b[0m\u001b[0;34m)\u001b[0m\u001b[0;34m:\u001b[0m\u001b[0;34m\u001b[0m\u001b[0;34m\u001b[0m\u001b[0m\n\u001b[1;32m      2\u001b[0m     \u001b[0mmodel\u001b[0m\u001b[0;34m.\u001b[0m\u001b[0meval\u001b[0m\u001b[0;34m(\u001b[0m\u001b[0;34m)\u001b[0m\u001b[0;34m\u001b[0m\u001b[0;34m\u001b[0m\u001b[0m\n\u001b[0;32m----> 3\u001b[0;31m     \u001b[0mpredictions\u001b[0m \u001b[0;34m=\u001b[0m \u001b[0mmodel\u001b[0m\u001b[0;34m(\u001b[0m\u001b[0mVariable\u001b[0m\u001b[0;34m(\u001b[0m\u001b[0mtorch\u001b[0m\u001b[0;34m.\u001b[0m\u001b[0mcuda\u001b[0m\u001b[0;34m.\u001b[0m\u001b[0mFloatTensor\u001b[0m\u001b[0;34m(\u001b[0m\u001b[0;34m[\u001b[0m\u001b[0mpuz\u001b[0m\u001b[0;34m]\u001b[0m\u001b[0;34m)\u001b[0m\u001b[0;34m)\u001b[0m\u001b[0;34m)\u001b[0m\u001b[0;34m\u001b[0m\u001b[0;34m\u001b[0m\u001b[0m\n\u001b[0m\u001b[1;32m      4\u001b[0m     \u001b[0mpredictions\u001b[0m \u001b[0;34m=\u001b[0m \u001b[0mpredictions\u001b[0m\u001b[0;34m[\u001b[0m\u001b[0;36m0\u001b[0m\u001b[0;34m]\u001b[0m\u001b[0;34m\u001b[0m\u001b[0;34m\u001b[0m\u001b[0m\n\u001b[1;32m      5\u001b[0m \u001b[0;34m\u001b[0m\u001b[0m\n",
      "\u001b[0;32m~/anaconda3/lib/python3.7/site-packages/torch/nn/modules/module.py\u001b[0m in \u001b[0;36m__call__\u001b[0;34m(self, *input, **kwargs)\u001b[0m\n\u001b[1;32m    491\u001b[0m             \u001b[0mresult\u001b[0m \u001b[0;34m=\u001b[0m \u001b[0mself\u001b[0m\u001b[0;34m.\u001b[0m\u001b[0m_slow_forward\u001b[0m\u001b[0;34m(\u001b[0m\u001b[0;34m*\u001b[0m\u001b[0minput\u001b[0m\u001b[0;34m,\u001b[0m \u001b[0;34m**\u001b[0m\u001b[0mkwargs\u001b[0m\u001b[0;34m)\u001b[0m\u001b[0;34m\u001b[0m\u001b[0;34m\u001b[0m\u001b[0m\n\u001b[1;32m    492\u001b[0m         \u001b[0;32melse\u001b[0m\u001b[0;34m:\u001b[0m\u001b[0;34m\u001b[0m\u001b[0;34m\u001b[0m\u001b[0m\n\u001b[0;32m--> 493\u001b[0;31m             \u001b[0mresult\u001b[0m \u001b[0;34m=\u001b[0m \u001b[0mself\u001b[0m\u001b[0;34m.\u001b[0m\u001b[0mforward\u001b[0m\u001b[0;34m(\u001b[0m\u001b[0;34m*\u001b[0m\u001b[0minput\u001b[0m\u001b[0;34m,\u001b[0m \u001b[0;34m**\u001b[0m\u001b[0mkwargs\u001b[0m\u001b[0;34m)\u001b[0m\u001b[0;34m\u001b[0m\u001b[0;34m\u001b[0m\u001b[0m\n\u001b[0m\u001b[1;32m    494\u001b[0m         \u001b[0;32mfor\u001b[0m \u001b[0mhook\u001b[0m \u001b[0;32min\u001b[0m \u001b[0mself\u001b[0m\u001b[0;34m.\u001b[0m\u001b[0m_forward_hooks\u001b[0m\u001b[0;34m.\u001b[0m\u001b[0mvalues\u001b[0m\u001b[0;34m(\u001b[0m\u001b[0;34m)\u001b[0m\u001b[0;34m:\u001b[0m\u001b[0;34m\u001b[0m\u001b[0;34m\u001b[0m\u001b[0m\n\u001b[1;32m    495\u001b[0m             \u001b[0mhook_result\u001b[0m \u001b[0;34m=\u001b[0m \u001b[0mhook\u001b[0m\u001b[0;34m(\u001b[0m\u001b[0mself\u001b[0m\u001b[0;34m,\u001b[0m \u001b[0minput\u001b[0m\u001b[0;34m,\u001b[0m \u001b[0mresult\u001b[0m\u001b[0;34m)\u001b[0m\u001b[0;34m\u001b[0m\u001b[0;34m\u001b[0m\u001b[0m\n",
      "\u001b[0;32m~/Notebooks/deep_sudoku/sudoku_networks.py\u001b[0m in \u001b[0;36mforward\u001b[0;34m(self, x)\u001b[0m\n\u001b[1;32m    379\u001b[0m \u001b[0;34m\u001b[0m\u001b[0m\n\u001b[1;32m    380\u001b[0m         \u001b[0;32mfor\u001b[0m \u001b[0mop\u001b[0m \u001b[0;32min\u001b[0m \u001b[0mself\u001b[0m\u001b[0;34m.\u001b[0m\u001b[0mops\u001b[0m\u001b[0;34m:\u001b[0m\u001b[0;34m\u001b[0m\u001b[0;34m\u001b[0m\u001b[0m\n\u001b[0;32m--> 381\u001b[0;31m             \u001b[0mdeep_x\u001b[0m \u001b[0;34m=\u001b[0m \u001b[0mop\u001b[0m\u001b[0;34m(\u001b[0m\u001b[0mdeep_x\u001b[0m\u001b[0;34m)\u001b[0m\u001b[0;34m\u001b[0m\u001b[0;34m\u001b[0m\u001b[0m\n\u001b[0m\u001b[1;32m    382\u001b[0m \u001b[0;34m\u001b[0m\u001b[0m\n\u001b[1;32m    383\u001b[0m         \u001b[0mdeep_x\u001b[0m \u001b[0;34m=\u001b[0m \u001b[0mdeep_x\u001b[0m\u001b[0;34m.\u001b[0m\u001b[0mreshape\u001b[0m\u001b[0;34m(\u001b[0m\u001b[0;34m-\u001b[0m\u001b[0;36m1\u001b[0m\u001b[0;34m,\u001b[0m \u001b[0mself\u001b[0m\u001b[0;34m.\u001b[0m\u001b[0mlayer_size\u001b[0m\u001b[0;34m)\u001b[0m\u001b[0;34m\u001b[0m\u001b[0;34m\u001b[0m\u001b[0m\n",
      "\u001b[0;32m~/anaconda3/lib/python3.7/site-packages/torch/nn/modules/module.py\u001b[0m in \u001b[0;36m__call__\u001b[0;34m(self, *input, **kwargs)\u001b[0m\n\u001b[1;32m    491\u001b[0m             \u001b[0mresult\u001b[0m \u001b[0;34m=\u001b[0m \u001b[0mself\u001b[0m\u001b[0;34m.\u001b[0m\u001b[0m_slow_forward\u001b[0m\u001b[0;34m(\u001b[0m\u001b[0;34m*\u001b[0m\u001b[0minput\u001b[0m\u001b[0;34m,\u001b[0m \u001b[0;34m**\u001b[0m\u001b[0mkwargs\u001b[0m\u001b[0;34m)\u001b[0m\u001b[0;34m\u001b[0m\u001b[0;34m\u001b[0m\u001b[0m\n\u001b[1;32m    492\u001b[0m         \u001b[0;32melse\u001b[0m\u001b[0;34m:\u001b[0m\u001b[0;34m\u001b[0m\u001b[0;34m\u001b[0m\u001b[0m\n\u001b[0;32m--> 493\u001b[0;31m             \u001b[0mresult\u001b[0m \u001b[0;34m=\u001b[0m \u001b[0mself\u001b[0m\u001b[0;34m.\u001b[0m\u001b[0mforward\u001b[0m\u001b[0;34m(\u001b[0m\u001b[0;34m*\u001b[0m\u001b[0minput\u001b[0m\u001b[0;34m,\u001b[0m \u001b[0;34m**\u001b[0m\u001b[0mkwargs\u001b[0m\u001b[0;34m)\u001b[0m\u001b[0;34m\u001b[0m\u001b[0;34m\u001b[0m\u001b[0m\n\u001b[0m\u001b[1;32m    494\u001b[0m         \u001b[0;32mfor\u001b[0m \u001b[0mhook\u001b[0m \u001b[0;32min\u001b[0m \u001b[0mself\u001b[0m\u001b[0;34m.\u001b[0m\u001b[0m_forward_hooks\u001b[0m\u001b[0;34m.\u001b[0m\u001b[0mvalues\u001b[0m\u001b[0;34m(\u001b[0m\u001b[0;34m)\u001b[0m\u001b[0;34m:\u001b[0m\u001b[0;34m\u001b[0m\u001b[0;34m\u001b[0m\u001b[0m\n\u001b[1;32m    495\u001b[0m             \u001b[0mhook_result\u001b[0m \u001b[0;34m=\u001b[0m \u001b[0mhook\u001b[0m\u001b[0;34m(\u001b[0m\u001b[0mself\u001b[0m\u001b[0;34m,\u001b[0m \u001b[0minput\u001b[0m\u001b[0;34m,\u001b[0m \u001b[0mresult\u001b[0m\u001b[0;34m)\u001b[0m\u001b[0;34m\u001b[0m\u001b[0;34m\u001b[0m\u001b[0m\n",
      "\u001b[0;32m~/Notebooks/deep_sudoku/sudoku_networks.py\u001b[0m in \u001b[0;36mforward\u001b[0;34m(self, x)\u001b[0m\n\u001b[1;32m    537\u001b[0m \u001b[0;34m\u001b[0m\u001b[0m\n\u001b[1;32m    538\u001b[0m         \u001b[0mdeep_x\u001b[0m \u001b[0;34m=\u001b[0m \u001b[0mself\u001b[0m\u001b[0;34m.\u001b[0m\u001b[0mconv1\u001b[0m\u001b[0;34m(\u001b[0m\u001b[0mdeep_x\u001b[0m\u001b[0;34m)\u001b[0m\u001b[0;34m\u001b[0m\u001b[0;34m\u001b[0m\u001b[0m\n\u001b[0;32m--> 539\u001b[0;31m         \u001b[0mdeep_x\u001b[0m \u001b[0;34m=\u001b[0m \u001b[0mself\u001b[0m\u001b[0;34m.\u001b[0m\u001b[0mbatch1\u001b[0m\u001b[0;34m(\u001b[0m\u001b[0mdeep_x\u001b[0m\u001b[0;34m)\u001b[0m\u001b[0;34m\u001b[0m\u001b[0;34m\u001b[0m\u001b[0m\n\u001b[0m\u001b[1;32m    540\u001b[0m         \u001b[0mdeep_x\u001b[0m \u001b[0;34m=\u001b[0m \u001b[0mself\u001b[0m\u001b[0;34m.\u001b[0m\u001b[0mrelu\u001b[0m\u001b[0;34m(\u001b[0m\u001b[0mdeep_x\u001b[0m\u001b[0;34m)\u001b[0m\u001b[0;34m\u001b[0m\u001b[0;34m\u001b[0m\u001b[0m\n\u001b[1;32m    541\u001b[0m         \u001b[0mdeep_x\u001b[0m \u001b[0;34m=\u001b[0m \u001b[0mself\u001b[0m\u001b[0;34m.\u001b[0m\u001b[0mconv2\u001b[0m\u001b[0;34m(\u001b[0m\u001b[0mdeep_x\u001b[0m\u001b[0;34m)\u001b[0m\u001b[0;34m\u001b[0m\u001b[0;34m\u001b[0m\u001b[0m\n",
      "\u001b[0;32m~/anaconda3/lib/python3.7/site-packages/torch/nn/modules/module.py\u001b[0m in \u001b[0;36m__call__\u001b[0;34m(self, *input, **kwargs)\u001b[0m\n\u001b[1;32m    491\u001b[0m             \u001b[0mresult\u001b[0m \u001b[0;34m=\u001b[0m \u001b[0mself\u001b[0m\u001b[0;34m.\u001b[0m\u001b[0m_slow_forward\u001b[0m\u001b[0;34m(\u001b[0m\u001b[0;34m*\u001b[0m\u001b[0minput\u001b[0m\u001b[0;34m,\u001b[0m \u001b[0;34m**\u001b[0m\u001b[0mkwargs\u001b[0m\u001b[0;34m)\u001b[0m\u001b[0;34m\u001b[0m\u001b[0;34m\u001b[0m\u001b[0m\n\u001b[1;32m    492\u001b[0m         \u001b[0;32melse\u001b[0m\u001b[0;34m:\u001b[0m\u001b[0;34m\u001b[0m\u001b[0;34m\u001b[0m\u001b[0m\n\u001b[0;32m--> 493\u001b[0;31m             \u001b[0mresult\u001b[0m \u001b[0;34m=\u001b[0m \u001b[0mself\u001b[0m\u001b[0;34m.\u001b[0m\u001b[0mforward\u001b[0m\u001b[0;34m(\u001b[0m\u001b[0;34m*\u001b[0m\u001b[0minput\u001b[0m\u001b[0;34m,\u001b[0m \u001b[0;34m**\u001b[0m\u001b[0mkwargs\u001b[0m\u001b[0;34m)\u001b[0m\u001b[0;34m\u001b[0m\u001b[0;34m\u001b[0m\u001b[0m\n\u001b[0m\u001b[1;32m    494\u001b[0m         \u001b[0;32mfor\u001b[0m \u001b[0mhook\u001b[0m \u001b[0;32min\u001b[0m \u001b[0mself\u001b[0m\u001b[0;34m.\u001b[0m\u001b[0m_forward_hooks\u001b[0m\u001b[0;34m.\u001b[0m\u001b[0mvalues\u001b[0m\u001b[0;34m(\u001b[0m\u001b[0;34m)\u001b[0m\u001b[0;34m:\u001b[0m\u001b[0;34m\u001b[0m\u001b[0;34m\u001b[0m\u001b[0m\n\u001b[1;32m    495\u001b[0m             \u001b[0mhook_result\u001b[0m \u001b[0;34m=\u001b[0m \u001b[0mhook\u001b[0m\u001b[0;34m(\u001b[0m\u001b[0mself\u001b[0m\u001b[0;34m,\u001b[0m \u001b[0minput\u001b[0m\u001b[0;34m,\u001b[0m \u001b[0mresult\u001b[0m\u001b[0;34m)\u001b[0m\u001b[0;34m\u001b[0m\u001b[0;34m\u001b[0m\u001b[0m\n",
      "\u001b[0;32m~/anaconda3/lib/python3.7/site-packages/torch/nn/modules/batchnorm.py\u001b[0m in \u001b[0;36mforward\u001b[0;34m(self, input)\u001b[0m\n\u001b[1;32m     81\u001b[0m             \u001b[0minput\u001b[0m\u001b[0;34m,\u001b[0m \u001b[0mself\u001b[0m\u001b[0;34m.\u001b[0m\u001b[0mrunning_mean\u001b[0m\u001b[0;34m,\u001b[0m \u001b[0mself\u001b[0m\u001b[0;34m.\u001b[0m\u001b[0mrunning_var\u001b[0m\u001b[0;34m,\u001b[0m \u001b[0mself\u001b[0m\u001b[0;34m.\u001b[0m\u001b[0mweight\u001b[0m\u001b[0;34m,\u001b[0m \u001b[0mself\u001b[0m\u001b[0;34m.\u001b[0m\u001b[0mbias\u001b[0m\u001b[0;34m,\u001b[0m\u001b[0;34m\u001b[0m\u001b[0;34m\u001b[0m\u001b[0m\n\u001b[1;32m     82\u001b[0m             \u001b[0mself\u001b[0m\u001b[0;34m.\u001b[0m\u001b[0mtraining\u001b[0m \u001b[0;32mor\u001b[0m \u001b[0;32mnot\u001b[0m \u001b[0mself\u001b[0m\u001b[0;34m.\u001b[0m\u001b[0mtrack_running_stats\u001b[0m\u001b[0;34m,\u001b[0m\u001b[0;34m\u001b[0m\u001b[0;34m\u001b[0m\u001b[0m\n\u001b[0;32m---> 83\u001b[0;31m             exponential_average_factor, self.eps)\n\u001b[0m\u001b[1;32m     84\u001b[0m \u001b[0;34m\u001b[0m\u001b[0m\n\u001b[1;32m     85\u001b[0m     \u001b[0;32mdef\u001b[0m \u001b[0mextra_repr\u001b[0m\u001b[0;34m(\u001b[0m\u001b[0mself\u001b[0m\u001b[0;34m)\u001b[0m\u001b[0;34m:\u001b[0m\u001b[0;34m\u001b[0m\u001b[0;34m\u001b[0m\u001b[0m\n",
      "\u001b[0;32m~/anaconda3/lib/python3.7/site-packages/torch/nn/functional.py\u001b[0m in \u001b[0;36mbatch_norm\u001b[0;34m(input, running_mean, running_var, weight, bias, training, momentum, eps)\u001b[0m\n\u001b[1;32m   1695\u001b[0m     return torch.batch_norm(\n\u001b[1;32m   1696\u001b[0m         \u001b[0minput\u001b[0m\u001b[0;34m,\u001b[0m \u001b[0mweight\u001b[0m\u001b[0;34m,\u001b[0m \u001b[0mbias\u001b[0m\u001b[0;34m,\u001b[0m \u001b[0mrunning_mean\u001b[0m\u001b[0;34m,\u001b[0m \u001b[0mrunning_var\u001b[0m\u001b[0;34m,\u001b[0m\u001b[0;34m\u001b[0m\u001b[0;34m\u001b[0m\u001b[0m\n\u001b[0;32m-> 1697\u001b[0;31m         \u001b[0mtraining\u001b[0m\u001b[0;34m,\u001b[0m \u001b[0mmomentum\u001b[0m\u001b[0;34m,\u001b[0m \u001b[0meps\u001b[0m\u001b[0;34m,\u001b[0m \u001b[0mtorch\u001b[0m\u001b[0;34m.\u001b[0m\u001b[0mbackends\u001b[0m\u001b[0;34m.\u001b[0m\u001b[0mcudnn\u001b[0m\u001b[0;34m.\u001b[0m\u001b[0menabled\u001b[0m\u001b[0;34m\u001b[0m\u001b[0;34m\u001b[0m\u001b[0m\n\u001b[0m\u001b[1;32m   1698\u001b[0m     )\n\u001b[1;32m   1699\u001b[0m \u001b[0;34m\u001b[0m\u001b[0m\n",
      "\u001b[0;31mKeyboardInterrupt\u001b[0m: "
     ]
    }
   ],
   "source": [
    "scores = eval_and_score_puzzle(m, file_name)"
   ]
  },
  {
   "cell_type": "code",
   "execution_count": null,
   "metadata": {},
   "outputs": [],
   "source": []
  },
  {
   "cell_type": "code",
   "execution_count": 95,
   "metadata": {},
   "outputs": [
    {
     "data": {
      "text/plain": [
       "array([[5, 0, 0, 9, 0, 1, 0, 0, 8],\n",
       "       [0, 0, 8, 0, 0, 0, 5, 0, 0],\n",
       "       [0, 6, 0, 0, 4, 0, 0, 9, 0],\n",
       "       [6, 0, 0, 1, 0, 4, 0, 0, 7],\n",
       "       [0, 0, 9, 0, 0, 0, 8, 0, 0],\n",
       "       [7, 0, 0, 2, 0, 9, 0, 0, 3],\n",
       "       [0, 9, 0, 0, 1, 0, 0, 7, 0],\n",
       "       [0, 0, 7, 0, 0, 0, 6, 0, 0],\n",
       "       [3, 0, 0, 7, 0, 8, 0, 0, 5]])"
      ]
     },
     "execution_count": 95,
     "metadata": {},
     "output_type": "execute_result"
    }
   ],
   "source": [
    "kaggle_puz[6]"
   ]
  },
  {
   "cell_type": "code",
   "execution_count": 96,
   "metadata": {},
   "outputs": [
    {
     "data": {
      "text/plain": [
       "array([[5, 7, 4, 9, 6, 1, 2, 3, 8],\n",
       "       [9, 1, 8, 3, 2, 7, 5, 4, 6],\n",
       "       [2, 6, 3, 8, 4, 5, 7, 9, 1],\n",
       "       [6, 8, 2, 1, 3, 4, 9, 5, 7],\n",
       "       [4, 3, 9, 5, 7, 6, 8, 1, 2],\n",
       "       [7, 5, 1, 2, 8, 9, 4, 6, 3],\n",
       "       [8, 9, 5, 6, 1, 2, 3, 7, 4],\n",
       "       [1, 2, 7, 4, 5, 3, 6, 8, 9],\n",
       "       [3, 4, 6, 7, 9, 8, 1, 2, 5]])"
      ]
     },
     "execution_count": 96,
     "metadata": {},
     "output_type": "execute_result"
    }
   ],
   "source": [
    "kaggle_sln[6]"
   ]
  },
  {
   "cell_type": "code",
   "execution_count": 80,
   "metadata": {},
   "outputs": [
    {
     "data": {
      "text/plain": [
       "array([[5, 7, 4, 9, 3, 1, 2, 6, 8],\n",
       "       [9, 1, 8, 6, 7, 2, 5, 3, 4],\n",
       "       [2, 6, 3, 8, 4, 5, 7, 9, 1],\n",
       "       [6, 3, 5, 1, 8, 4, 9, 2, 7],\n",
       "       [4, 2, 9, 3, 5, 7, 8, 1, 6],\n",
       "       [7, 8, 1, 2, 6, 9, 4, 5, 3],\n",
       "       [8, 9, 4, 5, 1, 6, 3, 7, 2],\n",
       "       [1, 5, 7, 4, 2, 3, 6, 8, 9],\n",
       "       [3, 2, 6, 7, 9, 8, 1, 4, 5]])"
      ]
     },
     "execution_count": 80,
     "metadata": {},
     "output_type": "execute_result"
    }
   ],
   "source": [
    "one_hot_to_matrix(recursive_solve(matrix_to_one_hot(kaggle_puz[6]), m) > 0)"
   ]
  },
  {
   "cell_type": "code",
   "execution_count": 81,
   "metadata": {},
   "outputs": [
    {
     "data": {
      "text/plain": [
       "array([[5, 7, 4, 9, 6, 1, 2, 3, 8],\n",
       "       [9, 1, 8, 3, 2, 7, 5, 4, 6],\n",
       "       [2, 6, 3, 8, 4, 5, 7, 9, 1],\n",
       "       [6, 8, 2, 1, 3, 4, 9, 5, 7],\n",
       "       [4, 3, 9, 5, 7, 6, 8, 1, 2],\n",
       "       [7, 5, 1, 2, 8, 9, 4, 6, 3],\n",
       "       [8, 9, 5, 6, 1, 2, 3, 7, 4],\n",
       "       [1, 2, 7, 4, 5, 3, 6, 8, 9],\n",
       "       [3, 4, 6, 7, 9, 8, 1, 2, 5]])"
      ]
     },
     "execution_count": 81,
     "metadata": {},
     "output_type": "execute_result"
    }
   ],
   "source": []
  },
  {
   "cell_type": "code",
   "execution_count": 52,
   "metadata": {},
   "outputs": [
    {
     "data": {
      "text/plain": [
       "1.0"
      ]
     },
     "execution_count": 52,
     "metadata": {},
     "output_type": "execute_result"
    }
   ],
   "source": [
    "predict(puz, m).sum()"
   ]
  },
  {
   "cell_type": "code",
   "execution_count": 50,
   "metadata": {},
   "outputs": [],
   "source": [
    "s = s / s.sum()\n",
    "selection = np.random.choice(np.arange(len(s)), p=s)"
   ]
  },
  {
   "cell_type": "code",
   "execution_count": 51,
   "metadata": {},
   "outputs": [
    {
     "data": {
      "text/plain": [
       "182"
      ]
     },
     "execution_count": 51,
     "metadata": {},
     "output_type": "execute_result"
    }
   ],
   "source": [
    "selection"
   ]
  },
  {
   "cell_type": "code",
   "execution_count": 24,
   "metadata": {},
   "outputs": [
    {
     "name": "stdout",
     "output_type": "stream",
     "text": [
      "[[ 5  0  0  9  0  1  0  0  8]\n",
      " [ 0  0  8  0  0  0  5  0  0]\n",
      " [ 0  6  0  8  4  0  7  9  0]\n",
      " [ 6  0  0  1  0  4  0  0  7]\n",
      " [ 0  0  9  0  0  0  8  0  0]\n",
      " [ 7 -8  0  2  0  9  0  0  3]\n",
      " [ 0  9  0  0  1  0  0  7  0]\n",
      " [ 0  0  7  0  0  0  6  8  0]\n",
      " [ 3  0  0  7  0  8  0  0  5]]\n",
      "[[5 7 4 9 6 1 2 3 8]\n",
      " [9 1 8 3 2 7 5 4 6]\n",
      " [2 6 3 8 4 5 7 9 1]\n",
      " [6 8 2 1 3 4 9 5 7]\n",
      " [4 3 9 5 7 6 8 1 2]\n",
      " [7 5 1 2 8 9 4 6 3]\n",
      " [8 9 5 6 1 2 3 7 4]\n",
      " [1 2 7 4 5 3 6 8 9]\n",
      " [3 4 6 7 9 8 1 2 5]]\n",
      "[[ True  True  True  True False  True  True False  True]\n",
      " [ True  True  True False False False  True False False]\n",
      " [ True  True  True  True  True  True  True  True  True]\n",
      " [ True False  True  True False  True  True  True  True]\n",
      " [ True False  True False False False  True False False]\n",
      " [ True False  True  True False  True  True False  True]\n",
      " [ True  True  True False  True False  True  True False]\n",
      " [ True False  True False False  True  True  True  True]\n",
      " [ True False  True  True  True  True  True False  True]]\n"
     ]
    }
   ],
   "source": [
    "r, p  = predict_puzzle_until_wrong(kaggle_puz[6], kaggle_sln[6], m)\n",
    "#print(predict_puzzle(kaggle_puz[6], m))\n",
    "print(r)\n",
    "print(kaggle_sln[6])\n",
    "\n",
    "print(kaggle_sln[6] == predict_puzzle(r, m))"
   ]
  },
  {
   "cell_type": "code",
   "execution_count": null,
   "metadata": {},
   "outputs": [],
   "source": []
  },
  {
   "cell_type": "code",
   "execution_count": null,
   "metadata": {},
   "outputs": [],
   "source": []
  },
  {
   "cell_type": "code",
   "execution_count": 81,
   "metadata": {},
   "outputs": [],
   "source": [
    "puzzle = np.array([[ 5 , 0,  0,  9,  0,  1,  0,  0,  8],\n",
    " [0  ,0 , 8 , 0 , 0 , 0 , 5 , 0 , 0],\n",
    " [ 0  ,6,  0,  0,  4,  0,  0,  9,  0],\n",
    " [ 6  ,0,  0,  1,  0,  4,  0,  0,  7],\n",
    " [ 0  ,0,  9,  0,  0,  0,  8,  0,  0],\n",
    " [ 7  ,0,  0,  2,  0,  9,  0,  0,  3],\n",
    " [ 0  ,9,  0,  0,  1,  0,  0,  7,  0],\n",
    " [ 0  ,0,  7,  0,  0,  0,  6,  0,  0],\n",
    " [ 3  ,0,  0,  7,  0,  8,  0,  0,  5]\n",
    "             ])\n",
    "\n",
    "answer = kaggle_sln[6]"
   ]
  },
  {
   "cell_type": "code",
   "execution_count": 78,
   "metadata": {},
   "outputs": [],
   "source": [
    "#one_hot_to_matrix(predict_best(), m))"
   ]
  },
  {
   "cell_type": "code",
   "execution_count": 94,
   "metadata": {},
   "outputs": [
    {
     "data": {
      "text/plain": [
       "array([[5, 7, 4, 9, 6, 1, 2, 3, 8],\n",
       "       [9, 1, 8, 3, 2, 7, 5, 4, 6],\n",
       "       [2, 6, 3, 8, 4, 5, 7, 9, 1],\n",
       "       [6, 8, 2, 1, 3, 4, 9, 5, 7],\n",
       "       [4, 3, 9, 5, 7, 6, 8, 1, 2],\n",
       "       [7, 5, 1, 2, 8, 9, 4, 6, 3],\n",
       "       [8, 9, 5, 6, 1, 2, 3, 7, 4],\n",
       "       [1, 2, 7, 4, 5, 3, 6, 8, 9],\n",
       "       [3, 4, 6, 7, 9, 8, 1, 2, 5]])"
      ]
     },
     "execution_count": 94,
     "metadata": {},
     "output_type": "execute_result"
    }
   ],
   "source": [
    "answer"
   ]
  },
  {
   "cell_type": "code",
   "execution_count": 74,
   "metadata": {},
   "outputs": [
    {
     "data": {
      "text/plain": [
       "array([[5, 7, 4, 9, 6, 1, 2, 3, 8],\n",
       "       [9, 1, 8, 3, 2, 7, 5, 4, 6],\n",
       "       [2, 6, 3, 8, 4, 5, 7, 9, 1],\n",
       "       [6, 8, 2, 1, 3, 4, 9, 5, 7],\n",
       "       [4, 3, 9, 5, 7, 6, 8, 1, 2],\n",
       "       [7, 5, 1, 2, 8, 9, 4, 6, 3],\n",
       "       [8, 9, 5, 6, 1, 2, 3, 7, 4],\n",
       "       [1, 2, 7, 4, 5, 3, 6, 8, 9],\n",
       "       [3, 4, 6, 7, 9, 8, 1, 2, 5]])"
      ]
     },
     "execution_count": 74,
     "metadata": {},
     "output_type": "execute_result"
    }
   ],
   "source": [
    "kaggle_sln[6]"
   ]
  },
  {
   "cell_type": "code",
   "execution_count": 65,
   "metadata": {},
   "outputs": [
    {
     "name": "stdout",
     "output_type": "stream",
     "text": [
      "[[ 5  0  0  9  0  1  0  0  8]\n",
      " [-9  0  8  0  0  0  5  0  0]\n",
      " [ 0  6  0  0  4  0  0  9  0]\n",
      " [ 6  0  0  1  0  4  0  0  7]\n",
      " [ 0  0  9  0  0  0  8  0  0]\n",
      " [ 7  0  0  2  0  9  0  0  3]\n",
      " [ 0  9  0  0  1  0  0  7  0]\n",
      " [ 0  0  7  0  0  0  6  0  0]\n",
      " [ 3  0  0  7  0  8  0  0  5]]\n",
      "[[5 7 4 9 6 1 2 3 8]\n",
      " [9 1 8 3 2 7 5 4 6]\n",
      " [2 6 3 8 4 5 7 9 1]\n",
      " [6 8 2 1 3 4 9 5 7]\n",
      " [4 3 9 5 7 6 8 1 2]\n",
      " [7 5 1 2 8 9 4 6 3]\n",
      " [8 9 5 6 1 2 3 7 4]\n",
      " [1 2 7 4 5 3 6 8 9]\n",
      " [3 4 6 7 9 8 1 2 5]]\n",
      "[[ True False  True  True False  True False False  True]\n",
      " [ True False  True  True  True False  True  True False]\n",
      " [False  True  True  True  True  True  True  True False]\n",
      " [ True  True False  True  True  True  True False  True]\n",
      " [False  True  True False False False  True  True False]\n",
      " [ True False  True  True  True  True False False  True]\n",
      " [False  True False False  True False False  True False]\n",
      " [False False  True  True False False  True False False]\n",
      " [ True False False  True False  True False False  True]]\n"
     ]
    }
   ],
   "source": [
    "r, p  = predict_puzzle_until_wrong(kaggle_puz[6], kaggle_sln[6], m)\n",
    "#print(predict_puzzle(kaggle_puz[6], m))\n",
    "print(r)\n",
    "print(kaggle_sln[6])\n",
    "\n",
    "print(kaggle_sln[6] == predict_puzzle(r, m))"
   ]
  },
  {
   "cell_type": "code",
   "execution_count": 57,
   "metadata": {},
   "outputs": [
    {
     "name": "stdout",
     "output_type": "stream",
     "text": [
      "[[ 5  0  0  9  0  1  0  0  8]\n",
      " [ 0  0  8  0  0  0  5  0 -1]\n",
      " [ 0  6  0  0  4  0  0  9  0]\n",
      " [ 6  0  0  1  0  4  0  0  7]\n",
      " [ 0  0  9  0  0  0  8  0  0]\n",
      " [ 7  0  0  2  0  9  0  0  3]\n",
      " [ 0  9  0  0  1  0  0  7  0]\n",
      " [ 0  0  7  0  0  0  6  0  0]\n",
      " [ 3  0  0  7  0  8  0  0  5]]\n",
      "\n",
      "[[5 0 0 9 0 1 0 0 8]\n",
      " [0 0 8 0 0 0 5 0 0]\n",
      " [0 6 0 0 4 0 0 9 0]\n",
      " [6 0 0 1 0 4 0 0 7]\n",
      " [0 0 9 0 0 0 8 0 0]\n",
      " [7 0 0 2 0 9 0 0 3]\n",
      " [0 9 0 0 1 0 0 7 0]\n",
      " [0 0 7 0 0 0 6 0 0]\n",
      " [3 0 0 7 0 8 0 0 5]]\n",
      "\n",
      "[[5 7 4 9 6 1 2 3 8]\n",
      " [9 1 8 3 2 7 5 4 6]\n",
      " [2 6 3 8 4 5 7 9 1]\n",
      " [6 8 2 1 3 4 9 5 7]\n",
      " [4 3 9 5 7 6 8 1 2]\n",
      " [7 5 1 2 8 9 4 6 3]\n",
      " [8 9 5 6 1 2 3 7 4]\n",
      " [1 2 7 4 5 3 6 8 9]\n",
      " [3 4 6 7 9 8 1 2 5]]\n"
     ]
    }
   ],
   "source": [
    "r, p = predict_puzzle_until_wrong(kaggle_puz[6], kaggle_sln[6], m)\n",
    "print(r)\n",
    "print()\n",
    "print(p)\n",
    "print()\n",
    "print(kaggle_sln[6])"
   ]
  },
  {
   "cell_type": "code",
   "execution_count": 93,
   "metadata": {},
   "outputs": [
    {
     "data": {
      "text/plain": [
       "0.5094339622641509"
      ]
     },
     "execution_count": 93,
     "metadata": {},
     "output_type": "execute_result"
    }
   ],
   "source": [
    "scores[6]"
   ]
  },
  {
   "cell_type": "code",
   "execution_count": 87,
   "metadata": {},
   "outputs": [
    {
     "name": "stdout",
     "output_type": "stream",
     "text": [
      "[[5 7 4 9 3 1 2 6 8]\n",
      " [9 1 8 6 7 2 5 3 4]\n",
      " [2 6 3 8 4 5 7 9 1]\n",
      " [6 3 5 1 8 4 9 2 7]\n",
      " [4 2 9 3 5 7 8 1 6]\n",
      " [7 8 1 2 6 9 4 5 3]\n",
      " [8 9 2 5 1 6 3 7 2]\n",
      " [1 5 7 4 2 3 6 8 9]\n",
      " [3 4 6 7 9 8 1 4 5]]\n",
      "\n",
      "[[5 7 4 9 6 1 2 3 8]\n",
      " [9 1 8 3 2 7 5 4 6]\n",
      " [2 6 3 8 4 5 7 9 1]\n",
      " [6 8 2 1 3 4 9 5 7]\n",
      " [4 3 9 5 7 6 8 1 2]\n",
      " [7 5 1 2 8 9 4 6 3]\n",
      " [8 9 5 6 1 2 3 7 4]\n",
      " [1 2 7 4 5 3 6 8 9]\n",
      " [3 4 6 7 9 8 1 2 5]]\n"
     ]
    }
   ],
   "source": [
    "print(predict_puzzle(kaggle_puz[6], ))\n",
    "print()\n",
    "print(kaggle_sln[6])"
   ]
  },
  {
   "cell_type": "code",
   "execution_count": null,
   "metadata": {},
   "outputs": [],
   "source": []
  },
  {
   "cell_type": "code",
   "execution_count": 73,
   "metadata": {},
   "outputs": [
    {
     "name": "stdout",
     "output_type": "stream",
     "text": [
      "NetSharedLayer 0.1 729 729 729 False\n",
      "0.6202714483136892\n",
      "[0.8723404255319149, 1.0, 0.851063829787234, 0.6666666666666666, 1.0, 0.7608695652173914, 0.5094339622641509, 0.38181818181818183, 0.509090909090909, 0.6981132075471698, 0.5384615384615384, 0.7321428571428571, 0.35714285714285715, 0.5454545454545454, 0.4727272727272727, 0.5964912280701754, 0.36363636363636365, 0.5178571428571429, 0.4107142857142857, 0.6, 0.7962962962962963, 0.38181818181818183, 0.34545454545454546, 0.42592592592592593, 0.98, 0.66, 0.673469387755102, 0.49056603773584906, 1.0, 0.47058823529411764]\n",
      "\n"
     ]
    },
    {
     "ename": "AttributeError",
     "evalue": "'collections.OrderedDict' object has no attribute 'cuda'",
     "output_type": "error",
     "traceback": [
      "\u001b[0;31m---------------------------------------------------------------------------\u001b[0m",
      "\u001b[0;31mAttributeError\u001b[0m                            Traceback (most recent call last)",
      "\u001b[0;32m<ipython-input-73-7ba93dd932c9>\u001b[0m in \u001b[0;36m<module>\u001b[0;34m\u001b[0m\n\u001b[1;32m      3\u001b[0m \u001b[0;32mfor\u001b[0m \u001b[0mmodel_name\u001b[0m \u001b[0;32min\u001b[0m \u001b[0mdisk_mods\u001b[0m\u001b[0;34m:\u001b[0m\u001b[0;34m\u001b[0m\u001b[0;34m\u001b[0m\u001b[0m\n\u001b[1;32m      4\u001b[0m     \u001b[0mmodel\u001b[0m \u001b[0;34m=\u001b[0m \u001b[0mtorch\u001b[0m\u001b[0;34m.\u001b[0m\u001b[0mload\u001b[0m\u001b[0;34m(\u001b[0m\u001b[0mmodel_name\u001b[0m\u001b[0;34m)\u001b[0m\u001b[0;34m\u001b[0m\u001b[0;34m\u001b[0m\u001b[0m\n\u001b[0;32m----> 5\u001b[0;31m     \u001b[0mmodel\u001b[0m\u001b[0;34m.\u001b[0m\u001b[0mcuda\u001b[0m\u001b[0;34m(\u001b[0m\u001b[0;34m)\u001b[0m\u001b[0;34m\u001b[0m\u001b[0;34m\u001b[0m\u001b[0m\n\u001b[0m\u001b[1;32m      6\u001b[0m     \u001b[0mprint\u001b[0m\u001b[0;34m(\u001b[0m\u001b[0mstr\u001b[0m\u001b[0;34m(\u001b[0m\u001b[0mmodel\u001b[0m\u001b[0;34m)\u001b[0m\u001b[0;34m)\u001b[0m\u001b[0;34m\u001b[0m\u001b[0;34m\u001b[0m\u001b[0m\n\u001b[1;32m      7\u001b[0m     \u001b[0mz\u001b[0m \u001b[0;34m=\u001b[0m \u001b[0;34m[\u001b[0m\u001b[0mx\u001b[0m\u001b[0;34m*\u001b[0m\u001b[0;36m1.0\u001b[0m\u001b[0;34m/\u001b[0m\u001b[0my\u001b[0m \u001b[0;32mfor\u001b[0m \u001b[0mx\u001b[0m\u001b[0;34m,\u001b[0m\u001b[0my\u001b[0m \u001b[0;32min\u001b[0m \u001b[0meval_and_score_puzzle\u001b[0m\u001b[0;34m(\u001b[0m\u001b[0mmodel\u001b[0m\u001b[0;34m,\u001b[0m \u001b[0;34m'data/test_sudoku.csv'\u001b[0m\u001b[0;34m)\u001b[0m\u001b[0;34m]\u001b[0m\u001b[0;34m\u001b[0m\u001b[0;34m\u001b[0m\u001b[0m\n",
      "\u001b[0;31mAttributeError\u001b[0m: 'collections.OrderedDict' object has no attribute 'cuda'"
     ]
    }
   ],
   "source": [
    "disk_mods = !ls *.mdl\n",
    "\n",
    "for model_name in disk_mods:\n",
    "    model = torch.load(model_name)\n",
    "    model.cuda()\n",
    "    print(str(model))\n",
    "    z = [x*1.0/y for x,y in eval_and_score_puzzle(model, 'data/test_sudoku.csv')]\n",
    "    print(np.average(z))\n",
    "    print(z)\n",
    "    print()\n",
    "\n"
   ]
  },
  {
   "cell_type": "code",
   "execution_count": 68,
   "metadata": {},
   "outputs": [
    {
     "ename": "NameError",
     "evalue": "name 'big_conv_net_result' is not defined",
     "output_type": "error",
     "traceback": [
      "\u001b[0;31m---------------------------------------------------------------------------\u001b[0m",
      "\u001b[0;31mNameError\u001b[0m                                 Traceback (most recent call last)",
      "\u001b[0;32m<ipython-input-68-8d9b2e9c03b1>\u001b[0m in \u001b[0;36m<module>\u001b[0;34m\u001b[0m\n\u001b[0;32m----> 1\u001b[0;31m \u001b[0mm_name\u001b[0m\u001b[0;34m,\u001b[0m \u001b[0mlr\u001b[0m\u001b[0;34m,\u001b[0m \u001b[0mtr\u001b[0m\u001b[0;34m,\u001b[0m \u001b[0mmodel\u001b[0m \u001b[0;34m=\u001b[0m \u001b[0mbig_conv_net_result\u001b[0m\u001b[0;34m\u001b[0m\u001b[0;34m\u001b[0m\u001b[0m\n\u001b[0m\u001b[1;32m      2\u001b[0m \u001b[0;34m\u001b[0m\u001b[0m\n\u001b[1;32m      3\u001b[0m \u001b[0mplt\u001b[0m\u001b[0;34m.\u001b[0m\u001b[0mplot\u001b[0m\u001b[0;34m(\u001b[0m\u001b[0mtr\u001b[0m\u001b[0;34m,\u001b[0m \u001b[0mlr\u001b[0m\u001b[0;34m,\u001b[0m \u001b[0mlabel\u001b[0m\u001b[0;34m=\u001b[0m\u001b[0;34m'net'\u001b[0m\u001b[0;34m)\u001b[0m\u001b[0;34m\u001b[0m\u001b[0;34m\u001b[0m\u001b[0m\n\u001b[1;32m      4\u001b[0m \u001b[0;34m\u001b[0m\u001b[0m\n\u001b[1;32m      5\u001b[0m \u001b[0mplt\u001b[0m\u001b[0;34m.\u001b[0m\u001b[0mlegend\u001b[0m\u001b[0;34m(\u001b[0m\u001b[0;34m)\u001b[0m\u001b[0;34m\u001b[0m\u001b[0;34m\u001b[0m\u001b[0m\n",
      "\u001b[0;31mNameError\u001b[0m: name 'big_conv_net_result' is not defined"
     ]
    }
   ],
   "source": [
    "m_name, lr, tr, model = big_conv_net_result\n",
    "\n",
    "plt.plot(tr, lr, label='net')\n",
    "\n",
    "plt.legend()\n",
    "\n",
    "eval_and_score_puzzle(model)"
   ]
  },
  {
   "cell_type": "code",
   "execution_count": null,
   "metadata": {},
   "outputs": [],
   "source": []
  },
  {
   "cell_type": "code",
   "execution_count": null,
   "metadata": {},
   "outputs": [],
   "source": []
  },
  {
   "cell_type": "code",
   "execution_count": null,
   "metadata": {},
   "outputs": [],
   "source": []
  },
  {
   "cell_type": "code",
   "execution_count": 11,
   "metadata": {},
   "outputs": [
    {
     "data": {
      "text/plain": [
       "ComplexNetShared(\n",
       "  (conv_channels): Linear(in_features=81, out_features=108, bias=True)\n",
       "  (conv_rows): Linear(in_features=81, out_features=108, bias=True)\n",
       "  (conv_cols): Linear(in_features=81, out_features=108, bias=True)\n",
       "  (ops): ListModule(\n",
       "    (0): Linear(in_features=2916, out_features=2916, bias=True)\n",
       "    (1): BatchNorm1d(2916, eps=1e-05, momentum=0.1, affine=True, track_running_stats=True)\n",
       "    (2): LeakyReLU(negative_slope=0.01)\n",
       "    (3): Dropout(p=0.2)\n",
       "    (4): Linear(in_features=2916, out_features=2916, bias=True)\n",
       "    (5): BatchNorm1d(2916, eps=1e-05, momentum=0.1, affine=True, track_running_stats=True)\n",
       "    (6): LeakyReLU(negative_slope=0.01)\n",
       "    (7): Dropout(p=0.2)\n",
       "    (8): Linear(in_features=2916, out_features=2916, bias=True)\n",
       "    (9): BatchNorm1d(2916, eps=1e-05, momentum=0.1, affine=True, track_running_stats=True)\n",
       "    (10): LeakyReLU(negative_slope=0.01)\n",
       "    (11): Dropout(p=0.2)\n",
       "    (12): Linear(in_features=2916, out_features=2916, bias=True)\n",
       "    (13): BatchNorm1d(2916, eps=1e-05, momentum=0.1, affine=True, track_running_stats=True)\n",
       "    (14): LeakyReLU(negative_slope=0.01)\n",
       "    (15): Dropout(p=0.2)\n",
       "    (16): Linear(in_features=2916, out_features=2916, bias=True)\n",
       "    (17): BatchNorm1d(2916, eps=1e-05, momentum=0.1, affine=True, track_running_stats=True)\n",
       "    (18): LeakyReLU(negative_slope=0.01)\n",
       "    (19): Dropout(p=0.2)\n",
       "    (20): Linear(in_features=2916, out_features=2916, bias=True)\n",
       "    (21): BatchNorm1d(2916, eps=1e-05, momentum=0.1, affine=True, track_running_stats=True)\n",
       "    (22): LeakyReLU(negative_slope=0.01)\n",
       "    (23): Dropout(p=0.2)\n",
       "    (24): Linear(in_features=2916, out_features=2916, bias=True)\n",
       "    (25): BatchNorm1d(2916, eps=1e-05, momentum=0.1, affine=True, track_running_stats=True)\n",
       "    (26): LeakyReLU(negative_slope=0.01)\n",
       "    (27): Dropout(p=0.2)\n",
       "    (28): Linear(in_features=2916, out_features=729, bias=True)\n",
       "  )\n",
       ")"
      ]
     },
     "execution_count": 11,
     "metadata": {},
     "output_type": "execute_result"
    }
   ],
   "source": [
    "complex_net_shared = None\n",
    "torch.cuda.empty_cache()\n",
    "\n",
    "complex_net_shared = ComplexNetShared(hidden_size*2, dropout_prob, n_hidden=7)\n",
    "complex_net_shared.cuda()\n",
    "\n"
   ]
  },
  {
   "cell_type": "code",
   "execution_count": 12,
   "metadata": {},
   "outputs": [
    {
     "data": {
      "text/plain": [
       "61735689"
      ]
     },
     "execution_count": 12,
     "metadata": {},
     "output_type": "execute_result"
    }
   ],
   "source": [
    "total_params(complex_net_shared)"
   ]
  },
  {
   "cell_type": "code",
   "execution_count": null,
   "metadata": {},
   "outputs": [],
   "source": [
    "complex_net_shared_result = run_training(file_name, complex_net_shared, num_examples, \n",
    "                                         epochs, batch_size)  "
   ]
  },
  {
   "cell_type": "code",
   "execution_count": 14,
   "metadata": {},
   "outputs": [
    {
     "name": "stdout",
     "output_type": "stream",
     "text": [
      "[0.4444444444444444, 0.6170212765957447, 0.6888888888888889, 0.2978723404255319, 0.5869565217391305, 0.49056603773584906, 0.36363636363636365, 0.41818181818181815, 0.3018867924528302, 0.25, 0.4107142857142857, 0.6071428571428571, 0.21818181818181817, 0.32727272727272727, 0.49122807017543857, 0.18181818181818182, 0.2857142857142857, 0.23214285714285715, 0.38181818181818183, 0.35185185185185186, 0.32727272727272727, 0.45454545454545453, 0.42592592592592593, 0.48, 0.52, 0.5918367346938775, 0.32075471698113206, 0.5294117647058824, 0.37254901960784315]\n",
      "0.41274606705744576\n",
      "\n"
     ]
    },
    {
     "data": {
      "image/png": "[encoded data removed]",
      "text/plain": [
       "<Figure size 432x288 with 1 Axes>"
      ]
     },
     "metadata": {
      "needs_background": "light"
     },
     "output_type": "display_data"
    }
   ],
   "source": [
    "m_name, lr, tr, model = complex_net_shared_result\n",
    "\n",
    "plt.plot(tr, lr, label='net')\n",
    "\n",
    "plt.legend()\n",
    "\n",
    "eval_and_score_puzzle(model)"
   ]
  },
  {
   "cell_type": "code",
   "execution_count": null,
   "metadata": {},
   "outputs": [],
   "source": []
  },
  {
   "cell_type": "code",
   "execution_count": null,
   "metadata": {},
   "outputs": [],
   "source": []
  },
  {
   "cell_type": "code",
   "execution_count": null,
   "metadata": {},
   "outputs": [],
   "source": []
  },
  {
   "cell_type": "code",
   "execution_count": 4,
   "metadata": {},
   "outputs": [
    {
     "ename": "NameError",
     "evalue": "name 'complex_net_shared_result' is not defined",
     "output_type": "error",
     "traceback": [
      "\u001b[0;31m------------------------------------------------------------------\u001b[0m",
      "\u001b[0;31mNameError\u001b[0m                        Traceback (most recent call last)",
      "\u001b[0;32m<ipython-input-4-eba6fc8dcafb>\u001b[0m in \u001b[0;36m<module>\u001b[0;34m()\u001b[0m\n\u001b[0;32m----> 1\u001b[0;31m \u001b[0mm_name\u001b[0m\u001b[0;34m,\u001b[0m \u001b[0mlr\u001b[0m\u001b[0;34m,\u001b[0m \u001b[0mtr\u001b[0m\u001b[0;34m,\u001b[0m \u001b[0mmodel\u001b[0m \u001b[0;34m=\u001b[0m \u001b[0mcomplex_net_shared_result\u001b[0m\u001b[0;34m\u001b[0m\u001b[0m\n\u001b[0m\u001b[1;32m      2\u001b[0m \u001b[0;34m\u001b[0m\u001b[0m\n\u001b[1;32m      3\u001b[0m \u001b[0mplt\u001b[0m\u001b[0;34m.\u001b[0m\u001b[0mplot\u001b[0m\u001b[0;34m(\u001b[0m\u001b[0mtr\u001b[0m\u001b[0;34m,\u001b[0m \u001b[0mlr\u001b[0m\u001b[0;34m,\u001b[0m \u001b[0mlabel\u001b[0m\u001b[0;34m=\u001b[0m\u001b[0;34m'net'\u001b[0m\u001b[0;34m)\u001b[0m\u001b[0;34m\u001b[0m\u001b[0m\n\u001b[1;32m      4\u001b[0m \u001b[0;34m\u001b[0m\u001b[0m\n\u001b[1;32m      5\u001b[0m \u001b[0mplt\u001b[0m\u001b[0;34m.\u001b[0m\u001b[0mlegend\u001b[0m\u001b[0;34m(\u001b[0m\u001b[0;34m)\u001b[0m\u001b[0;34m\u001b[0m\u001b[0m\n",
      "\u001b[0;31mNameError\u001b[0m: name 'complex_net_shared_result' is not defined"
     ]
    }
   ],
   "source": [
    "m_name, lr, tr, model = complex_net_shared_result\n",
    "\n",
    "plt.plot(tr, lr, label='net')\n",
    "\n",
    "plt.legend()\n",
    "\n",
    "eval_and_score_puzzle(model)"
   ]
  },
  {
   "cell_type": "code",
   "execution_count": null,
   "metadata": {},
   "outputs": [],
   "source": []
  },
  {
   "cell_type": "code",
   "execution_count": null,
   "metadata": {},
   "outputs": [],
   "source": []
  },
  {
   "cell_type": "code",
   "execution_count": null,
   "metadata": {},
   "outputs": [],
   "source": []
  },
  {
   "cell_type": "code",
   "execution_count": null,
   "metadata": {},
   "outputs": [],
   "source": []
  },
  {
   "cell_type": "code",
   "execution_count": 19,
   "metadata": {},
   "outputs": [
    {
     "data": {
      "text/plain": [
       "NetShared(\n",
       "  (conv): Linear(in_features=81, out_features=405, bias=True)\n",
       "  (ops): ListModule(\n",
       "    (0): Linear(in_features=3645, out_features=3645, bias=True)\n",
       "    (1): BatchNorm1d(3645, eps=1e-05, momentum=0.1, affine=True, track_running_stats=True)\n",
       "    (2): LeakyReLU(negative_slope=0.01)\n",
       "    (3): Dropout(p=0.2)\n",
       "    (4): Linear(in_features=3645, out_features=3645, bias=True)\n",
       "    (5): BatchNorm1d(3645, eps=1e-05, momentum=0.1, affine=True, track_running_stats=True)\n",
       "    (6): LeakyReLU(negative_slope=0.01)\n",
       "    (7): Dropout(p=0.2)\n",
       "    (8): Linear(in_features=3645, out_features=729, bias=True)\n",
       "  )\n",
       ")"
      ]
     },
     "execution_count": 19,
     "metadata": {},
     "output_type": "execute_result"
    }
   ],
   "source": [
    "net_shared = None\n",
    "torch.cuda.empty_cache()\n",
    "\n",
    "net_shared = NetShared(hidden_size*2.5, dropout_prob, n_hidden=2)\n",
    "net_shared.cuda()\n",
    "\n"
   ]
  },
  {
   "cell_type": "code",
   "execution_count": 20,
   "metadata": {},
   "outputs": [
    {
     "data": {
      "text/plain": [
       "29285064"
      ]
     },
     "execution_count": 20,
     "metadata": {},
     "output_type": "execute_result"
    }
   ],
   "source": [
    "total_params(net_shared)"
   ]
  },
  {
   "cell_type": "code",
   "execution_count": 21,
   "metadata": {},
   "outputs": [],
   "source": [
    "net_shared_result = run_training(file_name, net_shared, num_examples, \n",
    "                                 epochs, batch_size)  "
   ]
  },
  {
   "cell_type": "code",
   "execution_count": 3,
   "metadata": {},
   "outputs": [
    {
     "ename": "NameError",
     "evalue": "name 'net_shared_result' is not defined",
     "output_type": "error",
     "traceback": [
      "\u001b[0;31m------------------------------------------------------------------\u001b[0m",
      "\u001b[0;31mNameError\u001b[0m                        Traceback (most recent call last)",
      "\u001b[0;32m<ipython-input-3-df599aa01bcb>\u001b[0m in \u001b[0;36m<module>\u001b[0;34m()\u001b[0m\n\u001b[0;32m----> 1\u001b[0;31m \u001b[0mm_name\u001b[0m\u001b[0;34m,\u001b[0m \u001b[0mlr\u001b[0m\u001b[0;34m,\u001b[0m \u001b[0mtr\u001b[0m\u001b[0;34m,\u001b[0m \u001b[0mmodel\u001b[0m \u001b[0;34m=\u001b[0m \u001b[0mnet_shared_result\u001b[0m\u001b[0;34m\u001b[0m\u001b[0m\n\u001b[0m\u001b[1;32m      2\u001b[0m \u001b[0;34m\u001b[0m\u001b[0m\n\u001b[1;32m      3\u001b[0m \u001b[0mplt\u001b[0m\u001b[0;34m.\u001b[0m\u001b[0mplot\u001b[0m\u001b[0;34m(\u001b[0m\u001b[0mtr\u001b[0m\u001b[0;34m,\u001b[0m \u001b[0mlr\u001b[0m\u001b[0;34m,\u001b[0m \u001b[0mlabel\u001b[0m\u001b[0;34m=\u001b[0m\u001b[0;34m'net'\u001b[0m\u001b[0;34m)\u001b[0m\u001b[0;34m\u001b[0m\u001b[0m\n\u001b[1;32m      4\u001b[0m \u001b[0;34m\u001b[0m\u001b[0m\n\u001b[1;32m      5\u001b[0m \u001b[0mplt\u001b[0m\u001b[0;34m.\u001b[0m\u001b[0mlegend\u001b[0m\u001b[0;34m(\u001b[0m\u001b[0;34m)\u001b[0m\u001b[0;34m\u001b[0m\u001b[0m\n",
      "\u001b[0;31mNameError\u001b[0m: name 'net_shared_result' is not defined"
     ]
    }
   ],
   "source": [
    "m_name, lr, tr, model = net_shared_result\n",
    "\n",
    "plt.plot(tr, lr, label='net')\n",
    "\n",
    "plt.legend()\n",
    "\n",
    "eval_and_score_puzzle(model)"
   ]
  },
  {
   "cell_type": "code",
   "execution_count": null,
   "metadata": {},
   "outputs": [],
   "source": []
  },
  {
   "cell_type": "code",
   "execution_count": 15,
   "metadata": {},
   "outputs": [
    {
     "data": {
      "text/plain": [
       "tensor([[ 0.,  1.,  2.,  3.,  4.,  5.,  6.,  7.,  8.],\n",
       "        [ 9., 10., 11., 12., 13., 14., 15., 16., 17.],\n",
       "        [18., 19., 20., 21., 22., 23., 24., 25., 26.],\n",
       "        [27., 28., 29., 30., 31., 32., 33., 34., 35.],\n",
       "        [36., 37., 38., 39., 40., 41., 42., 43., 44.],\n",
       "        [45., 46., 47., 48., 49., 50., 51., 52., 53.],\n",
       "        [54., 55., 56., 57., 58., 59., 60., 61., 62.],\n",
       "        [63., 64., 65., 66., 67., 68., 69., 70., 71.],\n",
       "        [72., 73., 74., 75., 76., 77., 78., 79., 80.]])"
      ]
     },
     "execution_count": 15,
     "metadata": {},
     "output_type": "execute_result"
    }
   ],
   "source": [
    "t = torch.Tensor(np.arange(9*9))\n",
    "\n",
    "t.reshape((9,9))"
   ]
  },
  {
   "cell_type": "code",
   "execution_count": null,
   "metadata": {},
   "outputs": [],
   "source": [
    "t.reshape((9,9,9))"
   ]
  },
  {
   "cell_type": "code",
   "execution_count": null,
   "metadata": {},
   "outputs": [],
   "source": [
    "t.permute(0, 1, 2)\n",
    "t.permute(-1, 1, 0, 2)\n",
    "t.permute(2, 0, 1)"
   ]
  },
  {
   "cell_type": "code",
   "execution_count": 11,
   "metadata": {},
   "outputs": [
    {
     "data": {
      "text/plain": [
       "tensor([[[0.4072, 0.5258, 0.3542, 0.3137],\n",
       "         [0.4614, 0.6550, 0.6532, 0.5277]],\n",
       "\n",
       "        [[0.6607, 0.8509, 0.4967, 0.4520],\n",
       "         [0.5637, 0.9027, 0.8473, 0.4883]],\n",
       "\n",
       "        [[0.1746, 0.1333, 0.6512, 0.1272],\n",
       "         [0.7436, 0.3915, 0.6714, 0.9985]]])"
      ]
     },
     "execution_count": 11,
     "metadata": {},
     "output_type": "execute_result"
    }
   ],
   "source": [
    "t.permute(1, 0, 2)"
   ]
  },
  {
   "cell_type": "code",
   "execution_count": 15,
   "metadata": {},
   "outputs": [
    {
     "ename": "RuntimeError",
     "evalue": "CUDA error: out of memory",
     "output_type": "error",
     "traceback": [
      "\u001b[0;31m------------------------------------------------------------------\u001b[0m",
      "\u001b[0;31mRuntimeError\u001b[0m                     Traceback (most recent call last)",
      "\u001b[0;32m<ipython-input-15-d90c5c60457c>\u001b[0m in \u001b[0;36m<module>\u001b[0;34m()\u001b[0m\n\u001b[1;32m      2\u001b[0m \u001b[0mtorch\u001b[0m\u001b[0;34m.\u001b[0m\u001b[0mcuda\u001b[0m\u001b[0;34m.\u001b[0m\u001b[0mempty_cache\u001b[0m\u001b[0;34m(\u001b[0m\u001b[0;34m)\u001b[0m\u001b[0;34m\u001b[0m\u001b[0m\n\u001b[1;32m      3\u001b[0m \u001b[0mshared_conv_net\u001b[0m \u001b[0;34m=\u001b[0m \u001b[0mSharedConvNet\u001b[0m\u001b[0;34m(\u001b[0m\u001b[0;36m7\u001b[0m\u001b[0;34m,\u001b[0m \u001b[0;36m300\u001b[0m\u001b[0;34m,\u001b[0m \u001b[0mdropout_prob\u001b[0m\u001b[0;34m,\u001b[0m \u001b[0;32mTrue\u001b[0m\u001b[0;34m)\u001b[0m\u001b[0;34m\u001b[0m\u001b[0m\n\u001b[0;32m----> 4\u001b[0;31m \u001b[0mshared_conv_net\u001b[0m\u001b[0;34m.\u001b[0m\u001b[0mcuda\u001b[0m\u001b[0;34m(\u001b[0m\u001b[0;34m)\u001b[0m\u001b[0;34m\u001b[0m\u001b[0m\n\u001b[0m",
      "\u001b[0;32m~/anaconda3/lib/python3.7/site-packages/torch/nn/modules/module.py\u001b[0m in \u001b[0;36mcuda\u001b[0;34m(self, device)\u001b[0m\n\u001b[1;32m    256\u001b[0m             \u001b[0mModule\u001b[0m\u001b[0;34m:\u001b[0m \u001b[0mself\u001b[0m\u001b[0;34m\u001b[0m\u001b[0m\n\u001b[1;32m    257\u001b[0m         \"\"\"\n\u001b[0;32m--> 258\u001b[0;31m         \u001b[0;32mreturn\u001b[0m \u001b[0mself\u001b[0m\u001b[0;34m.\u001b[0m\u001b[0m_apply\u001b[0m\u001b[0;34m(\u001b[0m\u001b[0;32mlambda\u001b[0m \u001b[0mt\u001b[0m\u001b[0;34m:\u001b[0m \u001b[0mt\u001b[0m\u001b[0;34m.\u001b[0m\u001b[0mcuda\u001b[0m\u001b[0;34m(\u001b[0m\u001b[0mdevice\u001b[0m\u001b[0;34m)\u001b[0m\u001b[0;34m)\u001b[0m\u001b[0;34m\u001b[0m\u001b[0m\n\u001b[0m\u001b[1;32m    259\u001b[0m \u001b[0;34m\u001b[0m\u001b[0m\n\u001b[1;32m    260\u001b[0m     \u001b[0;32mdef\u001b[0m \u001b[0mcpu\u001b[0m\u001b[0;34m(\u001b[0m\u001b[0mself\u001b[0m\u001b[0;34m)\u001b[0m\u001b[0;34m:\u001b[0m\u001b[0;34m\u001b[0m\u001b[0m\n",
      "\u001b[0;32m~/anaconda3/lib/python3.7/site-packages/torch/nn/modules/module.py\u001b[0m in \u001b[0;36m_apply\u001b[0;34m(self, fn)\u001b[0m\n\u001b[1;32m    183\u001b[0m     \u001b[0;32mdef\u001b[0m \u001b[0m_apply\u001b[0m\u001b[0;34m(\u001b[0m\u001b[0mself\u001b[0m\u001b[0;34m,\u001b[0m \u001b[0mfn\u001b[0m\u001b[0;34m)\u001b[0m\u001b[0;34m:\u001b[0m\u001b[0;34m\u001b[0m\u001b[0m\n\u001b[1;32m    184\u001b[0m         \u001b[0;32mfor\u001b[0m \u001b[0mmodule\u001b[0m \u001b[0;32min\u001b[0m \u001b[0mself\u001b[0m\u001b[0;34m.\u001b[0m\u001b[0mchildren\u001b[0m\u001b[0;34m(\u001b[0m\u001b[0;34m)\u001b[0m\u001b[0;34m:\u001b[0m\u001b[0;34m\u001b[0m\u001b[0m\n\u001b[0;32m--> 185\u001b[0;31m             \u001b[0mmodule\u001b[0m\u001b[0;34m.\u001b[0m\u001b[0m_apply\u001b[0m\u001b[0;34m(\u001b[0m\u001b[0mfn\u001b[0m\u001b[0;34m)\u001b[0m\u001b[0;34m\u001b[0m\u001b[0m\n\u001b[0m\u001b[1;32m    186\u001b[0m \u001b[0;34m\u001b[0m\u001b[0m\n\u001b[1;32m    187\u001b[0m         \u001b[0;32mfor\u001b[0m \u001b[0mparam\u001b[0m \u001b[0;32min\u001b[0m \u001b[0mself\u001b[0m\u001b[0;34m.\u001b[0m\u001b[0m_parameters\u001b[0m\u001b[0;34m.\u001b[0m\u001b[0mvalues\u001b[0m\u001b[0;34m(\u001b[0m\u001b[0;34m)\u001b[0m\u001b[0;34m:\u001b[0m\u001b[0;34m\u001b[0m\u001b[0m\n",
      "\u001b[0;32m~/anaconda3/lib/python3.7/site-packages/torch/nn/modules/module.py\u001b[0m in \u001b[0;36m_apply\u001b[0;34m(self, fn)\u001b[0m\n\u001b[1;32m    189\u001b[0m                 \u001b[0;31m# Tensors stored in modules are graph leaves, and we don't\u001b[0m\u001b[0;34m\u001b[0m\u001b[0;34m\u001b[0m\u001b[0m\n\u001b[1;32m    190\u001b[0m                 \u001b[0;31m# want to create copy nodes, so we have to unpack the data.\u001b[0m\u001b[0;34m\u001b[0m\u001b[0;34m\u001b[0m\u001b[0m\n\u001b[0;32m--> 191\u001b[0;31m                 \u001b[0mparam\u001b[0m\u001b[0;34m.\u001b[0m\u001b[0mdata\u001b[0m \u001b[0;34m=\u001b[0m \u001b[0mfn\u001b[0m\u001b[0;34m(\u001b[0m\u001b[0mparam\u001b[0m\u001b[0;34m.\u001b[0m\u001b[0mdata\u001b[0m\u001b[0;34m)\u001b[0m\u001b[0;34m\u001b[0m\u001b[0m\n\u001b[0m\u001b[1;32m    192\u001b[0m                 \u001b[0;32mif\u001b[0m \u001b[0mparam\u001b[0m\u001b[0;34m.\u001b[0m\u001b[0m_grad\u001b[0m \u001b[0;32mis\u001b[0m \u001b[0;32mnot\u001b[0m \u001b[0;32mNone\u001b[0m\u001b[0;34m:\u001b[0m\u001b[0;34m\u001b[0m\u001b[0m\n\u001b[1;32m    193\u001b[0m                     \u001b[0mparam\u001b[0m\u001b[0;34m.\u001b[0m\u001b[0m_grad\u001b[0m\u001b[0;34m.\u001b[0m\u001b[0mdata\u001b[0m \u001b[0;34m=\u001b[0m \u001b[0mfn\u001b[0m\u001b[0;34m(\u001b[0m\u001b[0mparam\u001b[0m\u001b[0;34m.\u001b[0m\u001b[0m_grad\u001b[0m\u001b[0;34m.\u001b[0m\u001b[0mdata\u001b[0m\u001b[0;34m)\u001b[0m\u001b[0;34m\u001b[0m\u001b[0m\n",
      "\u001b[0;32m~/anaconda3/lib/python3.7/site-packages/torch/nn/modules/module.py\u001b[0m in \u001b[0;36m<lambda>\u001b[0;34m(t)\u001b[0m\n\u001b[1;32m    256\u001b[0m             \u001b[0mModule\u001b[0m\u001b[0;34m:\u001b[0m \u001b[0mself\u001b[0m\u001b[0;34m\u001b[0m\u001b[0m\n\u001b[1;32m    257\u001b[0m         \"\"\"\n\u001b[0;32m--> 258\u001b[0;31m         \u001b[0;32mreturn\u001b[0m \u001b[0mself\u001b[0m\u001b[0;34m.\u001b[0m\u001b[0m_apply\u001b[0m\u001b[0;34m(\u001b[0m\u001b[0;32mlambda\u001b[0m \u001b[0mt\u001b[0m\u001b[0;34m:\u001b[0m \u001b[0mt\u001b[0m\u001b[0;34m.\u001b[0m\u001b[0mcuda\u001b[0m\u001b[0;34m(\u001b[0m\u001b[0mdevice\u001b[0m\u001b[0;34m)\u001b[0m\u001b[0;34m)\u001b[0m\u001b[0;34m\u001b[0m\u001b[0m\n\u001b[0m\u001b[1;32m    259\u001b[0m \u001b[0;34m\u001b[0m\u001b[0m\n\u001b[1;32m    260\u001b[0m     \u001b[0;32mdef\u001b[0m \u001b[0mcpu\u001b[0m\u001b[0;34m(\u001b[0m\u001b[0mself\u001b[0m\u001b[0;34m)\u001b[0m\u001b[0;34m:\u001b[0m\u001b[0;34m\u001b[0m\u001b[0m\n",
      "\u001b[0;31mRuntimeError\u001b[0m: CUDA error: out of memory"
     ]
    }
   ],
   "source": [
    "shared_conv_net = None\n",
    "torch.cuda.empty_cache()\n",
    "shared_conv_net = SharedConvNet(7, 300, dropout_prob, True)\n",
    "shared_conv_net.cuda()\n",
    "\n",
    "\n",
    "total_params(shared_conv_net), countZeroWeights(shared_conv_net)\n",
    "\n",
    "shared_conv_net_result = run_training(file_name, shared_conv_net, num_examples, epochs, batch_size)  "
   ]
  },
  {
   "cell_type": "code",
   "execution_count": 2,
   "metadata": {},
   "outputs": [
    {
     "ename": "NameError",
     "evalue": "name 'shared_conv_net_result' is not defined",
     "output_type": "error",
     "traceback": [
      "\u001b[0;31m------------------------------------------------------------------\u001b[0m",
      "\u001b[0;31mNameError\u001b[0m                        Traceback (most recent call last)",
      "\u001b[0;32m<ipython-input-2-64760a6882fa>\u001b[0m in \u001b[0;36m<module>\u001b[0;34m()\u001b[0m\n\u001b[0;32m----> 1\u001b[0;31m \u001b[0mm_name\u001b[0m\u001b[0;34m,\u001b[0m \u001b[0mlr\u001b[0m\u001b[0;34m,\u001b[0m \u001b[0mtr\u001b[0m\u001b[0;34m,\u001b[0m \u001b[0mmodel\u001b[0m \u001b[0;34m=\u001b[0m \u001b[0mshared_conv_net_result\u001b[0m\u001b[0;34m\u001b[0m\u001b[0m\n\u001b[0m\u001b[1;32m      2\u001b[0m \u001b[0;34m\u001b[0m\u001b[0m\n\u001b[1;32m      3\u001b[0m \u001b[0mplt\u001b[0m\u001b[0;34m.\u001b[0m\u001b[0mplot\u001b[0m\u001b[0;34m(\u001b[0m\u001b[0mtr\u001b[0m\u001b[0;34m,\u001b[0m \u001b[0mlr\u001b[0m\u001b[0;34m,\u001b[0m \u001b[0mlabel\u001b[0m\u001b[0;34m=\u001b[0m\u001b[0;34m'net'\u001b[0m\u001b[0;34m)\u001b[0m\u001b[0;34m\u001b[0m\u001b[0m\n\u001b[1;32m      4\u001b[0m \u001b[0;34m\u001b[0m\u001b[0m\n\u001b[1;32m      5\u001b[0m \u001b[0mplt\u001b[0m\u001b[0;34m.\u001b[0m\u001b[0mlegend\u001b[0m\u001b[0;34m(\u001b[0m\u001b[0;34m)\u001b[0m\u001b[0;34m\u001b[0m\u001b[0m\n",
      "\u001b[0;31mNameError\u001b[0m: name 'shared_conv_net_result' is not defined"
     ]
    }
   ],
   "source": [
    "m_name, lr, tr, model = shared_conv_net_result\n",
    "\n",
    "plt.plot(tr, lr, label='net')\n",
    "\n",
    "plt.legend()\n",
    "\n",
    "eval_and_score_puzzle(model)"
   ]
  },
  {
   "cell_type": "code",
   "execution_count": null,
   "metadata": {},
   "outputs": [],
   "source": []
  },
  {
   "cell_type": "code",
   "execution_count": null,
   "metadata": {},
   "outputs": [],
   "source": []
  },
  {
   "cell_type": "code",
   "execution_count": 1,
   "metadata": {},
   "outputs": [
    {
     "data": {
      "text/plain": [
       "''"
      ]
     },
     "execution_count": 1,
     "metadata": {},
     "output_type": "execute_result"
    }
   ],
   "source": [
    "_"
   ]
  },
  {
   "cell_type": "code",
   "execution_count": 6,
   "metadata": {},
   "outputs": [
    {
     "ename": "NameError",
     "evalue": "name 'torch' is not defined",
     "output_type": "error",
     "traceback": [
      "\u001b[0;31m------------------------------------------------------------------\u001b[0m",
      "\u001b[0;31mNameError\u001b[0m                        Traceback (most recent call last)",
      "\u001b[0;32m<ipython-input-6-a635a990390c>\u001b[0m in \u001b[0;36m<module>\u001b[0;34m()\u001b[0m\n\u001b[1;32m      1\u001b[0m \u001b[0mconv_net\u001b[0m \u001b[0;34m=\u001b[0m \u001b[0;32mNone\u001b[0m\u001b[0;34m\u001b[0m\u001b[0m\n\u001b[0;32m----> 2\u001b[0;31m \u001b[0mtorch\u001b[0m\u001b[0;34m.\u001b[0m\u001b[0mcuda\u001b[0m\u001b[0;34m.\u001b[0m\u001b[0mempty_cache\u001b[0m\u001b[0;34m(\u001b[0m\u001b[0;34m)\u001b[0m\u001b[0;34m\u001b[0m\u001b[0m\n\u001b[0m\u001b[1;32m      3\u001b[0m \u001b[0mconv_net\u001b[0m \u001b[0;34m=\u001b[0m \u001b[0mConvNet\u001b[0m\u001b[0;34m(\u001b[0m\u001b[0;36m8\u001b[0m\u001b[0;34m,\u001b[0m \u001b[0;36m350\u001b[0m\u001b[0;34m,\u001b[0m \u001b[0mdropout_prob\u001b[0m\u001b[0;34m,\u001b[0m \u001b[0;32mTrue\u001b[0m\u001b[0;34m)\u001b[0m\u001b[0;34m\u001b[0m\u001b[0m\n\u001b[1;32m      4\u001b[0m \u001b[0mconv_net\u001b[0m\u001b[0;34m.\u001b[0m\u001b[0mcuda\u001b[0m\u001b[0;34m(\u001b[0m\u001b[0;34m)\u001b[0m\u001b[0;34m\u001b[0m\u001b[0m\n\u001b[1;32m      5\u001b[0m \u001b[0mconv_net_result\u001b[0m \u001b[0;34m=\u001b[0m \u001b[0mrun_training\u001b[0m\u001b[0;34m(\u001b[0m\u001b[0mfile_name\u001b[0m\u001b[0;34m,\u001b[0m \u001b[0mconv_net\u001b[0m\u001b[0;34m,\u001b[0m \u001b[0mnum_examples\u001b[0m\u001b[0;34m,\u001b[0m \u001b[0mepochs\u001b[0m\u001b[0;34m,\u001b[0m \u001b[0mbatch_size\u001b[0m\u001b[0;34m)\u001b[0m\u001b[0;34m\u001b[0m\u001b[0m\n",
      "\u001b[0;31mNameError\u001b[0m: name 'torch' is not defined"
     ]
    }
   ],
   "source": [
    "conv_net = None\n",
    "torch.cuda.empty_cache()\n",
    "conv_net = ConvNet(8, 350, dropout_prob, True)\n",
    "conv_net.cuda()\n",
    "conv_net_result = run_training(file_name, conv_net, num_examples, epochs, batch_size)  "
   ]
  },
  {
   "cell_type": "code",
   "execution_count": 7,
   "metadata": {},
   "outputs": [
    {
     "data": {
      "text/plain": [
       "29418729"
      ]
     },
     "execution_count": 7,
     "metadata": {},
     "output_type": "execute_result"
    }
   ],
   "source": [
    "total_params(conv_net)"
   ]
  },
  {
   "cell_type": "code",
   "execution_count": 18,
   "metadata": {},
   "outputs": [
    {
     "name": "stdout",
     "output_type": "stream",
     "text": [
      "[1.0, 1.0, 0.8666666666666667, 1.0, 1.0, 0.5849056603773585, 0.43636363636363634, 0.6545454545454545, 1.0, 0.5384615384615384, 0.35714285714285715, 0.75, 0.7454545454545455, 0.6909090909090909, 0.38596491228070173, 0.6727272727272727, 0.25, 0.5178571428571429, 0.45454545454545453, 0.6481481481481481, 0.38181818181818183, 0.8909090909090909, 0.37037037037037035, 0.8, 0.72, 0.9795918367346939, 0.2830188679245283, 0.8823529411764706, 0.803921568627451]\n",
      "0.6781267323462296\n",
      "\n"
     ]
    },
    {
     "data": {
      "image/png": "[encoded data removed]",
      "text/plain": [
       "<Figure size 432x288 with 1 Axes>"
      ]
     },
     "metadata": {
      "needs_background": "light"
     },
     "output_type": "display_data"
    }
   ],
   "source": [
    "m_name, lr, tr, model = conv_net_result\n",
    "\n",
    "plt.plot(tr, lr, label='net')\n",
    "\n",
    "plt.legend()\n",
    "\n",
    "eval_and_score_puzzle(model)"
   ]
  },
  {
   "cell_type": "code",
   "execution_count": null,
   "metadata": {},
   "outputs": [],
   "source": []
  },
  {
   "cell_type": "code",
   "execution_count": null,
   "metadata": {},
   "outputs": [],
   "source": []
  },
  {
   "cell_type": "code",
   "execution_count": null,
   "metadata": {},
   "outputs": [],
   "source": []
  },
  {
   "cell_type": "code",
   "execution_count": null,
   "metadata": {},
   "outputs": [],
   "source": []
  },
  {
   "cell_type": "code",
   "execution_count": null,
   "metadata": {},
   "outputs": [],
   "source": []
  },
  {
   "cell_type": "raw",
   "metadata": {},
   "source": []
  },
  {
   "cell_type": "code",
   "execution_count": null,
   "metadata": {},
   "outputs": [],
   "source": []
  },
  {
   "cell_type": "code",
   "execution_count": 11,
   "metadata": {
    "scrolled": true
   },
   "outputs": [
    {
     "name": "stdout",
     "output_type": "stream",
     "text": [
      "rm: cannot remove 'completed_puz.csv': No such file or directory\r\n"
     ]
    }
   ],
   "source": [
    "!rm completed_puz.csv"
   ]
  },
  {
   "cell_type": "code",
   "execution_count": 12,
   "metadata": {},
   "outputs": [
    {
     "ename": "KeyboardInterrupt",
     "evalue": "",
     "output_type": "error",
     "traceback": [
      "\u001b[0;31m------------------------------------------------------------------\u001b[0m",
      "\u001b[0;31mKeyboardInterrupt\u001b[0m                Traceback (most recent call last)",
      "\u001b[0;32m<ipython-input-12-b9291929bfad>\u001b[0m in \u001b[0;36m<module>\u001b[0;34m()\u001b[0m\n\u001b[0;32m----> 1\u001b[0;31m \u001b[0mtry_complete_sudoku\u001b[0m\u001b[0;34m(\u001b[0m\u001b[0;34m'sudoku.csv'\u001b[0m\u001b[0;34m,\u001b[0m \u001b[0;34m'completed_puz.csv'\u001b[0m\u001b[0;34m,\u001b[0m \u001b[0mmodel\u001b[0m\u001b[0;34m,\u001b[0m \u001b[0;36m400000\u001b[0m\u001b[0;34m)\u001b[0m\u001b[0;34m\u001b[0m\u001b[0m\n\u001b[0m",
      "\u001b[0;32m~/Notebooks/deep_sudoku/helper_functions.py\u001b[0m in \u001b[0;36mtry_complete_sudoku\u001b[0;34m(in_file_name, out_file_name, model, limit)\u001b[0m\n\u001b[1;32m    141\u001b[0m \u001b[0;34m\u001b[0m\u001b[0m\n\u001b[1;32m    142\u001b[0m \u001b[0;34m\u001b[0m\u001b[0m\n\u001b[0;32m--> 143\u001b[0;31m                 \u001b[0mp\u001b[0m \u001b[0;34m=\u001b[0m \u001b[0mpredict_puzzle\u001b[0m\u001b[0;34m(\u001b[0m\u001b[0mpuz\u001b[0m\u001b[0;34m,\u001b[0m \u001b[0mmodel\u001b[0m\u001b[0;34m)\u001b[0m\u001b[0;34m\u001b[0m\u001b[0m\n\u001b[0m\u001b[1;32m    144\u001b[0m \u001b[0;34m\u001b[0m\u001b[0m\n\u001b[1;32m    145\u001b[0m                 \u001b[0mnew_puz\u001b[0m \u001b[0;34m=\u001b[0m \u001b[0msln\u001b[0m\u001b[0;34m.\u001b[0m\u001b[0mcopy\u001b[0m\u001b[0;34m(\u001b[0m\u001b[0;34m)\u001b[0m\u001b[0;34m\u001b[0m\u001b[0m\n",
      "\u001b[0;32m~/Notebooks/deep_sudoku/helper_functions.py\u001b[0m in \u001b[0;36mpredict_puzzle\u001b[0;34m(puzzle, model)\u001b[0m\n\u001b[1;32m    106\u001b[0m     \u001b[0mr\u001b[0m \u001b[0;34m=\u001b[0m \u001b[0mmatrix_to_one_hot\u001b[0m\u001b[0;34m(\u001b[0m\u001b[0mpuzzle\u001b[0m\u001b[0;34m)\u001b[0m\u001b[0;34m\u001b[0m\u001b[0m\n\u001b[1;32m    107\u001b[0m     \u001b[0;32mfor\u001b[0m \u001b[0m_\u001b[0m \u001b[0;32min\u001b[0m \u001b[0mrange\u001b[0m\u001b[0;34m(\u001b[0m\u001b[0mnum_zeros\u001b[0m\u001b[0;34m)\u001b[0m\u001b[0;34m:\u001b[0m\u001b[0;34m\u001b[0m\u001b[0m\n\u001b[0;32m--> 108\u001b[0;31m         \u001b[0mpred\u001b[0m \u001b[0;34m=\u001b[0m \u001b[0mpredict_best\u001b[0m\u001b[0;34m(\u001b[0m\u001b[0mr\u001b[0m\u001b[0;34m,\u001b[0m \u001b[0mmodel\u001b[0m\u001b[0;34m)\u001b[0m\u001b[0;34m\u001b[0m\u001b[0m\n\u001b[0m\u001b[1;32m    109\u001b[0m \u001b[0;34m\u001b[0m\u001b[0m\n\u001b[1;32m    110\u001b[0m         \u001b[0mr\u001b[0m \u001b[0;34m=\u001b[0m \u001b[0mpred\u001b[0m \u001b[0;34m+\u001b[0m \u001b[0mr\u001b[0m\u001b[0;34m\u001b[0m\u001b[0m\n",
      "\u001b[0;32m~/Notebooks/deep_sudoku/helper_functions.py\u001b[0m in \u001b[0;36mpredict_best\u001b[0;34m(puz, model)\u001b[0m\n\u001b[1;32m     92\u001b[0m \u001b[0;34m\u001b[0m\u001b[0m\n\u001b[1;32m     93\u001b[0m \u001b[0;32mdef\u001b[0m \u001b[0mpredict_best\u001b[0m\u001b[0;34m(\u001b[0m\u001b[0mpuz\u001b[0m\u001b[0;34m,\u001b[0m \u001b[0mmodel\u001b[0m\u001b[0;34m)\u001b[0m\u001b[0;34m:\u001b[0m\u001b[0;34m\u001b[0m\u001b[0m\n\u001b[0;32m---> 94\u001b[0;31m     \u001b[0mpredictions\u001b[0m \u001b[0;34m=\u001b[0m \u001b[0mpredict\u001b[0m\u001b[0;34m(\u001b[0m\u001b[0mpuz\u001b[0m\u001b[0;34m,\u001b[0m \u001b[0mmodel\u001b[0m\u001b[0;34m)\u001b[0m\u001b[0;34m\u001b[0m\u001b[0m\n\u001b[0m\u001b[1;32m     95\u001b[0m \u001b[0;34m\u001b[0m\u001b[0m\n\u001b[1;32m     96\u001b[0m     \u001b[0mret\u001b[0m \u001b[0;34m=\u001b[0m \u001b[0mnp\u001b[0m\u001b[0;34m.\u001b[0m\u001b[0mzeros\u001b[0m\u001b[0;34m(\u001b[0m\u001b[0;36m81\u001b[0m\u001b[0;34m*\u001b[0m\u001b[0;36m9\u001b[0m\u001b[0;34m,\u001b[0m \u001b[0mdtype\u001b[0m\u001b[0;34m=\u001b[0m\u001b[0mint\u001b[0m\u001b[0;34m)\u001b[0m\u001b[0;34m\u001b[0m\u001b[0m\n",
      "\u001b[0;32m~/Notebooks/deep_sudoku/helper_functions.py\u001b[0m in \u001b[0;36mpredict\u001b[0;34m(puz, model, is_only_blanks)\u001b[0m\n\u001b[1;32m     70\u001b[0m \u001b[0;32mdef\u001b[0m \u001b[0mpredict\u001b[0m\u001b[0;34m(\u001b[0m\u001b[0mpuz\u001b[0m\u001b[0;34m,\u001b[0m \u001b[0mmodel\u001b[0m\u001b[0;34m,\u001b[0m \u001b[0mis_only_blanks\u001b[0m\u001b[0;34m=\u001b[0m\u001b[0;32mTrue\u001b[0m\u001b[0;34m)\u001b[0m\u001b[0;34m:\u001b[0m\u001b[0;34m\u001b[0m\u001b[0m\n\u001b[1;32m     71\u001b[0m     \u001b[0mmodel\u001b[0m\u001b[0;34m.\u001b[0m\u001b[0meval\u001b[0m\u001b[0;34m(\u001b[0m\u001b[0;34m)\u001b[0m\u001b[0;34m\u001b[0m\u001b[0m\n\u001b[0;32m---> 72\u001b[0;31m     \u001b[0mpredictions\u001b[0m \u001b[0;34m=\u001b[0m \u001b[0mmodel\u001b[0m\u001b[0;34m(\u001b[0m\u001b[0mVariable\u001b[0m\u001b[0;34m(\u001b[0m\u001b[0mtorch\u001b[0m\u001b[0;34m.\u001b[0m\u001b[0mcuda\u001b[0m\u001b[0;34m.\u001b[0m\u001b[0mFloatTensor\u001b[0m\u001b[0;34m(\u001b[0m\u001b[0;34m[\u001b[0m\u001b[0mpuz\u001b[0m\u001b[0;34m]\u001b[0m\u001b[0;34m)\u001b[0m\u001b[0;34m)\u001b[0m\u001b[0;34m)\u001b[0m\u001b[0;34m\u001b[0m\u001b[0m\n\u001b[0m\u001b[1;32m     73\u001b[0m     \u001b[0mpredictions\u001b[0m \u001b[0;34m=\u001b[0m \u001b[0mpredictions\u001b[0m\u001b[0;34m[\u001b[0m\u001b[0;36m0\u001b[0m\u001b[0;34m]\u001b[0m\u001b[0;34m\u001b[0m\u001b[0m\n\u001b[1;32m     74\u001b[0m \u001b[0;34m\u001b[0m\u001b[0m\n",
      "\u001b[0;32m~/anaconda3/lib/python3.7/site-packages/torch/nn/modules/module.py\u001b[0m in \u001b[0;36m__call__\u001b[0;34m(self, *input, **kwargs)\u001b[0m\n\u001b[1;32m    475\u001b[0m             \u001b[0mresult\u001b[0m \u001b[0;34m=\u001b[0m \u001b[0mself\u001b[0m\u001b[0;34m.\u001b[0m\u001b[0m_slow_forward\u001b[0m\u001b[0;34m(\u001b[0m\u001b[0;34m*\u001b[0m\u001b[0minput\u001b[0m\u001b[0;34m,\u001b[0m \u001b[0;34m**\u001b[0m\u001b[0mkwargs\u001b[0m\u001b[0;34m)\u001b[0m\u001b[0;34m\u001b[0m\u001b[0m\n\u001b[1;32m    476\u001b[0m         \u001b[0;32melse\u001b[0m\u001b[0;34m:\u001b[0m\u001b[0;34m\u001b[0m\u001b[0m\n\u001b[0;32m--> 477\u001b[0;31m             \u001b[0mresult\u001b[0m \u001b[0;34m=\u001b[0m \u001b[0mself\u001b[0m\u001b[0;34m.\u001b[0m\u001b[0mforward\u001b[0m\u001b[0;34m(\u001b[0m\u001b[0;34m*\u001b[0m\u001b[0minput\u001b[0m\u001b[0;34m,\u001b[0m \u001b[0;34m**\u001b[0m\u001b[0mkwargs\u001b[0m\u001b[0;34m)\u001b[0m\u001b[0;34m\u001b[0m\u001b[0m\n\u001b[0m\u001b[1;32m    478\u001b[0m         \u001b[0;32mfor\u001b[0m \u001b[0mhook\u001b[0m \u001b[0;32min\u001b[0m \u001b[0mself\u001b[0m\u001b[0;34m.\u001b[0m\u001b[0m_forward_hooks\u001b[0m\u001b[0;34m.\u001b[0m\u001b[0mvalues\u001b[0m\u001b[0;34m(\u001b[0m\u001b[0;34m)\u001b[0m\u001b[0;34m:\u001b[0m\u001b[0;34m\u001b[0m\u001b[0m\n\u001b[1;32m    479\u001b[0m             \u001b[0mhook_result\u001b[0m \u001b[0;34m=\u001b[0m \u001b[0mhook\u001b[0m\u001b[0;34m(\u001b[0m\u001b[0mself\u001b[0m\u001b[0;34m,\u001b[0m \u001b[0minput\u001b[0m\u001b[0;34m,\u001b[0m \u001b[0mresult\u001b[0m\u001b[0;34m)\u001b[0m\u001b[0;34m\u001b[0m\u001b[0m\n",
      "\u001b[0;32m~/Notebooks/deep_sudoku/sudoku_networks.py\u001b[0m in \u001b[0;36mforward\u001b[0;34m(self, x)\u001b[0m\n\u001b[1;32m    146\u001b[0m             \u001b[0mconv_x\u001b[0m \u001b[0;34m=\u001b[0m \u001b[0mself\u001b[0m\u001b[0;34m.\u001b[0m\u001b[0mconv_cols\u001b[0m\u001b[0;34m(\u001b[0m\u001b[0mconv_x\u001b[0m\u001b[0;34m)\u001b[0m\u001b[0;34m\u001b[0m\u001b[0m\n\u001b[1;32m    147\u001b[0m             \u001b[0mconv_x\u001b[0m \u001b[0;34m=\u001b[0m \u001b[0mF\u001b[0m\u001b[0;34m.\u001b[0m\u001b[0mleaky_relu\u001b[0m\u001b[0;34m(\u001b[0m\u001b[0mconv_x\u001b[0m\u001b[0;34m)\u001b[0m\u001b[0;34m\u001b[0m\u001b[0m\n\u001b[0;32m--> 148\u001b[0;31m             \u001b[0mconv_x\u001b[0m \u001b[0;34m=\u001b[0m \u001b[0mF\u001b[0m\u001b[0;34m.\u001b[0m\u001b[0mdropout\u001b[0m\u001b[0;34m(\u001b[0m\u001b[0mconv_x\u001b[0m\u001b[0;34m,\u001b[0m \u001b[0mp\u001b[0m\u001b[0;34m=\u001b[0m\u001b[0mself\u001b[0m\u001b[0;34m.\u001b[0m\u001b[0mdropout_prob\u001b[0m\u001b[0;34m,\u001b[0m \u001b[0mtraining\u001b[0m\u001b[0;34m=\u001b[0m\u001b[0mself\u001b[0m\u001b[0;34m.\u001b[0m\u001b[0mtraining\u001b[0m\u001b[0;34m)\u001b[0m\u001b[0;34m\u001b[0m\u001b[0m\n\u001b[0m\u001b[1;32m    149\u001b[0m \u001b[0;34m\u001b[0m\u001b[0m\n\u001b[1;32m    150\u001b[0m             \u001b[0mdeep_arr\u001b[0m\u001b[0;34m.\u001b[0m\u001b[0mappend\u001b[0m\u001b[0;34m(\u001b[0m\u001b[0mconv_x\u001b[0m\u001b[0;34m)\u001b[0m\u001b[0;34m\u001b[0m\u001b[0m\n",
      "\u001b[0;32m~/anaconda3/lib/python3.7/site-packages/torch/nn/functional.py\u001b[0m in \u001b[0;36mdropout\u001b[0;34m(input, p, training, inplace)\u001b[0m\n\u001b[1;32m    593\u001b[0m \u001b[0;31m# Activation functions\u001b[0m\u001b[0;34m\u001b[0m\u001b[0;34m\u001b[0m\u001b[0m\n\u001b[1;32m    594\u001b[0m \u001b[0;32mdef\u001b[0m \u001b[0mdropout\u001b[0m\u001b[0;34m(\u001b[0m\u001b[0minput\u001b[0m\u001b[0;34m,\u001b[0m \u001b[0mp\u001b[0m\u001b[0;34m=\u001b[0m\u001b[0;36m0.5\u001b[0m\u001b[0;34m,\u001b[0m \u001b[0mtraining\u001b[0m\u001b[0;34m=\u001b[0m\u001b[0;32mFalse\u001b[0m\u001b[0;34m,\u001b[0m \u001b[0minplace\u001b[0m\u001b[0;34m=\u001b[0m\u001b[0;32mFalse\u001b[0m\u001b[0;34m)\u001b[0m\u001b[0;34m:\u001b[0m\u001b[0;34m\u001b[0m\u001b[0m\n\u001b[0;32m--> 595\u001b[0;31m     \u001b[0;32mreturn\u001b[0m \u001b[0m_functions\u001b[0m\u001b[0;34m.\u001b[0m\u001b[0mdropout\u001b[0m\u001b[0;34m.\u001b[0m\u001b[0mDropout\u001b[0m\u001b[0;34m.\u001b[0m\u001b[0mapply\u001b[0m\u001b[0;34m(\u001b[0m\u001b[0minput\u001b[0m\u001b[0;34m,\u001b[0m \u001b[0mp\u001b[0m\u001b[0;34m,\u001b[0m \u001b[0mtraining\u001b[0m\u001b[0;34m,\u001b[0m \u001b[0minplace\u001b[0m\u001b[0;34m)\u001b[0m\u001b[0;34m\u001b[0m\u001b[0m\n\u001b[0m\u001b[1;32m    596\u001b[0m \u001b[0;34m\u001b[0m\u001b[0m\n\u001b[1;32m    597\u001b[0m \u001b[0;34m\u001b[0m\u001b[0m\n",
      "\u001b[0;31mKeyboardInterrupt\u001b[0m: "
     ]
    }
   ],
   "source": [
    "try_complete_sudoku('sudoku.csv', 'completed_puz.csv', model, 400000)"
   ]
  },
  {
   "cell_type": "code",
   "execution_count": null,
   "metadata": {},
   "outputs": [],
   "source": [
    "\n",
    "!cat sudoku.csv > sudoku_shuffle.csv\n",
    "!cat completed_puz.csv >> sudoku_shuffle.csv\n",
    "!shuf -o sudoku_shuffle_final.csv < sudoku_shuffle.csv"
   ]
  },
  {
   "cell_type": "code",
   "execution_count": null,
   "metadata": {},
   "outputs": [],
   "source": [
    "!wc -l sudoku_shuffle.csv"
   ]
  },
  {
   "cell_type": "code",
   "execution_count": null,
   "metadata": {},
   "outputs": [],
   "source": [
    "\n"
   ]
  },
  {
   "cell_type": "code",
   "execution_count": null,
   "metadata": {},
   "outputs": [],
   "source": []
  },
  {
   "cell_type": "raw",
   "metadata": {},
   "source": [
    "net_shared2 = NetShared(input_size, hidden_size*2, output_size, dropout_prob, n_hidden=2)\n",
    "net_shared2.cuda()\n",
    "\n",
    "\n",
    "\n",
    "net_shared_result2 = run_training('sudoku_shuffle_final.csv', net_shared2, num_examples, \n",
    "                                 epochs, batch_size)  "
   ]
  },
  {
   "cell_type": "raw",
   "metadata": {},
   "source": [
    "net_shared = NetShared(input_size, hidden_size*2, output_size, dropout_prob, n_hidden=2)\n",
    "net_shared.cuda()\n",
    "\n",
    "net_shared_result = run_training(file_name, net_shared, num_examples, \n",
    "                                 epochs, batch_size)  "
   ]
  },
  {
   "cell_type": "code",
   "execution_count": null,
   "metadata": {},
   "outputs": [],
   "source": [
    "dropout_prob = 0.2\n",
    "net_shared2 = NetShared(input_size, hidden_size*2, output_size, dropout_prob, n_hidden=2)\n",
    "net_shared2.cuda()\n",
    "\n",
    "\n",
    "num_examples = 900000\n",
    "\n",
    "\n",
    "epochs = 10\n",
    "\n",
    "batch_size = 100\n",
    "\n",
    "\n",
    "net_shared_result2 = run_training('sudoku_shuffle_final.csv', net_shared2, num_examples, \n",
    "                                 epochs, batch_size)  "
   ]
  },
  {
   "cell_type": "code",
   "execution_count": 31,
   "metadata": {},
   "outputs": [
    {
     "data": {
      "text/plain": [
       "<matplotlib.legend.Legend at 0x7f7b69288748>"
      ]
     },
     "execution_count": 31,
     "metadata": {},
     "output_type": "execute_result"
    },
    {
     "data": {
      "image/png": "[encoded data removed]",
      "text/plain": [
       "<Figure size 432x288 with 1 Axes>"
      ]
     },
     "metadata": {
      "needs_background": "light"
     },
     "output_type": "display_data"
    }
   ],
   "source": [
    "#plt.plot(logistic_result[1])\n",
    "plt.plot(net_shared_result2[1], label='net')\n",
    "\n",
    "plt.legend()"
   ]
  },
  {
   "cell_type": "code",
   "execution_count": 28,
   "metadata": {},
   "outputs": [
    {
     "name": "stdout",
     "output_type": "stream",
     "text": [
      "NetShared 0.2 729 2916 729 2 10 100\n",
      "[1.0, 1.0, 1.0, 1.0, 1.0, 0.5094339622641509, 0.4, 0.6545454545454545, 0.39622641509433965, 0.7307692307692307, 0.32142857142857145, 0.5714285714285714, 1.0, 0.5818181818181818, 0.7894736842105263, 0.38181818181818183, 0.23214285714285715, 0.5535714285714286, 0.9272727272727272, 0.8703703703703703, 1.0, 0.6, 0.2962962962962963, 0.72, 1.0, 1.0, 0.6226415094339622, 1.0, 1.0]\n",
      "0.7296288773263742\n",
      "\n"
     ]
    }
   ],
   "source": [
    "eval_and_score_puzzle(net_shared)"
   ]
  },
  {
   "cell_type": "code",
   "execution_count": null,
   "metadata": {},
   "outputs": [],
   "source": [
    "# shared conv net - 0.7296288773263742 hidden layer x2, 2 layers"
   ]
  },
  {
   "cell_type": "code",
   "execution_count": 29,
   "metadata": {},
   "outputs": [
    {
     "name": "stdout",
     "output_type": "stream",
     "text": [
      "NetShared 0.2 729 2916 729 2 10 100\n",
      "[1.0, 1.0, 1.0, 1.0, 1.0, 0.39622641509433965, 0.509090909090909, 0.5454545454545454, 0.39622641509433965, 0.5192307692307693, 1.0, 0.6428571428571429, 0.8181818181818182, 0.45454545454545453, 0.43859649122807015, 0.34545454545454546, 0.26785714285714285, 0.39285714285714285, 0.38181818181818183, 0.8888888888888888, 1.0, 0.43636363636363634, 0.5740740740740741, 1.0, 1.0, 1.0, 0.5471698113207547, 1.0, 0.7450980392156863]\n",
      "0.6999997042630153\n",
      "\n"
     ]
    }
   ],
   "source": [
    "eval_and_score_puzzle(net_shared2)"
   ]
  },
  {
   "cell_type": "code",
   "execution_count": null,
   "metadata": {},
   "outputs": [],
   "source": []
  },
  {
   "cell_type": "code",
   "execution_count": null,
   "metadata": {},
   "outputs": [],
   "source": []
  },
  {
   "cell_type": "code",
   "execution_count": null,
   "metadata": {},
   "outputs": [],
   "source": []
  },
  {
   "cell_type": "code",
   "execution_count": null,
   "metadata": {},
   "outputs": [],
   "source": []
  },
  {
   "cell_type": "code",
   "execution_count": null,
   "metadata": {},
   "outputs": [],
   "source": []
  },
  {
   "cell_type": "code",
   "execution_count": 10,
   "metadata": {},
   "outputs": [],
   "source": [
    "class LogisticRegression(torch.nn.Module):\n",
    "    def __init__(self):\n",
    "        \"\"\"\n",
    "        In the constructor we instantiate two nn.Linear modules and assign them as\n",
    "        member variables.\n",
    "        \"\"\"\n",
    "        super(LogisticRegression, self).__init__()\n",
    "        self.input_size = 9**3\n",
    "        self.output_size = 9**3      \n",
    "        \n",
    "        self.combined_linear = torch.nn.Linear(input_size, output_size)\n",
    "\n",
    "    def forward(self, x):\n",
    "        \"\"\"\n",
    "        In the forward function we accept a Variable of input data and we must return\n",
    "        a Variable of output data. We can use Modules defined in the constructor as\n",
    "        well as arbitrary operators on Variables.\n",
    "        \"\"\"       \n",
    "        y_pred = self.combined_linear(x)  \n",
    "        \n",
    "        return y_pred\n",
    "    \n",
    "    def __str__(self):\n",
    "        return '{} {} {}'.format(\n",
    "            type(self).__name__, \n",
    "            self.input_size, \n",
    "            self.output_size)"
   ]
  },
  {
   "cell_type": "code",
   "execution_count": null,
   "metadata": {},
   "outputs": [],
   "source": [
    "model = net_shared2\n",
    "\n",
    "kaggle_puz = []\n",
    "kaggle_sln = []\n",
    "for i, line in enumerate(open('test_sudoku.csv', 'r').read().splitlines()[1:]):\n",
    "    quiz, solution = line.split(\",\")\n",
    "    kaggle_puz.append([int(c) for c in quiz])\n",
    "    kaggle_sln.append([int(c) for c in solution])\n",
    "    \n",
    "\n",
    "kaggle_puz = np.array(kaggle_puz).reshape((-1, 9, 9))\n",
    "kaggle_sln = np.array(kaggle_sln).reshape((-1, 9, 9))\n",
    "\n",
    "scores = []\n",
    "for puz, sln in zip(kaggle_puz, kaggle_sln):\n",
    "    p = predict_puzzle(puz, model)\n",
    "    score = accuracy(sln, puz, p)\n",
    "    scores.append(score)\n",
    "print(m_name)\n",
    "print(scores)\n",
    "print(np.mean(scores))\n",
    "print('')"
   ]
  },
  {
   "cell_type": "code",
   "execution_count": 60,
   "metadata": {},
   "outputs": [
    {
     "name": "stdout",
     "output_type": "stream",
     "text": [
      "NetShared 0.2 729 1458 729 1 10 100\n",
      "[0.6, 0.5106382978723404, 0.4666666666666667, 0.40425531914893614, 0.5, 0.5660377358490566, 0.45454545454545453, 0.2909090909090909, 0.37735849056603776, 0.36538461538461536, 0.17857142857142858, 0.25, 0.2727272727272727, 0.509090909090909, 0.19298245614035087, 0.21818181818181817, 0.17857142857142858, 0.25, 0.41818181818181815, 0.2777777777777778, 0.4909090909090909, 0.2909090909090909, 0.5185185185185185, 0.52, 0.28, 0.3673469387755102, 0.22641509433962265, 0.27450980392156865, 0.37254901960784315]\n",
      "0.3663116599022845\n",
      "\n"
     ]
    }
   ],
   "source": [
    "model = net_shared\n",
    "\n",
    "kaggle_puz = []\n",
    "kaggle_sln = []\n",
    "for i, line in enumerate(open('test_sudoku.csv', 'r').read().splitlines()[1:]):\n",
    "    quiz, solution = line.split(\",\")\n",
    "    kaggle_puz.append([int(c) for c in quiz])\n",
    "    kaggle_sln.append([int(c) for c in solution])\n",
    "    \n",
    "\n",
    "kaggle_puz = np.array(kaggle_puz).reshape((-1, 9, 9))\n",
    "kaggle_sln = np.array(kaggle_sln).reshape((-1, 9, 9))\n",
    "\n",
    "scores = []\n",
    "for puz, sln in zip(kaggle_puz, kaggle_sln):\n",
    "    p = predict_puzzle(puz, model)\n",
    "    score = accuracy(sln, puz, p)\n",
    "    scores.append(score)\n",
    "print(m_name)\n",
    "print(scores)\n",
    "print(np.mean(scores))\n",
    "print('')"
   ]
  },
  {
   "cell_type": "code",
   "execution_count": null,
   "metadata": {
    "collapsed": true
   },
   "outputs": [],
   "source": []
  },
  {
   "cell_type": "code",
   "execution_count": null,
   "metadata": {
    "collapsed": true
   },
   "outputs": [],
   "source": []
  },
  {
   "cell_type": "code",
   "execution_count": 34,
   "metadata": {},
   "outputs": [
    {
     "ename": "KeyboardInterrupt",
     "evalue": "",
     "output_type": "error",
     "traceback": [
      "\u001b[0;31m---------------------------------------------------------------------------\u001b[0m",
      "\u001b[0;31mKeyboardInterrupt\u001b[0m                         Traceback (most recent call last)",
      "\u001b[0;32m<ipython-input-34-90e63c284301>\u001b[0m in \u001b[0;36m<module>\u001b[0;34m()\u001b[0m\n\u001b[1;32m      6\u001b[0m             \u001b[0mpuzz\u001b[0m \u001b[0;34m=\u001b[0m \u001b[0mone_hot_to_matrix\u001b[0m\u001b[0;34m(\u001b[0m\u001b[0mx\u001b[0m\u001b[0;34m)\u001b[0m\u001b[0;34m\u001b[0m\u001b[0m\n\u001b[1;32m      7\u001b[0m             \u001b[0manswer\u001b[0m \u001b[0;34m=\u001b[0m \u001b[0mone_hot_to_matrix\u001b[0m\u001b[0;34m(\u001b[0m\u001b[0my\u001b[0m\u001b[0;34m)\u001b[0m\u001b[0;34m\u001b[0m\u001b[0m\n\u001b[0;32m----> 8\u001b[0;31m             \u001b[0mp\u001b[0m \u001b[0;34m=\u001b[0m \u001b[0mpredict_puzzle\u001b[0m\u001b[0;34m(\u001b[0m\u001b[0mpuzz\u001b[0m\u001b[0;34m,\u001b[0m \u001b[0mmodel\u001b[0m\u001b[0;34m)\u001b[0m\u001b[0;34m\u001b[0m\u001b[0m\n\u001b[0m\u001b[1;32m      9\u001b[0m \u001b[0;34m\u001b[0m\u001b[0m\n\u001b[1;32m     10\u001b[0m \u001b[0;34m\u001b[0m\u001b[0m\n",
      "\u001b[0;32m<ipython-input-9-84f006649d2c>\u001b[0m in \u001b[0;36mpredict_puzzle\u001b[0;34m(puzzle, model)\u001b[0m\n\u001b[1;32m     40\u001b[0m     \u001b[0mr\u001b[0m \u001b[0;34m=\u001b[0m \u001b[0mmatrix_to_one_hot\u001b[0m\u001b[0;34m(\u001b[0m\u001b[0mpuzzle\u001b[0m\u001b[0;34m)\u001b[0m\u001b[0;34m\u001b[0m\u001b[0m\n\u001b[1;32m     41\u001b[0m     \u001b[0;32mfor\u001b[0m \u001b[0m_\u001b[0m \u001b[0;32min\u001b[0m \u001b[0mrange\u001b[0m\u001b[0;34m(\u001b[0m\u001b[0mnum_zeros\u001b[0m\u001b[0;34m)\u001b[0m\u001b[0;34m:\u001b[0m\u001b[0;34m\u001b[0m\u001b[0m\n\u001b[0;32m---> 42\u001b[0;31m         \u001b[0mpred\u001b[0m \u001b[0;34m=\u001b[0m \u001b[0mpredict_best\u001b[0m\u001b[0;34m(\u001b[0m\u001b[0mr\u001b[0m\u001b[0;34m,\u001b[0m \u001b[0mmodel\u001b[0m\u001b[0;34m)\u001b[0m\u001b[0;34m\u001b[0m\u001b[0m\n\u001b[0m\u001b[1;32m     43\u001b[0m \u001b[0;34m\u001b[0m\u001b[0m\n\u001b[1;32m     44\u001b[0m         \u001b[0mr\u001b[0m \u001b[0;34m=\u001b[0m \u001b[0mpred\u001b[0m \u001b[0;34m+\u001b[0m \u001b[0mr\u001b[0m\u001b[0;34m\u001b[0m\u001b[0m\n",
      "\u001b[0;32m<ipython-input-9-84f006649d2c>\u001b[0m in \u001b[0;36mpredict_best\u001b[0;34m(puz, model)\u001b[0m\n\u001b[1;32m     26\u001b[0m \u001b[0;34m\u001b[0m\u001b[0m\n\u001b[1;32m     27\u001b[0m \u001b[0;32mdef\u001b[0m \u001b[0mpredict_best\u001b[0m\u001b[0;34m(\u001b[0m\u001b[0mpuz\u001b[0m\u001b[0;34m,\u001b[0m \u001b[0mmodel\u001b[0m\u001b[0;34m)\u001b[0m\u001b[0;34m:\u001b[0m\u001b[0;34m\u001b[0m\u001b[0m\n\u001b[0;32m---> 28\u001b[0;31m     \u001b[0mpredictions\u001b[0m \u001b[0;34m=\u001b[0m \u001b[0mpredict\u001b[0m\u001b[0;34m(\u001b[0m\u001b[0mpuz\u001b[0m\u001b[0;34m,\u001b[0m \u001b[0mmodel\u001b[0m\u001b[0;34m)\u001b[0m\u001b[0;34m\u001b[0m\u001b[0m\n\u001b[0m\u001b[1;32m     29\u001b[0m \u001b[0;34m\u001b[0m\u001b[0m\n\u001b[1;32m     30\u001b[0m     \u001b[0mret\u001b[0m \u001b[0;34m=\u001b[0m \u001b[0mnp\u001b[0m\u001b[0;34m.\u001b[0m\u001b[0mzeros\u001b[0m\u001b[0;34m(\u001b[0m\u001b[0;36m81\u001b[0m\u001b[0;34m*\u001b[0m\u001b[0;36m9\u001b[0m\u001b[0;34m,\u001b[0m \u001b[0mdtype\u001b[0m\u001b[0;34m=\u001b[0m\u001b[0mint\u001b[0m\u001b[0;34m)\u001b[0m\u001b[0;34m\u001b[0m\u001b[0m\n",
      "\u001b[0;32m<ipython-input-9-84f006649d2c>\u001b[0m in \u001b[0;36mpredict\u001b[0;34m(puz, model, is_only_blanks)\u001b[0m\n\u001b[1;32m     19\u001b[0m                 \u001b[0mcurr\u001b[0m \u001b[0;34m=\u001b[0m \u001b[0mi\u001b[0m\u001b[0;34m\u001b[0m\u001b[0m\n\u001b[1;32m     20\u001b[0m                 \u001b[0mcurr\u001b[0m \u001b[0;34m+=\u001b[0m \u001b[0;36m81\u001b[0m\u001b[0;34m\u001b[0m\u001b[0m\n\u001b[0;32m---> 21\u001b[0;31m                 \u001b[0;32mwhile\u001b[0m \u001b[0mcurr\u001b[0m \u001b[0;34m%\u001b[0m \u001b[0;36m729\u001b[0m \u001b[0;34m!=\u001b[0m \u001b[0mi\u001b[0m\u001b[0;34m:\u001b[0m\u001b[0;34m\u001b[0m\u001b[0m\n\u001b[0m\u001b[1;32m     22\u001b[0m                     \u001b[0mpredictions\u001b[0m\u001b[0;34m[\u001b[0m\u001b[0mcurr\u001b[0m \u001b[0;34m%\u001b[0m \u001b[0;36m729\u001b[0m\u001b[0;34m]\u001b[0m \u001b[0;34m=\u001b[0m \u001b[0mmin_pred\u001b[0m\u001b[0;34m\u001b[0m\u001b[0m\n\u001b[1;32m     23\u001b[0m                     \u001b[0mcurr\u001b[0m \u001b[0;34m+=\u001b[0m \u001b[0;36m81\u001b[0m\u001b[0;34m\u001b[0m\u001b[0m\n",
      "\u001b[0;31mKeyboardInterrupt\u001b[0m: "
     ]
    }
   ],
   "source": [
    "with open(file_name, 'r') as f:\n",
    "    with open('attempt.csv', 'w') as attempt:\n",
    "        for _ in range(num_examples):\n",
    "            x, y = get_x_y(f, batches=1)\n",
    "            x, y = x[0], y[0]\n",
    "            puzz = one_hot_to_matrix(x)\n",
    "            answer = one_hot_to_matrix(y)\n",
    "            p = predict_puzzle(puzz, model)\n",
    "\n",
    "            \n",
    "            if (p == puzz).sum() == 81:\n",
    "                continue\n",
    "            \n",
    "            p = np.multiply(puzz, p == puzz)\n",
    "            \n",
    "            \n",
    "            \n",
    "            for c in p.flatten():\n",
    "                attempt.write(str(c))\n",
    "            attempt.write(',')\n",
    "            for c in answer.flatten():\n",
    "                attempt.write(str(c))\n",
    "            attempt.write('\\n')\n",
    "            "
   ]
  },
  {
   "cell_type": "code",
   "execution_count": 81,
   "metadata": {},
   "outputs": [
    {
     "name": "stdout",
     "output_type": "stream",
     "text": [
      "004300209005009001070060043006002087190007400050083000600000105003508690042910300,864371259325849761971265843436192587198657432257483916689734125713528694542916378\r\n"
     ]
    }
   ],
   "source": [
    "!head attempt.csv"
   ]
  },
  {
   "cell_type": "code",
   "execution_count": 77,
   "metadata": {},
   "outputs": [
    {
     "ename": "TypeError",
     "evalue": "'list' object is not callable",
     "output_type": "error",
     "traceback": [
      "\u001b[0;31m---------------------------------------------------------------------------\u001b[0m",
      "\u001b[0;31mTypeError\u001b[0m                                 Traceback (most recent call last)",
      "\u001b[0;32m<ipython-input-77-11a78487ec75>\u001b[0m in \u001b[0;36m<module>\u001b[0;34m()\u001b[0m\n\u001b[0;32m----> 1\u001b[0;31m \u001b[0mone_hot_to_matrix\u001b[0m\u001b[0;34m(\u001b[0m\u001b[0mx\u001b[0m\u001b[0;34m)\u001b[0m\u001b[0;34m\u001b[0m\u001b[0m\n\u001b[0m",
      "\u001b[0;31mTypeError\u001b[0m: 'list' object is not callable"
     ]
    }
   ],
   "source": [
    "one_hot_to_matrix(x)"
   ]
  },
  {
   "cell_type": "code",
   "execution_count": null,
   "metadata": {
    "collapsed": true
   },
   "outputs": [],
   "source": []
  },
  {
   "cell_type": "raw",
   "metadata": {
    "collapsed": true
   },
   "source": [
    "import torch.multiprocessing\n",
    "\n",
    "try:\n",
    "    pool\n",
    "except NameError:\n",
    "\n",
    "    num_threads = 16\n",
    "    pool = torch.multiprocessing.Pool(num_threads)\n",
    "\n",
    "results = []"
   ]
  },
  {
   "cell_type": "code",
   "execution_count": 274,
   "metadata": {
    "collapsed": true
   },
   "outputs": [],
   "source": [
    "#pool = torch.multiprocessing.Pool(num_threads)"
   ]
  },
  {
   "cell_type": "code",
   "execution_count": 69,
   "metadata": {},
   "outputs": [
    {
     "name": "stdout",
     "output_type": "stream",
     "text": [
      "NetShared 0.5 729 7290 729 1\n"
     ]
    }
   ],
   "source": [
    "print(NetShared(729, 1458*5, 729, dropout_prob, 1))"
   ]
  },
  {
   "cell_type": "code",
   "execution_count": 59,
   "metadata": {
    "collapsed": true
   },
   "outputs": [],
   "source": [
    "num_examples = 1000000\n",
    "\n",
    "dropout_prob = 0.5\n",
    "\n",
    "\n",
    "for epochs in [1]: \n",
    "    for batch_size in [100]: \n",
    "\n",
    "        m = []\n",
    "        #m.append(LogisticRegression())\n",
    "        m.append(NetShared(729, 1458*5, 729, dropout_prob, 1))\n",
    "        \n",
    "        #m.append(NetShared(729, 1458*5, 729, dropout_prob, 3))\n",
    "        \n",
    "        #m.append(ConvNetShared(3, 600, 0.1))\n",
    "        #m.append(ConvNet(2, 600, 0.1, True))\n",
    "        #m.append(ConvNet(2, 600, 0.1, False))\n",
    "\n",
    "        for model in m:\n",
    "\n",
    "            m_name = str(model) + ' {} {}'.format(epochs, batch_size)\n",
    "\n",
    "            models[m_name] = model\n",
    "            model.share_memory()\n",
    "\n",
    "            if False:\n",
    "                result = pool.apply_async(\n",
    "                            run_training, \n",
    "                            (file_name, m_name, model, num_examples, epochs, batch_size))\n",
    "            else:\n",
    "                result = run_training(file_name, m_name, model, num_examples, epochs, batch_size)\n",
    "            results.append(result)\n",
    "                "
   ]
  },
  {
   "cell_type": "raw",
   "metadata": {},
   "source": [
    "for r in results:\n",
    "    print(r.get()[0] if r.ready() else False)"
   ]
  },
  {
   "cell_type": "code",
   "execution_count": 60,
   "metadata": {},
   "outputs": [
    {
     "data": {
      "text/plain": [
       "(20, 20)"
      ]
     },
     "execution_count": 60,
     "metadata": {
      "bento_obj_id": "140490275772296"
     },
     "output_type": "execute_result"
    }
   ],
   "source": [
    "for r in results:\n",
    "    #if r.ready():\n",
    "        m_name, lr, tr, model = r#.get()\n",
    "\n",
    "        loss_results[m_name] = lr\n",
    "        time_results[m_name] = tr\n",
    "len(tr), len(lr)"
   ]
  },
  {
   "cell_type": "code",
   "execution_count": 61,
   "metadata": {},
   "outputs": [
    {
     "data": {
      "text/plain": [
       "<matplotlib.legend.Legend at 0x7fc6702c2f98>"
      ]
     },
     "execution_count": 61,
     "metadata": {
      "bento_obj_id": "140490262196120"
     },
     "output_type": "execute_result"
    },
    {
     "data": {
      "image/png": "[encoded data removed]",
      "text/plain": [
       "<matplotlib.figure.Figure at 0x7fc670771e48>"
      ]
     },
     "metadata": {
      "bento_obj_id": "140490267106888"
     },
     "output_type": "display_data"
    }
   ],
   "source": [
    "   \n",
    "ax = None\n",
    "for name, series in list(loss_results.items()):\n",
    "    ax = pd.DataFrame({'loss': series, 'time': time_results[name]}).plot(\n",
    "        y='loss', x='time', label=name, ax=ax)\n",
    "plt.legend()    \n",
    "\n",
    "#plt.ylim(0.05, 0.25)        "
   ]
  },
  {
   "cell_type": "code",
   "execution_count": 49,
   "metadata": {},
   "outputs": [
    {
     "data": {
      "text/plain": [
       "dict_keys(['LogisticRegression 729 729 3 100', 'NetShared 0.5 729 7290 729 3 100', 'NetShared 0.5 729 7290 729 6 100', 'ConvNet 0.1 3 600 True 6 100', 'ConvNet 0.1 2 600 True 3 100', 'ConvNet 0.1 2 600 False 3 100'])"
      ]
     },
     "execution_count": 49,
     "metadata": {
      "bento_obj_id": "140490276609000"
     },
     "output_type": "execute_result"
    }
   ],
   "source": [
    "models.keys()"
   ]
  },
  {
   "cell_type": "code",
   "execution_count": 50,
   "metadata": {
    "collapsed": true
   },
   "outputs": [],
   "source": []
  },
  {
   "cell_type": "code",
   "execution_count": 62,
   "metadata": {},
   "outputs": [
    {
     "name": "stdout",
     "output_type": "stream",
     "text": [
      "LogisticRegression 729 729 3 100\n",
      "[1.0, 1.0, 1.0, 1.0, 1.0, 1.0, 0.54716981132075471, 1.0, 0.70909090909090911, 0.37735849056603776, 0.5, 0.625, 0.9107142857142857, 0.67272727272727273, 0.43636363636363634, 0.43859649122807015, 0.32727272727272727, 0.7321428571428571, 0.39285714285714285, 0.67272727272727273, 1.0, 0.59999999999999998, 0.41818181818181815, 0.83333333333333337, 0.56000000000000005, 1.0, 1.0, 0.62264150943396224, 1.0, 0.80392156862745101]\n",
      "0.739336637553\n",
      "\n",
      "NetShared 0.5 729 7290 729 3 100\n",
      "[1.0, 1.0, 1.0, 1.0, 1.0, 1.0, 0.47169811320754718, 1.0, 0.41818181818181815, 0.39622641509433965, 0.59615384615384615, 0.375, 0.6428571428571429, 0.80000000000000004, 0.61818181818181817, 0.33333333333333331, 0.23636363636363636, 0.8214285714285714, 0.32142857142857145, 0.96363636363636362, 0.55555555555555558, 0.65454545454545454, 0.34545454545454546, 0.53703703703703709, 0.71999999999999997, 1.0, 1.0, 0.64150943396226412, 1.0, 0.72549019607843135]\n",
      "0.705802728417\n",
      "\n",
      "NetShared 0.5 729 7290 729 6 100\n",
      "[1.0, 1.0, 1.0, 1.0, 1.0, 1.0, 0.35849056603773582, 1.0, 0.61818181818181817, 0.67924528301886788, 0.59615384615384615, 0.5, 0.6428571428571429, 0.8545454545454545, 1.0, 0.40350877192982454, 0.40000000000000002, 0.8392857142857143, 0.35714285714285715, 0.65454545454545454, 0.85185185185185186, 0.74545454545454548, 0.18181818181818182, 0.48148148148148145, 0.92000000000000004, 1.0, 1.0, 0.60377358490566035, 1.0, 0.68627450980392157]\n",
      "0.7458203688\n",
      "\n",
      "ConvNet 0.1 2 600 True 3 100\n",
      "[1.0, 1.0, 1.0, 1.0, 1.0, 1.0, 0.41509433962264153, 0.29090909090909089, 1.0, 0.43396226415094341, 1.0, 0.35714285714285715, 0.625, 0.63636363636363635, 0.45454545454545453, 0.64912280701754388, 0.38181818181818183, 0.2857142857142857, 0.6607142857142857, 0.76363636363636367, 0.44444444444444442, 0.59999999999999998, 0.61818181818181817, 0.29629629629629628, 0.46000000000000002, 0.83999999999999997, 0.61224489795918369, 0.62264150943396224, 0.50980392156862742, 0.60784313725490191]\n",
      "0.652182653059\n",
      "\n",
      "ConvNet 0.1 2 600 False 3 100\n",
      "[0.42553191489361702, 0.40000000000000002, 0.34042553191489361, 0.22222222222222221, 0.42553191489361702, 0.2608695652173913, 0.11320754716981132, 0.20000000000000001, 0.10909090909090909, 0.26415094339622641, 0.30769230769230771, 0.35714285714285715, 0.39285714285714285, 0.21818181818181817, 0.14545454545454545, 0.24561403508771928, 0.16363636363636364, 0.2857142857142857, 0.30357142857142855, 0.23636363636363636, 0.37037037037037035, 0.20000000000000001, 0.23636363636363636, 0.22222222222222221, 0.17999999999999999, 0.20000000000000001, 0.48979591836734693, 0.28301886792452829, 0.41176470588235292, 0.15686274509803921]\n",
      "0.272255247858\n",
      "\n",
      "NetShared 0.5 729 7290 729 1 100\n",
      "[0.87234042553191493, 0.66666666666666663, 0.68085106382978722, 0.51111111111111107, 0.82978723404255317, 0.54347826086956519, 0.33962264150943394, 0.20000000000000001, 0.36363636363636365, 0.35849056603773582, 0.36538461538461536, 0.375, 0.23214285714285715, 0.40000000000000002, 0.38181818181818183, 0.45614035087719296, 0.20000000000000001, 0.2857142857142857, 0.44642857142857145, 0.58181818181818179, 0.40740740740740738, 0.47272727272727272, 0.32727272727272727, 0.51851851851851849, 0.46000000000000002, 0.34000000000000002, 0.40816326530612246, 0.32075471698113206, 0.49019607843137253, 0.43137254901960786]\n",
      "0.442228130436\n",
      "\n",
      "NetShared 0.5 729 7290 729 1 100\n",
      "[0.87234042553191493, 0.66666666666666663, 0.68085106382978722, 0.51111111111111107, 0.82978723404255317, 0.54347826086956519, 0.33962264150943394, 0.20000000000000001, 0.36363636363636365, 0.35849056603773582, 0.36538461538461536, 0.375, 0.23214285714285715, 0.40000000000000002, 0.38181818181818183, 0.45614035087719296, 0.20000000000000001, 0.2857142857142857, 0.44642857142857145, 0.58181818181818179, 0.40740740740740738, 0.47272727272727272, 0.32727272727272727, 0.51851851851851849, 0.46000000000000002, 0.34000000000000002, 0.40816326530612246, 0.32075471698113206, 0.49019607843137253, 0.43137254901960786]\n",
      "0.442228130436\n",
      "\n"
     ]
    }
   ],
   "source": [
    "\n",
    "for m_name in [x[0] for x in results]:\n",
    "    #m_name = 'LogisticRegression 729 729 1 400'\n",
    "    scores = []\n",
    "    for puz, sln in zip(kaggle_puz, kaggle_sln):\n",
    "        p = predict_puzzle(puz, models[m_name])\n",
    "        score = accuracy(sln, puz, p)\n",
    "        scores.append(score)\n",
    "    print(m_name)\n",
    "    print(scores)\n",
    "    print(np.mean(scores))\n",
    "    print('')"
   ]
  },
  {
   "cell_type": "code",
   "execution_count": 52,
   "metadata": {},
   "outputs": [
    {
     "name": "stdout",
     "output_type": "stream",
     "text": [
      "LogisticRegression 729 729 3 100\n",
      "0.739336637553\n",
      "\n",
      "NetShared 0.5 729 7290 729 3 100\n",
      "0.705802728417\n",
      "\n",
      "NetShared 0.5 729 7290 729 6 100\n",
      "0.7458203688\n",
      "\n",
      "ConvNet 0.1 3 600 True 6 100\n",
      "0.656262983974\n",
      "\n",
      "ConvNet 0.1 2 600 True 3 100\n",
      "0.652182653059\n",
      "\n",
      "ConvNet 0.1 2 600 False 3 100\n",
      "0.272255247858\n",
      "\n"
     ]
    }
   ],
   "source": [
    "kaggle_puz_train = []\n",
    "kaggle_sln_train = []\n",
    "for i, line in enumerate(open('kaggle_sudoku.csv', 'r').read().splitlines()[1:400]):\n",
    "    quiz, solution = line.split(\",\")\n",
    "    kaggle_puz_train.append([int(c) for c in quiz])\n",
    "    kaggle_sln_train.append([int(c) for c in solution])\n",
    "    \n",
    "\n",
    "kaggle_puz_train = np.array(kaggle_puz).reshape((-1, 9, 9))\n",
    "kaggle_sln_train = np.array(kaggle_sln).reshape((-1, 9, 9))    \n",
    "\n",
    "for m_name in models.keys():\n",
    "    #m_name = 'LogisticRegression 729 729 1 400'\n",
    "    scores = []\n",
    "    for puz, sln in zip(kaggle_puz_train, kaggle_sln_train):\n",
    "        p = predict_puzzle(puz, models[m_name])\n",
    "        score = accuracy(sln, puz, p)\n",
    "        scores.append(score)\n",
    "    print(m_name)\n",
    "    print(np.mean(scores))\n",
    "    print('')"
   ]
  },
  {
   "cell_type": "code",
   "execution_count": null,
   "metadata": {
    "collapsed": true
   },
   "outputs": [],
   "source": [
    "\n",
    "for m_name in [x[0] for x in results]:\n",
    "    #m_name = 'LogisticRegression 729 729 1 400'\n",
    "    scores = []\n",
    "    for puz, sln in zip(kaggle_puz, kaggle_sln):\n",
    "        p = predict_puzzle(puz, models[m_name])\n",
    "        score = accuracy(sln, puz, p)\n",
    "        scores.append(score)\n",
    "    print(m_name)\n",
    "    print(scores)\n",
    "    print(np.mean(scores))\n",
    "    print('')"
   ]
  },
  {
   "cell_type": "code",
   "execution_count": 654,
   "metadata": {
    "collapsed": true
   },
   "outputs": [],
   "source": []
  },
  {
   "cell_type": "code",
   "execution_count": 25,
   "metadata": {
    "collapsed": true
   },
   "outputs": [],
   "source": []
  },
  {
   "cell_type": "code",
   "execution_count": 34,
   "metadata": {
    "collapsed": true
   },
   "outputs": [],
   "source": [
    "num_examples = 2000\n",
    "\n",
    "dropout_prob = 0.5\n",
    "\n",
    "for model_class in [LogisticRegression]:\n",
    "        for h_size in [5 * hidden_size]:\n",
    "            for epochs in [1]: \n",
    "                for batch_size in [400]:                \n",
    "                    model = model_class(input_size, h_size, output_size, dropout_prob)\n",
    "                    m_name = str(model) + ' {} {}'.format(epochs, batch_size)\n",
    "\n",
    "                    models[m_name] = model\n",
    "                    model.share_memory()\n",
    "                    result = pool.apply_async(\n",
    "                        run_training, \n",
    "                        (file_name, m_name, model, num_examples, epochs, batch_size))\n",
    "\n",
    "                    results.append(result)\n",
    "\n",
    "                    #result = run_training(file_name, m_name, model, num_examples, epochs)"
   ]
  },
  {
   "cell_type": "code",
   "execution_count": null,
   "metadata": {
    "collapsed": true
   },
   "outputs": [],
   "source": []
  },
  {
   "cell_type": "code",
   "execution_count": 36,
   "metadata": {},
   "outputs": [
    {
     "data": {
      "text/plain": [
       "['LogisticRegression 729 729 20 100',\n",
       " 'LogisticRegression 729 729 20 200',\n",
       " 'WideAnd2DeepNetShared 0.5 729 7290 729 20 100',\n",
       " 'WideAnd2DeepNetShared 0.5 729 7290 729 20 200',\n",
       " 'WideAndDeepNetShared 0.5 729 7290 729 20 100',\n",
       " 'WideAndDeepNetShared 0.5 729 7290 729 20 200',\n",
       " 'LogisticRegression 729 729 20 300',\n",
       " 'LogisticRegression 729 729 20 400',\n",
       " 'WideAndDeepNetShared 0.5 729 7290 729 20 300',\n",
       " 'WideAndDeepNetShared 0.5 729 7290 729 20 400']"
      ]
     },
     "execution_count": 36,
     "metadata": {
      "bento_obj_id": "139849235391560"
     },
     "output_type": "execute_result"
    }
   ],
   "source": [
    "list(models.keys())"
   ]
  },
  {
   "cell_type": "code",
   "execution_count": 127,
   "metadata": {},
   "outputs": [
    {
     "name": "stdout",
     "output_type": "stream",
     "text": [
      "LogisticRegression 729 729 20 100\n",
      "LogisticRegression 729 729 20 200\n",
      "False\n",
      "False\n",
      "WideAndDeepNetShared 0.5 729 7290 729 20 100\n",
      "WideAndDeepNetShared 0.5 729 7290 729 20 200\n",
      "LogisticRegression 729 729 20 300\n",
      "LogisticRegression 729 729 20 400\n",
      "WideAndDeepNetShared 0.5 729 7290 729 20 300\n",
      "WideAndDeepNetShared 0.5 729 7290 729 20 400\n"
     ]
    }
   ],
   "source": [
    "for r in results:\n",
    "    print(r.get()[0] if r.ready() else False)"
   ]
  },
  {
   "cell_type": "code",
   "execution_count": 38,
   "metadata": {},
   "outputs": [
    {
     "data": {
      "text/plain": [
       "(0.05, 0.25)"
      ]
     },
     "execution_count": 38,
     "metadata": {
      "bento_obj_id": "139849235393928"
     },
     "output_type": "execute_result"
    },
    {
     "data": {
      "image/png": "[encoded data removed]",
      "text/plain": [
       "<matplotlib.figure.Figure at 0x7f312ffbdf28>"
      ]
     },
     "metadata": {
      "bento_obj_id": "139849235160872"
     },
     "output_type": "display_data"
    }
   ],
   "source": [
    "for r in results:\n",
    "    if r.ready():\n",
    "        m_name, lr, tr, model = r.get()\n",
    "\n",
    "        loss_results[m_name] = lr\n",
    "        time_results[m_name] = tr\n",
    "        \n",
    "ax = None\n",
    "for name, series in loss_results.items():\n",
    "    ax = pd.DataFrame({'loss': series, 'time': time_results[name]}).plot(\n",
    "        y='loss', x='time', label=name, ax=ax)\n",
    "plt.legend()    \n",
    "\n",
    "plt.ylim(0.05, 0.25)        "
   ]
  },
  {
   "cell_type": "code",
   "execution_count": 53,
   "metadata": {},
   "outputs": [
    {
     "data": {
      "text/plain": [
       "(0.05, 0.25)"
      ]
     },
     "execution_count": 53,
     "metadata": {
      "bento_obj_id": "139895760521480"
     },
     "output_type": "execute_result"
    },
    {
     "data": {
      "image/png": "[encoded data removed]",
      "text/plain": [
       "<matplotlib.figure.Figure at 0x7f3bfec7bd30>"
      ]
     },
     "metadata": {
      "bento_obj_id": "139895654300976"
     },
     "output_type": "display_data"
    }
   ],
   "source": [
    "for r in results:\n",
    "    if r.ready():\n",
    "        m_name, lr, tr, model = r.get()\n",
    "\n",
    "        loss_results[m_name] = lr\n",
    "        time_results[m_name] = tr\n",
    "        \n",
    "ax = None\n",
    "for name, series in loss_results.items():\n",
    "    ax = pd.DataFrame({'loss': series, 'time': time_results[name]}).plot(\n",
    "        y='loss', x='time', label=name, ax=ax)\n",
    "plt.legend()    \n",
    "\n",
    "plt.ylim(0.05, 0.25)        "
   ]
  },
  {
   "cell_type": "code",
   "execution_count": 149,
   "metadata": {},
   "outputs": [
    {
     "data": {
      "text/plain": [
       "matrix([[ 1.,  1.,  1.,  1.,  1.,  1.,  1.,  1.,  1.]])"
      ]
     },
     "execution_count": 149,
     "metadata": {
      "bento_obj_id": "139849233725368"
     },
     "output_type": "execute_result"
    }
   ],
   "source": [
    "np.array([0,0,1,0,0]).T * np.matrix(np.ones((9,9))) "
   ]
  },
  {
   "cell_type": "code",
   "execution_count": 150,
   "metadata": {},
   "outputs": [
    {
     "data": {
      "text/plain": [
       "(729,)"
      ]
     },
     "execution_count": 150,
     "metadata": {
      "bento_obj_id": "139849180710224"
     },
     "output_type": "execute_result"
    }
   ],
   "source": [
    "y[1].shape"
   ]
  },
  {
   "cell_type": "code",
   "execution_count": 468,
   "metadata": {
    "collapsed": true
   },
   "outputs": [],
   "source": [
    "def predict(puz, model, is_only_blanks=True):\n",
    "    model.eval()\n",
    "    predictions = model(Variable(torch.Tensor([puz])))\n",
    "    predictions = predictions[0]\n",
    "    \n",
    "    predictions = F.softmax(predictions.reshape((9, 81)), dim=0)\n",
    "    predictions = predictions.reshape(9*81)\n",
    "    \n",
    "    predictions = np.array(predictions.tolist())\n",
    "    min_pred = predictions.min() - 1\n",
    "    \n",
    "    if is_only_blanks:\n",
    "        for i, e in enumerate(puz != 0):\n",
    "            if e:\n",
    "                predictions[i] = min_pred\n",
    "                curr = i\n",
    "                curr += 81\n",
    "                while curr % 729 != i:\n",
    "                    predictions[curr % 729] = min_pred\n",
    "                    curr += 81  \n",
    "        \n",
    "    return predictions\n",
    "    \n",
    "def predict_best(puz, model):    \n",
    "    predictions = predict(puz, model)\n",
    "    \n",
    "    ret = np.zeros(81*9, dtype=int)\n",
    "        \n",
    "    ret[np.argmax(predictions)] = 1  \n",
    "    \n",
    "    return ret\n",
    "\n",
    "\n",
    "def predict_puzzle(puzzle, model):\n",
    "    \n",
    "    num_zeros = np.sum(puzzle == 0)\n",
    "    r = matrix_to_one_hot(puzzle)\n",
    "    for _ in range(num_zeros):\n",
    "        pred = predict_best(r, model)\n",
    "        \n",
    "        r = pred + r\n",
    "        \n",
    "    r = one_hot_to_matrix(r)\n",
    "    return r\n",
    "\n",
    "\n",
    "def accuracy(answer, puzzle, prediction):\n",
    "    num_zeros = np.sum(puzzle == 0)\n",
    "    return ((prediction == answer).sum() - (81 - num_zeros)) / num_zeros\n"
   ]
  },
  {
   "cell_type": "code",
   "execution_count": 176,
   "metadata": {
    "collapsed": true
   },
   "outputs": [],
   "source": [
    "kaggle_puz = []\n",
    "kaggle_sln = []\n",
    "for i, line in enumerate(open('/home/spencebeecher/sudoku_kaggle_test.csv', 'r').read().splitlines()[1:]):\n",
    "    quiz, solution = line.split(\",\")\n",
    "    kaggle_puz.append([int(c) for c in quiz])\n",
    "    kaggle_sln.append([int(c) for c in solution])\n",
    "    \n",
    "\n",
    "kaggle_puz = np.array(kaggle_puz).reshape((-1, 9, 9))\n",
    "kaggle_sln = np.array(kaggle_sln).reshape((-1, 9, 9))"
   ]
  },
  {
   "cell_type": "code",
   "execution_count": 298,
   "metadata": {},
   "outputs": [
    {
     "name": "stdout",
     "output_type": "stream",
     "text": [
      "[1.0, 1.0, 1.0, 1.0, 1.0, 1.0, 1.0, 1.0, 0.36363636363636365, 0.47169811320754718, 0.59615384615384615, 0.30357142857142855, 0.39285714285714285, 1.0, 0.45454545454545453, 0.64912280701754388, 0.45454545454545453, 0.375, 0.3392857142857143, 0.72727272727272729, 0.87037037037037035, 0.59999999999999998, 1.0, 0.35185185185185186, 0.80000000000000004, 1.0, 1.0, 0.75471698113207553, 1.0, 0.92156862745098034]\n"
     ]
    },
    {
     "data": {
      "text/plain": [
       "0.74753989609661686"
      ]
     },
     "execution_count": 298,
     "metadata": {
      "bento_obj_id": "139849179592048"
     },
     "output_type": "execute_result"
    }
   ],
   "source": [
    "m_name = 'WideAndDeepNetShared 0.5 729 7290 729 20 400'\n",
    "scores = []\n",
    "for puz, sln in zip(kaggle_puz, kaggle_sln):\n",
    "    p = predict_puzzle(puz, models[m_name])\n",
    "    score = accuracy(sln, puz, p)\n",
    "    scores.append(score)\n",
    "print(scores)\n",
    "np.mean(scores)"
   ]
  },
  {
   "cell_type": "code",
   "execution_count": 297,
   "metadata": {},
   "outputs": [
    {
     "ename": "ValueError",
     "evalue": "too many values to unpack (expected 2)",
     "output_type": "error",
     "traceback": [
      "\u001b[0;31m---------------------------------------------------------------------------\u001b[0m",
      "\u001b[0;31mValueError\u001b[0m                                Traceback (most recent call last)",
      "\u001b[0;32m<ipython-input-297-663edc3981c1>\u001b[0m in \u001b[0;36m<module>\u001b[0;34m()\u001b[0m\n\u001b[1;32m      2\u001b[0m \u001b[0;31m# 953, 872\u001b[0m\u001b[0;34m\u001b[0m\u001b[0;34m\u001b[0m\u001b[0m\n\u001b[1;32m      3\u001b[0m \u001b[0;32mwith\u001b[0m \u001b[0mopen\u001b[0m\u001b[0;34m(\u001b[0m\u001b[0;34m'sudoku_eval.dat'\u001b[0m\u001b[0;34m,\u001b[0m \u001b[0;34m'r'\u001b[0m\u001b[0;34m)\u001b[0m \u001b[0;32mas\u001b[0m \u001b[0mf\u001b[0m\u001b[0;34m:\u001b[0m\u001b[0;34m\u001b[0m\u001b[0m\n\u001b[0;32m----> 4\u001b[0;31m     \u001b[0mx\u001b[0m\u001b[0;34m,\u001b[0m \u001b[0my\u001b[0m \u001b[0;34m=\u001b[0m \u001b[0mget_x_y\u001b[0m\u001b[0;34m(\u001b[0m\u001b[0mf\u001b[0m\u001b[0;34m,\u001b[0m \u001b[0mbatches\u001b[0m\u001b[0;34m=\u001b[0m\u001b[0;36m1000\u001b[0m\u001b[0;34m)\u001b[0m\u001b[0;34m\u001b[0m\u001b[0m\n\u001b[0m\u001b[1;32m      5\u001b[0m \u001b[0;34m\u001b[0m\u001b[0m\n\u001b[1;32m      6\u001b[0m \u001b[0;34m\u001b[0m\u001b[0m\n",
      "\u001b[0;32m<ipython-input-219-69f9d7aabedb>\u001b[0m in \u001b[0;36mget_x_y\u001b[0;34m(f, batches)\u001b[0m\n\u001b[1;32m     14\u001b[0m             \u001b[0;32mbreak\u001b[0m\u001b[0;34m\u001b[0m\u001b[0m\n\u001b[1;32m     15\u001b[0m \u001b[0;34m\u001b[0m\u001b[0m\n\u001b[0;32m---> 16\u001b[0;31m         \u001b[0mxx\u001b[0m\u001b[0;34m,\u001b[0m \u001b[0myy\u001b[0m \u001b[0;34m=\u001b[0m \u001b[0mline\u001b[0m\u001b[0;34m.\u001b[0m\u001b[0mstrip\u001b[0m\u001b[0;34m(\u001b[0m\u001b[0;34m)\u001b[0m\u001b[0;34m.\u001b[0m\u001b[0msplit\u001b[0m\u001b[0;34m(\u001b[0m\u001b[0;34m','\u001b[0m\u001b[0;34m)\u001b[0m\u001b[0;34m\u001b[0m\u001b[0m\n\u001b[0m\u001b[1;32m     17\u001b[0m \u001b[0;34m\u001b[0m\u001b[0m\n\u001b[1;32m     18\u001b[0m         \u001b[0mxx\u001b[0m \u001b[0;34m=\u001b[0m \u001b[0mnp\u001b[0m\u001b[0;34m.\u001b[0m\u001b[0marray\u001b[0m\u001b[0;34m(\u001b[0m\u001b[0;34m[\u001b[0m\u001b[0mint\u001b[0m\u001b[0;34m(\u001b[0m\u001b[0mv\u001b[0m\u001b[0;34m)\u001b[0m \u001b[0;32mfor\u001b[0m \u001b[0mv\u001b[0m \u001b[0;32min\u001b[0m \u001b[0mxx\u001b[0m\u001b[0;34m]\u001b[0m\u001b[0;34m)\u001b[0m\u001b[0;34m.\u001b[0m\u001b[0mreshape\u001b[0m\u001b[0;34m(\u001b[0m\u001b[0;34m(\u001b[0m\u001b[0;36m9\u001b[0m\u001b[0;34m,\u001b[0m\u001b[0;36m9\u001b[0m\u001b[0;34m)\u001b[0m\u001b[0;34m)\u001b[0m\u001b[0;34m\u001b[0m\u001b[0m\n",
      "\u001b[0;31mValueError\u001b[0m: too many values to unpack (expected 2)"
     ]
    }
   ],
   "source": [
    "#with open('sudoku_big.dat', 'r') as f:\n",
    "# 953, 872\n",
    "with open('sudoku_eval.dat', 'r') as f:\n",
    "    x, y = get_x_y(f, batches=1000)\n",
    "\n",
    "\n",
    "#x, y = puz_x, puz_y\n",
    "for model_name in list(models.keys()):    \n",
    "    tot = 0\n",
    "    for i in range(len(x)):\n",
    "        r = predict_one(x[i], models[model_name])\n",
    "        #print(np.sum(one_hot_to_matrix(r)==one_hot_to_matrix(y[i])))\n",
    "        tot = tot + (np.sum(one_hot_to_matrix(r) == one_hot_to_matrix(y[i])) == 1)\n",
    "        \n",
    "    print(model_name, ' ', tot * 1.0 / len(x))"
   ]
  },
  {
   "cell_type": "code",
   "execution_count": 159,
   "metadata": {},
   "outputs": [
    {
     "data": {
      "text/plain": [
       "(0.15217391304347827, array([[9, 4, 7, 8, 1, 2, 5, 3, 6],\n",
       "        [2, 3, 8, 7, 5, 6, 9, 4, 1],\n",
       "        [6, 5, 1, 3, 9, 4, 7, 2, 8],\n",
       "        [4, 9, 5, 6, 8, 1, 2, 7, 3],\n",
       "        [1, 7, 2, 5, 3, 4, 8, 6, 9],\n",
       "        [6, 8, 3, 9, 7, 7, 4, 1, 5],\n",
       "        [3, 2, 4, 1, 6, 5, 6, 9, 7],\n",
       "        [7, 1, 6, 2, 2, 9, 3, 5, 4],\n",
       "        [5, 6, 9, 7, 4, 3, 1, 8, 2]]))"
      ]
     },
     "execution_count": 159,
     "metadata": {
      "bento_obj_id": "139849179395784"
     },
     "output_type": "execute_result"
    }
   ],
   "source": [
    "score_puzzle(hard, sudoku.solve_puzzle(hard)[-1], models[m_name])"
   ]
  },
  {
   "cell_type": "code",
   "execution_count": 158,
   "metadata": {},
   "outputs": [
    {
     "data": {
      "text/plain": [
       "array([-53, -13, -53, -53,   0, -13, -53, -53, -53,  -1, -53,  -1, -12,\n",
       "       -53, -14, -14, -53,   0,   0, -53,  -1, -53,  -1, -14, -15,   0,\n",
       "         0, -13, -53, -53, -53, -13, -53, -27, -14, -53,   0, -53,   0,\n",
       "       -53, -13, -13, -14, -53,  -1, -53, -13,   0, -53, -13, -53, -13,\n",
       "         0, -53, -26, -27, -26, -53, -13, -53, -29, -25, -26, -53, -53,\n",
       "       -13, -24, -53, -38, -28, -53, -24, -53, -25, -53, -53, -24, -53,\n",
       "       -53, -11, -53, -53,   0, -53, -53, -15,   0, -53, -53, -53,  -1,\n",
       "       -53,  -1,   0, -53,   0,   0, -53, -14,  -2, -53,  -1, -53, -17,\n",
       "        -1,  -1,  -1, -14,  -1, -53, -53, -53, -13, -53,   0,   0, -53,\n",
       "        -1, -53,  -2, -53, -15,   0,   0, -53, -14, -53,   0,  -1, -53,\n",
       "       -14, -53,   0,   0, -53,   0,   0,   0, -53, -14, -53, -15, -13,\n",
       "       -14, -53, -53, -14, -12, -53, -14, -27, -53, -27, -53, -12, -53,\n",
       "       -53, -27, -53, -53, -13, -53, -53, -25, -53, -53, -24, -37, -53,\n",
       "       -53, -53, -12, -53, -13, -24, -53, -38, -25, -53, -38, -25, -53,\n",
       "       -26, -53, -15, -26, -25, -26, -38, -13, -53, -53, -53, -12, -53,\n",
       "       -14, -27, -53,   0, -53,   0, -53,   1, -13, -14, -53, -14, -53,\n",
       "       -13,   0, -53,   1, -53, -13, -26, -53,   0, -13,  -1, -53, -14,\n",
       "       -53,   0, -13, -14, -53, -53,   0, -25, -53, -13,   0, -53, -12,\n",
       "       -53, -26, -53, -53, -13, -53, -53, -25, -53, -53,   0, -53, -53,\n",
       "         0,   0, -53, -53, -53, -14, -53, -14, -13, -53, -14, -15, -53,\n",
       "       -14,   0, -53,  -1, -53,  -3,  -1, -13, -15, -13,   0, -53, -53,\n",
       "       -53,   0, -53,   0, -14, -53,  -1, -53,  -1, -53,  -2,  -1,  -1,\n",
       "       -53,  -1, -53,   0,  -1, -53,  -1, -53,   0, -14, -53,  -1,  -1,\n",
       "        -2, -53,  -1, -53,  -3, -14,  -1, -53, -53,  -1,   0, -53,  -1,\n",
       "        -2, -53,   0, -53,   0, -53, -53,  -1, -53, -53, -13, -53, -53,\n",
       "       -23, -53, -53, -24, -36, -53, -53, -53, -37, -53, -36, -24, -53,\n",
       "       -24, -25, -53, -37, -24, -53, -25, -53, -26, -37, -25, -37, -36,\n",
       "       -24, -53, -53, -53, -35, -53, -36, -37, -53, -37, -53, -24, -53,\n",
       "       -25, -24, -37, -53, -25, -53, -36, -25, -53, -37, -53, -24, -24,\n",
       "       -53, -24, -36, -38, -53, -25, -53, -39, -24, -37, -53, -53, -37,\n",
       "       -35, -53, -25, -25, -53, -24, -53, -24, -53, -53, -36, -53, -53,\n",
       "       -23, -53, -53, -13, -53, -53, -14, -13, -53, -53, -53, -13, -53,\n",
       "         0, -12, -53,   0, -13, -53, -14, -13, -53,   0, -53,  -2,   0,\n",
       "       -13, -27, -14, -25, -53, -53, -53, -12, -53, -25, -25, -53, -27,\n",
       "       -53, -25, -53, -26, -25, -13, -53, -26, -53, -12, -13, -53, -26,\n",
       "       -53, -24, -25, -53, -15,  -1,  -1, -53,   0, -53,  -1, -13, -13,\n",
       "       -53, -53,  -1, -13, -53,   0,   0, -53, -13, -53,   0, -53, -53,\n",
       "         0, -53, -53, -12, -53, -53, -25, -53, -53, -12, -26, -53, -53,\n",
       "       -53, -25, -53, -13, -12, -53, -13,   0, -53,  -1, -25, -53, -13,\n",
       "       -53,   0, -14,   0,  -1,   0, -24, -53, -53, -53, -11, -53,   0,\n",
       "         0, -53, -26, -53, -26, -53, -26, -26, -14, -53, -14, -53, -25,\n",
       "       -38, -53, -14, -53, -13, -13, -53, -13, -25, -26, -53, -12, -53,\n",
       "        -1,   0,   0, -53, -53, -25, -25, -53, -39, -15, -53, -13, -53,\n",
       "       -37, -53, -53, -13, -53, -53, -12, -53, -53, -13, -53, -53, -14,\n",
       "       -14, -53, -53, -53,   0, -53,  -1, -13, -53, -14,   0, -53,   0,\n",
       "         0, -53,  -1, -53, -16, -14,   0,  -1,   0,   0, -53, -53, -53,\n",
       "         0, -53,  -1,   0, -53,  -2, -53,  -2, -53,  -1,   0,  -2, -53,\n",
       "        -2, -53,   0,  -2, -53,  -1, -53,   0,  -1, -53,  -1,  -1,  -1,\n",
       "       -53,  -1, -53,  -3,  -1,  -1, -53, -53,  -1, -13, -53,   0,  -3,\n",
       "       -53,  -1, -53,   0, -53, -53,   0, -53, -53,   0, -53, -53, -25,\n",
       "       -53, -53, -13, -12, -53, -53, -53, -12, -53, -26, -13, -53,   0,\n",
       "         0, -53,   0, -13, -53, -26, -53,  -1,   0,   0,   0,  -1, -25,\n",
       "       -53, -53, -53, -26, -53, -14, -13, -53, -25, -53, -25, -53, -13,\n",
       "       -13,   0, -53,   0, -53, -25, -38, -53, -14, -53, -13, -13, -53,\n",
       "       -26, -25, -13, -53,   0, -53,  -2,   0,  -1, -53, -53, -13, -12,\n",
       "       -53,   0,  -2, -53,   0, -53, -25, -53, -53, -13, -53, -53, -13, -53])"
      ]
     },
     "execution_count": 158,
     "metadata": {
      "bento_obj_id": "139849233744240"
     },
     "output_type": "execute_result"
    }
   ],
   "source": [
    "predict(matrix_to_one_hot(hard), models[m_name] ).astype(int)"
   ]
  },
  {
   "cell_type": "code",
   "execution_count": 135,
   "metadata": {},
   "outputs": [
    {
     "data": {
      "text/plain": [
       "array([-38, -39, -24, -37,  17, -37, -49, -50, -38, -39, -38, -24, -36,\n",
       "       -41, -51, -37, -38,  17, -10, -24,  -8, -40, -25, -23, -38, -37,\n",
       "       -24, -37, -50, -37, -36, -36,  18, -49, -37, -49,  17, -37, -24,\n",
       "       -49, -49, -36, -49, -37, -49, -37, -50, -37, -52, -35, -37, -37,\n",
       "        18, -36, -51, -38, -37,  18, -37, -37, -24, -49, -49, -39,  17,\n",
       "       -10, -23, -49, -52, -38, -48, -49, -50, -37, -36, -37, -48, -49,\n",
       "        17, -36, -36, -36, -49, -48, -24, -38,  17, -49, -36, -49,  18,\n",
       "       -37, -36, -23, -53, -37, -49, -36, -49, -23, -48, -51, -40, -50,\n",
       "       -24, -37,  18, -36, -50, -49, -37, -24, -39, -40,  17, -37, -37,\n",
       "       -37, -38,  16, -24, -38, -39, -37, -49, -49, -36, -36, -24,  -8,\n",
       "       -10, -23, -25, -36, -38, -38,  18, -36, -37, -37, -50, -36, -49,\n",
       "       -36, -49, -36, -36, -11,  17, -40, -49, -49, -37, -49, -36, -49,\n",
       "       -37, -37, -49, -36, -36,  18, -38, -38, -51, -24, -38, -38, -26,\n",
       "        16, -38, -24,  15, -38, -11, -42, -38, -37, -38, -51, -11, -25,\n",
       "       -41,  -9, -24, -10, -25, -25, -38, -37, -50, -37, -38, -37, -50,\n",
       "       -24, -38,  17, -37, -49, -37, -24,  17, -37, -37, -50, -38, -24,\n",
       "       -38,  17, -40, -24, -49, -37, -50, -37, -11, -25, -25, -25, -38,\n",
       "       -26,   2, -25, -25, -10, -25, -12, -12, -38, -28, -11, -25, -26,\n",
       "       -24, -39, -39, -25, -40,  14, -24, -39, -39, -36,  18, -36, -37,\n",
       "       -49, -48, -49, -36, -49, -49, -36, -49, -23, -52, -49, -37,  17,\n",
       "       -36, -35, -36, -52,  14, -36, -23, -48, -36, -48,  18, -36, -36,\n",
       "       -49, -49, -36, -36, -49, -49, -37, -49, -48, -37, -37,  19, -36,\n",
       "       -48, -49, -36, -48, -49, -52, -35, -37,  18, -37, -37, -37, -36,\n",
       "        18, -49, -37, -49, -36, -48, -36, -49, -49, -23, -35, -37, -52,\n",
       "       -37, -37,  17, -50, -48, -36, -36,  19, -36, -49, -48, -36, -50,\n",
       "       -37, -50, -39, -23, -39,  17, -37, -37, -38, -24, -36, -11,  -8,\n",
       "       -23, -25, -37, -37, -24,  17, -41, -42, -24, -26, -37, -50, -49,\n",
       "       -36, -36,  18, -38, -36, -50, -48, -49, -37, -48, -48, -36,  17,\n",
       "       -25, -38, -48, -49, -36, -49, -49, -36, -41, -23, -50, -37, -37,\n",
       "        18, -36, -48, -49, -38, -24,  17, -37, -37, -49, -38, -50, -35,\n",
       "       -35, -37, -40, -38,  18, -37,  18, -37, -36, -49, -37, -37, -50,\n",
       "       -36, -48, -48, -48, -36, -49, -49, -36, -37, -36,  18, -48, -50,\n",
       "       -37, -22, -39,  18, -48, -49, -36, -23, -36,  16, -52, -49, -23,\n",
       "       -48, -49, -36, -36, -49, -49,  18, -36, -37, -49, -36, -48, -37,\n",
       "       -48, -49, -36, -49, -49, -37,  18, -37,  18, -36, -37, -39, -35,\n",
       "       -49, -49, -36, -48, -50, -37, -49, -36,  18, -36, -24, -48, -48,\n",
       "       -50, -36, -36, -35, -36, -52,  17, -36, -36, -36,  18, -36, -49,\n",
       "       -36, -49, -37, -49, -49, -37, -36,  17, -49, -37, -48, -35, -48,\n",
       "       -49, -49, -48, -36, -23,  15, -36, -37, -49, -49, -36, -49, -39,\n",
       "       -52, -37, -35,  18, -36, -36, -49, -36, -48, -49, -48, -36, -37,\n",
       "        18, -37, -37,  18, -37, -49, -47, -36, -49, -36, -49, -49, -36,\n",
       "       -49, -40, -23,  18, -49, -36, -48, -38, -49, -50, -36, -48, -49,\n",
       "       -24, -37,  18,  17, -37, -23, -23, -49, -51, -50, -49, -36, -36,\n",
       "       -48, -49,  19, -37, -36, -49, -49, -37, -49, -49, -36,  17, -38,\n",
       "       -24, -49, -49, -37, -36, -36,  17, -24, -53, -37, -49, -48, -36,\n",
       "       -36, -49, -39, -40, -50, -23, -36, -36,  17, -49, -36, -50, -37,\n",
       "        17, -23, -37, -49, -49, -49, -37, -49, -50, -37, -37,  18, -36,\n",
       "       -36, -36,  18, -36, -53, -24, -36, -37, -48, -49,  16, -38, -37,\n",
       "       -38, -39, -24, -37, -38, -49, -26, -36, -22, -11, -24,  -9, -38,\n",
       "       -25, -37, -37, -50, -50, -39, -38, -24, -38,  17, -37,  18, -36,\n",
       "       -36, -49, -37, -49, -36, -48, -48, -36, -49, -49, -36, -38, -49,\n",
       "        18, -36, -37, -22, -50, -52, -39,  18, -23, -36, -48, -49, -36,\n",
       "        18, -37, -36, -49, -48, -49, -48, -37, -49, -36, -49, -36, -49,\n",
       "       -49, -37, -36,  18, -49, -36, -48,  14, -23, -36, -49, -49, -36,\n",
       "       -51, -49, -36, -49, -50, -36, -24,  17, -37, -51, -49, -22, -24,\n",
       "       -36,  15, -50, -37, -49, -36, -36,  19, -48, -49, -36, -49, -36, -49])"
      ]
     },
     "execution_count": 135,
     "metadata": {
      "bento_obj_id": "139849179504432"
     },
     "output_type": "execute_result"
    }
   ],
   "source": [
    "predict(matrix_to_one_hot(np.array([[9, 4, 7, 8, 1, 2, 5, 3, 6],\n",
    "        [2, 3, 8, 0, 7, 6, 9, 4, 1],\n",
    "        [0, 5, 6, 4, 9, 0, 7, 2, 8],\n",
    "        [4, 9, 5, 6, 8, 1, 2, 7, 3],\n",
    "        [1, 7, 2, 5, 3, 4, 8, 6, 9],\n",
    "        [6, 8, 3, 9, 0, 7, 4, 1, 5],\n",
    "        [8, 2, 4, 1, 6, 5, 0, 9, 7],\n",
    "        [7, 1, 0, 0, 2, 9, 6, 5, 4],\n",
    "        [5, 6, 9, 7, 4, 3, 1, 8, 2]])), models[m_name], False ).astype(int)"
   ]
  },
  {
   "cell_type": "code",
   "execution_count": 120,
   "metadata": {},
   "outputs": [
    {
     "data": {
      "text/plain": [
       "True"
      ]
     },
     "execution_count": 120,
     "metadata": {
      "bento_obj_id": "139852138825152"
     },
     "output_type": "execute_result"
    }
   ],
   "source": [
    "sudoku.is_correct(sudoku.solve_puzzle(hard)[-1])"
   ]
  },
  {
   "cell_type": "code",
   "execution_count": 116,
   "metadata": {
    "collapsed": true
   },
   "outputs": [],
   "source": []
  },
  {
   "cell_type": "code",
   "execution_count": 99,
   "metadata": {
    "collapsed": true
   },
   "outputs": [],
   "source": [
    "hard = np.array([\n",
    "       [9, 0, 7, 8, 0, 0, 5, 3, 6],\n",
    "       [0, 3, 0, 0, 5, 0, 0, 4, 0],\n",
    "       [0, 5, 0, 3, 0, 0, 0, 0, 0],\n",
    "       [0, 9, 5, 6, 0, 1, 0, 0, 3],\n",
    "       [0, 7, 0, 5, 0, 0, 0, 6, 0],\n",
    "       [6, 0, 0, 9, 0, 7, 0, 0, 5],\n",
    "       [0, 0, 0, 1, 0, 5, 0, 0, 0],\n",
    "       [7, 1, 0, 0, 2, 0, 0, 5, 0],\n",
    "       [5, 0, 9, 7, 0, 3, 1, 0, 2]])"
   ]
  },
  {
   "cell_type": "code",
   "execution_count": 104,
   "metadata": {},
   "outputs": [
    {
     "data": {
      "text/plain": [
       "-inf"
      ]
     },
     "execution_count": 104,
     "metadata": {
      "bento_obj_id": "139849202136888"
     },
     "output_type": "execute_result"
    }
   ],
   "source": []
  },
  {
   "cell_type": "code",
   "execution_count": 95,
   "metadata": {},
   "outputs": [
    {
     "data": {
      "text/plain": [
       "array([[0, 0, 0, 0, 0, 0, 0, 0, 0],\n",
       "       [0, 0, 0, 0, 0, 0, 0, 0, 0],\n",
       "       [0, 0, 0, 0, 0, 0, 0, 0, 0],\n",
       "       [0, 0, 0, 0, 0, 0, 0, 0, 0],\n",
       "       [0, 0, 0, 0, 3, 0, 0, 0, 0],\n",
       "       [0, 0, 0, 0, 0, 0, 0, 0, 0],\n",
       "       [0, 0, 0, 0, 0, 0, 0, 0, 0],\n",
       "       [0, 0, 0, 0, 0, 0, 0, 0, 0],\n",
       "       [0, 0, 0, 0, 0, 0, 0, 0, 0]])"
      ]
     },
     "metadata": {
      "bento_obj_id": "139849179600176"
     },
     "output_type": "display_data"
    },
    {
     "name": "stdout",
     "output_type": "stream",
     "text": [
      "\n"
     ]
    },
    {
     "data": {
      "text/plain": [
       "array([[9, 2, 7, 8, 1, 4, 5, 3, 6],\n",
       "       [1, 3, 6, 2, 5, 9, 8, 4, 7],\n",
       "       [8, 5, 4, 3, 7, 6, 2, 9, 1],\n",
       "       [4, 9, 5, 6, 8, 1, 7, 2, 3],\n",
       "       [3, 7, 1, 5, 4, 2, 9, 6, 8],\n",
       "       [6, 8, 2, 9, 3, 7, 4, 1, 5],\n",
       "       [2, 6, 8, 1, 9, 5, 3, 7, 4],\n",
       "       [7, 1, 3, 4, 2, 8, 6, 5, 9],\n",
       "       [5, 4, 9, 7, 6, 3, 1, 8, 2]])"
      ]
     },
     "metadata": {
      "bento_obj_id": "139849203711072"
     },
     "output_type": "display_data"
    }
   ],
   "source": [
    "\n",
    "\n",
    "puzz = predict_one(matrix_to_one_hot(hard), models[m_name], n=0)\n",
    "puzz = one_hot_to_matrix(puzz)\n",
    "display(puzz)\n",
    "print()\n",
    "\n",
    "solved = sudoku.solve_puzzle(hard)[-1]\n",
    "display(solved)\n",
    "\n",
    "if np.any(solved==puzz):\n",
    "    hard = hard+puzz\n",
    "    print('correct!')"
   ]
  },
  {
   "cell_type": "code",
   "execution_count": 96,
   "metadata": {},
   "outputs": [
    {
     "data": {
      "text/plain": [
       "array([[9, 0, 7, 8, 0, 0, 5, 3, 6],\n",
       "       [0, 3, 0, 0, 5, 0, 0, 4, 0],\n",
       "       [0, 5, 0, 3, 0, 0, 0, 0, 0],\n",
       "       [0, 9, 5, 6, 0, 1, 0, 0, 3],\n",
       "       [0, 7, 0, 5, 0, 0, 0, 6, 0],\n",
       "       [6, 0, 0, 9, 0, 7, 0, 0, 5],\n",
       "       [0, 0, 0, 1, 0, 5, 0, 0, 0],\n",
       "       [7, 1, 0, 0, 2, 0, 0, 5, 0],\n",
       "       [5, 0, 9, 7, 0, 3, 1, 0, 2]])"
      ]
     },
     "execution_count": 96,
     "metadata": {
      "bento_obj_id": "139849180270720"
     },
     "output_type": "execute_result"
    }
   ],
   "source": [
    "hard"
   ]
  },
  {
   "cell_type": "code",
   "execution_count": null,
   "metadata": {
    "collapsed": true
   },
   "outputs": [],
   "source": [
    "WideAndDeepNet 0.5 729 1458 729 5 False   0.079\n",
    "WideAndDeepNetShared 0.5 729 1458 729 5 False   0.078\n",
    "NetShared 0.5 729 1458 729 5 False   0.066\n",
    "WideAndDeepNet 0.5 729 1458 729 5 True   0.88\n",
    "WideAndDeepNetShared 0.5 729 1458 729 5 True   0.941\n",
    "NetShared 0.5 729 1458 729 5 True   0.942\n",
    "WideAndDeepNet 0.5 729 2916 729 5 True   0.864\n",
    "WideAndDeepNet 0.5 729 7290 729 5 True   0.869\n",
    "WideAndDeepNetShared 0.5 729 2916 729 5 True   0.958\n",
    "WideAndDeepNetShared 0.5 729 7290 729 5 True   0.968\n",
    "NetShared 0.5 729 2916 729 5 True   0.946\n",
    "NetShared 0.5 729 7290 729 5 True   0.968\n",
    "WideAndDeepNetShared 0.5 729 1458 729 1 False   0.067"
   ]
  },
  {
   "cell_type": "code",
   "execution_count": 40,
   "metadata": {},
   "outputs": [
    {
     "data": {
      "text/plain": [
       "7290"
      ]
     },
     "execution_count": 40,
     "metadata": {
      "bento_obj_id": "139895720870224"
     },
     "output_type": "execute_result"
    }
   ],
   "source": [
    "hidden_size*5"
   ]
  },
  {
   "cell_type": "code",
   "execution_count": 46,
   "metadata": {},
   "outputs": [
    {
     "ename": "NameError",
     "evalue": "name 'ml_solve_puzzle_answer' is not defined",
     "output_type": "error",
     "traceback": [
      "\u001b[0;31m---------------------------------------------------------------------------\u001b[0m",
      "\u001b[0;31mNameError\u001b[0m                                 Traceback (most recent call last)",
      "\u001b[0;32m<ipython-input-46-434eaf215a82>\u001b[0m in \u001b[0;36m<module>\u001b[0;34m()\u001b[0m\n\u001b[1;32m     10\u001b[0m     \u001b[0mn\u001b[0m \u001b[0;34m=\u001b[0m \u001b[0;36m0\u001b[0m\u001b[0;34m\u001b[0m\u001b[0m\n\u001b[1;32m     11\u001b[0m     \u001b[0;32mfor\u001b[0m \u001b[0mi\u001b[0m \u001b[0;32min\u001b[0m \u001b[0mrange\u001b[0m\u001b[0;34m(\u001b[0m\u001b[0mlen\u001b[0m\u001b[0;34m(\u001b[0m\u001b[0mx\u001b[0m\u001b[0;34m)\u001b[0m\u001b[0;34m)\u001b[0m\u001b[0;34m:\u001b[0m\u001b[0;34m\u001b[0m\u001b[0m\n\u001b[0;32m---> 12\u001b[0;31m         \u001b[0mr\u001b[0m \u001b[0;34m=\u001b[0m \u001b[0mml_solve_puzzle_answer\u001b[0m\u001b[0;34m(\u001b[0m\u001b[0mx\u001b[0m\u001b[0;34m[\u001b[0m\u001b[0mi\u001b[0m\u001b[0;34m]\u001b[0m\u001b[0;34m,\u001b[0m \u001b[0mmodels\u001b[0m\u001b[0;34m[\u001b[0m\u001b[0mmodel_name\u001b[0m\u001b[0;34m]\u001b[0m\u001b[0;34m,\u001b[0m \u001b[0my\u001b[0m\u001b[0;34m[\u001b[0m\u001b[0mi\u001b[0m\u001b[0;34m]\u001b[0m\u001b[0;34m)\u001b[0m\u001b[0;34m\u001b[0m\u001b[0m\n\u001b[0m\u001b[1;32m     13\u001b[0m         \u001b[0;31m#print(np.sum(one_hot_to_matrix(r)==one_hot_to_matrix(y[i])))\u001b[0m\u001b[0;34m\u001b[0m\u001b[0;34m\u001b[0m\u001b[0m\n\u001b[1;32m     14\u001b[0m         \u001b[0mtot\u001b[0m \u001b[0;34m=\u001b[0m \u001b[0mtot\u001b[0m \u001b[0;34m+\u001b[0m \u001b[0;34m(\u001b[0m\u001b[0mone_hot_to_matrix\u001b[0m\u001b[0;34m(\u001b[0m\u001b[0mr\u001b[0m\u001b[0;34m)\u001b[0m \u001b[0;34m==\u001b[0m \u001b[0mone_hot_to_matrix\u001b[0m\u001b[0;34m(\u001b[0m\u001b[0my\u001b[0m\u001b[0;34m[\u001b[0m\u001b[0mi\u001b[0m\u001b[0;34m]\u001b[0m\u001b[0;34m)\u001b[0m\u001b[0;34m)\u001b[0m\u001b[0;34m.\u001b[0m\u001b[0msum\u001b[0m\u001b[0;34m(\u001b[0m\u001b[0;34m)\u001b[0m \u001b[0;34m/\u001b[0m \u001b[0;36m81.0\u001b[0m\u001b[0;34m\u001b[0m\u001b[0m\n",
      "\u001b[0;31mNameError\u001b[0m: name 'ml_solve_puzzle_answer' is not defined"
     ]
    }
   ],
   "source": [
    "#with open('sudoku_big.dat', 'r') as f:\n",
    "# 953, 872\n",
    "with open('sudoku_eval.dat', 'r') as f:\n",
    "    x, y = get_x_y(f, batches=1000)\n",
    "\n",
    "\n",
    "#x, y = puz_x, puz_y\n",
    "for model_name in list(models.keys()):    \n",
    "    tot = 0\n",
    "    n = 0\n",
    "    for i in range(len(x)):\n",
    "        r = ml_solve_puzzle_answer(x[i], models[model_name], y[i])\n",
    "        #print(np.sum(one_hot_to_matrix(r)==one_hot_to_matrix(y[i])))\n",
    "        tot = tot + (one_hot_to_matrix(r) == one_hot_to_matrix(y[i])).sum() / 81.0\n",
    "        n = n + 1\n",
    "        \n",
    "    print(model_name, ' ', tot * 1.0 / n)"
   ]
  },
  {
   "cell_type": "code",
   "execution_count": 47,
   "metadata": {
    "collapsed": true
   },
   "outputs": [],
   "source": [
    "def ml_solve_puzzle_answer(puz, model, answer=None):\n",
    "    #answer = one_hot_to_matrix(answer)\n",
    "    num_zeros = np.sum(one_hot_to_matrix(puz) == 0)\n",
    "    curr_puz = puz.copy()\n",
    "    \n",
    "    i = 0 \n",
    "    while num_zeros > 0 and i < 90:\n",
    "        #print(i)\n",
    "        pred = predict_one(curr_puz, model, 0)\n",
    "        \n",
    "        if not answer is None and not (answer & pred).sum() == 1:\n",
    "            return curr_puz\n",
    "        \n",
    "        curr_puz += pred\n",
    "        \n",
    "        parr = one_hot_to_matrix(curr_puz)\n",
    "        \n",
    "        num_zeros = np.sum(parr == 0)\n",
    "        i += 1\n",
    "        \n",
    "    return curr_puz"
   ]
  },
  {
   "cell_type": "code",
   "execution_count": 224,
   "metadata": {},
   "outputs": [
    {
     "name": "stdout",
     "output_type": "stream",
     "text": [
      "[[8 2 3 9 5 7 1 4 6]\n",
      " [7 6 5 8 1 4 2 3 9]\n",
      " [4 9 1 6 3 2 8 5 7]\n",
      " [1 4 6 2 7 9 3 8 5]\n",
      " [5 7 8 3 4 6 9 2 1]\n",
      " [9 3 2 5 8 1 7 6 4]\n",
      " [2 1 9 4 6 8 5 7 3]\n",
      " [3 8 4 7 9 5 6 1 2]\n",
      " [6 5 7 1 2 3 4 9 8]]\n",
      "\n",
      "[[0 0 0 0 0 0 0 0 0]\n",
      " [0 6 5 8 1 4 0 0 0]\n",
      " [0 0 1 0 0 2 0 0 7]\n",
      " [0 0 0 0 0 0 0 0 0]\n",
      " [5 7 8 3 0 6 0 0 1]\n",
      " [0 3 0 5 8 1 7 0 4]\n",
      " [0 1 9 0 0 8 0 7 3]\n",
      " [0 8 4 7 0 5 0 1 2]\n",
      " [0 5 7 1 2 0 0 9 8]]\n",
      "\n",
      "[[0 0 0 0 0 0 0 0 0]\n",
      " [0 0 0 0 0 0 0 0 0]\n",
      " [0 0 0 0 0 0 0 0 0]\n",
      " [0 0 0 0 0 7 0 0 0]\n",
      " [0 0 0 0 0 0 0 0 0]\n",
      " [0 0 0 0 0 0 0 0 0]\n",
      " [0 0 0 0 0 0 0 0 0]\n",
      " [0 0 0 0 0 0 0 0 0]\n",
      " [0 0 0 0 0 0 0 0 0]]\n"
     ]
    }
   ],
   "source": [
    "i = 8\n",
    "model = models['WideAndDeepNetShared 0.5 729 4374 729 20 True']\n",
    "\n",
    "r = ml_solve_puzzle_answer(\n",
    "        x[i], \n",
    "        model,\n",
    "        y[i]\n",
    "    )\n",
    "\n",
    "\n",
    "\n",
    "#print((one_hot_to_matrix(y[i]) == one_hot_to_matrix(r)) | (one_hot_to_matrix(r) == 0))\n",
    "#print(one_hot_to_matrix(x[i]))\n",
    "#print()\n",
    "\n",
    "print(one_hot_to_matrix(y[i]))\n",
    "print()\n",
    "\n",
    "\n",
    "print(one_hot_to_matrix(r))\n",
    "print()    \n",
    "\n",
    "print(one_hot_to_matrix(predict_one(r, model, 0)))"
   ]
  },
  {
   "cell_type": "code",
   "execution_count": 164,
   "metadata": {},
   "outputs": [
    {
     "data": {
      "text/plain": [
       "array([[0, 0, 0, 0, 0, 0, 0, 0, 0],\n",
       "       [0, 0, 0, 0, 0, 0, 0, 0, 0],\n",
       "       [0, 0, 0, 0, 0, 0, 0, 0, 0],\n",
       "       [1, 0, 0, 0, 0, 0, 0, 0, 0],\n",
       "       [0, 0, 0, 0, 0, 0, 0, 0, 0],\n",
       "       [0, 0, 0, 0, 0, 0, 0, 0, 0],\n",
       "       [0, 0, 0, 0, 0, 0, 0, 0, 0],\n",
       "       [0, 0, 0, 0, 0, 0, 0, 0, 0],\n",
       "       [0, 0, 0, 0, 0, 0, 0, 0, 0]])"
      ]
     },
     "execution_count": 164,
     "metadata": {
      "bento_obj_id": "140314821840208"
     },
     "output_type": "execute_result"
    }
   ],
   "source": [
    "rr"
   ]
  },
  {
   "cell_type": "code",
   "execution_count": 157,
   "metadata": {},
   "outputs": [
    {
     "name": "stdout",
     "output_type": "stream",
     "text": [
      "[[0 0 7 0 2 0 0 9 8]\n",
      " [0 0 4 7 0 5 0 1 2]\n",
      " [0 1 9 0 0 0 0 7 3]\n",
      " [0 3 0 5 8 1 0 0 4]\n",
      " [5 7 8 3 0 6 0 0 1]\n",
      " [0 0 0 0 0 0 0 0 0]\n",
      " [0 0 1 0 0 2 0 0 7]\n",
      " [0 6 5 8 1 4 0 0 0]\n",
      " [0 0 0 0 0 0 0 0 0]]\n",
      "\n",
      "[[6 5 7 1 2 3 4 9 8]\n",
      " [3 8 4 7 9 5 6 1 2]\n",
      " [2 1 9 4 6 8 5 7 3]\n",
      " [9 3 2 5 8 1 7 6 4]\n",
      " [5 7 8 3 4 6 9 2 1]\n",
      " [1 4 6 2 7 9 3 8 5]\n",
      " [4 9 1 6 3 2 8 5 7]\n",
      " [7 6 5 8 1 4 2 3 9]\n",
      " [8 2 3 9 5 7 1 4 6]]\n",
      "\n",
      "[[0 0 0 0 0 0 0 0 0]\n",
      " [0 0 0 0 0 0 0 0 0]\n",
      " [0 0 0 0 0 8 0 0 0]\n",
      " [0 0 0 0 0 0 0 0 0]\n",
      " [0 0 0 0 0 0 0 0 0]\n",
      " [0 0 0 0 0 0 0 0 0]\n",
      " [0 0 0 0 0 0 0 0 0]\n",
      " [0 0 0 0 0 0 0 0 0]\n",
      " [0 0 0 0 0 0 0 0 0]]\n",
      "\n",
      "[[0 5 0 0 0 0 0 0 0]\n",
      " [0 0 0 0 0 0 0 0 0]\n",
      " [0 0 0 0 0 0 0 0 0]\n",
      " [0 0 0 0 0 0 0 0 0]\n",
      " [0 0 0 0 0 0 0 0 0]\n",
      " [0 0 0 0 0 0 0 0 0]\n",
      " [0 0 0 0 0 0 0 0 0]\n",
      " [0 0 0 0 0 0 0 0 0]\n",
      " [0 0 0 0 0 0 0 0 0]]\n",
      "\n",
      "[[0 0 0 1 0 0 0 0 0]\n",
      " [0 0 0 0 0 0 0 0 0]\n",
      " [0 0 0 0 0 0 0 0 0]\n",
      " [0 0 0 0 0 0 0 0 0]\n",
      " [0 0 0 0 0 0 0 0 0]\n",
      " [0 0 0 0 0 0 0 0 0]\n",
      " [0 0 0 0 0 0 0 0 0]\n",
      " [0 0 0 0 0 0 0 0 0]\n",
      " [0 0 0 0 0 0 0 0 0]]\n"
     ]
    }
   ],
   "source": [
    "print(one_hot_to_matrix(x[i]))\n",
    "print()\n",
    "print(one_hot_to_matrix(y[i]))\n",
    "print()\n",
    "\n",
    "\n",
    "\n",
    "print(one_hot_to_matrix(predict_one(x[i], model, 2)))\n",
    "print()\n",
    "print(one_hot_to_matrix(predict_one(x[i], model, 1)))\n",
    "print()\n",
    "print(one_hot_to_matrix(predict_one(x[i], model, 0)))"
   ]
  },
  {
   "cell_type": "code",
   "execution_count": 147,
   "metadata": {},
   "outputs": [
    {
     "name": "stdout",
     "output_type": "stream",
     "text": [
      "[[0 0 0 1 0 0 0 0 0]\n",
      " [0 0 0 0 0 0 0 0 0]\n",
      " [0 0 0 0 0 0 0 0 0]\n",
      " [0 0 0 0 0 0 0 0 0]\n",
      " [0 0 0 0 0 0 0 0 0]\n",
      " [0 0 0 0 0 0 0 0 0]\n",
      " [0 0 0 0 0 0 0 0 0]\n",
      " [0 0 0 0 0 0 0 0 0]\n",
      " [0 0 0 0 0 0 0 0 0]]\n",
      "\n",
      "[[0 0 0 1 0 0 0 0 0]\n",
      " [0 0 0 0 0 0 0 0 0]\n",
      " [0 0 0 0 0 0 0 0 0]\n",
      " [0 0 0 0 0 0 0 0 0]\n",
      " [0 0 0 0 0 0 0 0 0]\n",
      " [0 0 0 0 0 0 0 0 0]\n",
      " [0 0 0 0 0 0 0 0 0]\n",
      " [0 0 0 0 0 0 0 0 0]\n",
      " [0 0 0 0 0 0 0 0 0]]\n",
      "\n",
      "[[0 0 0 1 0 0 0 0 0]\n",
      " [0 0 0 0 0 0 0 0 0]\n",
      " [0 0 0 0 0 0 0 0 0]\n",
      " [0 0 0 0 0 0 0 0 0]\n",
      " [0 0 0 0 0 0 0 0 0]\n",
      " [0 0 0 0 0 0 0 0 0]\n",
      " [0 0 0 0 0 0 0 0 0]\n",
      " [0 0 0 0 0 0 0 0 0]\n",
      " [0 0 0 0 0 0 0 0 0]]\n",
      "\n"
     ]
    }
   ],
   "source": [
    "for rr in predict_one(x[i], model, 3):\n",
    "    print(one_hot_to_matrix(rr))\n",
    "    print('')   "
   ]
  },
  {
   "cell_type": "code",
   "execution_count": 118,
   "metadata": {},
   "outputs": [
    {
     "ename": "ValueError",
     "evalue": "operands could not be broadcast together with shapes (9,9) (729,) ",
     "output_type": "error",
     "traceback": [
      "\u001b[0;31m---------------------------------------------------------------------------\u001b[0m",
      "\u001b[0;31mValueError\u001b[0m                                Traceback (most recent call last)",
      "\u001b[0;32m<ipython-input-118-e41e11ea4f03>\u001b[0m in \u001b[0;36m<module>\u001b[0;34m()\u001b[0m\n\u001b[1;32m      7\u001b[0m         \u001b[0mmatrix_to_one_hot\u001b[0m\u001b[0;34m(\u001b[0m\u001b[0mpuz\u001b[0m\u001b[0;34m)\u001b[0m\u001b[0;34m,\u001b[0m\u001b[0;34m\u001b[0m\u001b[0m\n\u001b[1;32m      8\u001b[0m         \u001b[0mmodels\u001b[0m\u001b[0;34m[\u001b[0m\u001b[0;34m'WideAndDeepNetShared 0.5 729 4374 729 20 True'\u001b[0m\u001b[0;34m]\u001b[0m\u001b[0;34m,\u001b[0m\u001b[0;34m\u001b[0m\u001b[0m\n\u001b[0;32m----> 9\u001b[0;31m         \u001b[0my\u001b[0m\u001b[0;34m[\u001b[0m\u001b[0mi\u001b[0m\u001b[0;34m]\u001b[0m\u001b[0;34m\u001b[0m\u001b[0m\n\u001b[0m\u001b[1;32m     10\u001b[0m     )\n\u001b[1;32m     11\u001b[0m \u001b[0;34m\u001b[0m\u001b[0m\n",
      "\u001b[0;32m<ipython-input-116-d5753eadd7f1>\u001b[0m in \u001b[0;36mml_solve_puzzle_answer\u001b[0;34m(puz, model, answer)\u001b[0m\n\u001b[1;32m     11\u001b[0m         \u001b[0mcurr_puz\u001b[0m \u001b[0;34m+=\u001b[0m \u001b[0mpred\u001b[0m\u001b[0;34m\u001b[0m\u001b[0m\n\u001b[1;32m     12\u001b[0m \u001b[0;34m\u001b[0m\u001b[0m\n\u001b[0;32m---> 13\u001b[0;31m         \u001b[0;32mif\u001b[0m \u001b[0;34m(\u001b[0m\u001b[0manswer\u001b[0m \u001b[0;34m&\u001b[0m \u001b[0mpred\u001b[0m\u001b[0;34m)\u001b[0m\u001b[0;34m.\u001b[0m\u001b[0msum\u001b[0m\u001b[0;34m(\u001b[0m\u001b[0;34m)\u001b[0m \u001b[0;34m==\u001b[0m \u001b[0;36m1\u001b[0m\u001b[0;34m:\u001b[0m\u001b[0;34m\u001b[0m\u001b[0m\n\u001b[0m\u001b[1;32m     14\u001b[0m             \u001b[0mchoices\u001b[0m\u001b[0;34m.\u001b[0m\u001b[0mappend\u001b[0m\u001b[0;34m(\u001b[0m\u001b[0mcurr_puz\u001b[0m\u001b[0;34m)\u001b[0m\u001b[0;34m\u001b[0m\u001b[0m\n\u001b[1;32m     15\u001b[0m         \u001b[0;32melse\u001b[0m\u001b[0;34m:\u001b[0m\u001b[0;34m\u001b[0m\u001b[0m\n",
      "\u001b[0;31mValueError\u001b[0m: operands could not be broadcast together with shapes (9,9) (729,) "
     ]
    }
   ],
   "source": [
    "i = 4\n",
    "\n",
    "puz = one_hot_to_matrix(x[i])\n",
    "\n",
    "res = one_hot_to_matrix(\n",
    "    ml_solve_puzzle_answer(\n",
    "        matrix_to_one_hot(puz), \n",
    "        models['WideAndDeepNetShared 0.5 729 4374 729 20 True'],\n",
    "        y[i]\n",
    "    )\n",
    "        \n",
    "        \n",
    ")\n",
    "\n",
    "display(one_hot_to_matrix(x[i]))\n",
    "print()\n",
    "display(one_hot_to_matrix(y[i]))\n",
    "print()\n",
    "display(res)\n",
    "\n",
    "display(number_match(matrix_to_one_hot(puz), matrix_to_one_hot(res)))\n"
   ]
  },
  {
   "cell_type": "code",
   "execution_count": 101,
   "metadata": {},
   "outputs": [
    {
     "data": {
      "text/plain": [
       "array([[ True,  True,  True,  True,  True,  True,  True,  True,  True],\n",
       "       [ True,  True,  True,  True,  True,  True,  True,  True,  True],\n",
       "       [ True,  True,  True,  True,  True,  True,  True,  True,  True],\n",
       "       [ True,  True,  True,  True,  True,  True,  True,  True,  True],\n",
       "       [ True,  True,  True,  True,  True,  True,  True,  True,  True],\n",
       "       [ True,  True,  True,  True,  True,  True,  True,  True,  True],\n",
       "       [ True,  True,  True,  True,  True,  True,  True,  True,  True],\n",
       "       [ True,  True,  True,  True,  True,  True,  True,  True,  True],\n",
       "       [ True,  True,  True,  True,  True,  True,  True,  True,  True]], dtype=bool)"
      ]
     },
     "execution_count": 101,
     "metadata": {
      "bento_obj_id": "140314820575920"
     },
     "output_type": "execute_result"
    }
   ],
   "source": [
    "one_hot_to_matrix(y[i]) == res"
   ]
  },
  {
   "cell_type": "code",
   "execution_count": 103,
   "metadata": {},
   "outputs": [
    {
     "data": {
      "text/plain": [
       "81"
      ]
     },
     "execution_count": 103,
     "metadata": {
      "bento_obj_id": "140314835064944"
     },
     "output_type": "execute_result"
    }
   ],
   "source": [
    "number_match(matrix_to_one_hot(res), y[i])"
   ]
  },
  {
   "cell_type": "code",
   "execution_count": 102,
   "metadata": {},
   "outputs": [
    {
     "data": {
      "text/plain": [
       "81"
      ]
     },
     "execution_count": 102,
     "metadata": {
      "bento_obj_id": "140314835064920"
     },
     "output_type": "execute_result"
    }
   ],
   "source": [
    "number_match(y[i], matrix_to_one_hot(res))"
   ]
  },
  {
   "cell_type": "code",
   "execution_count": null,
   "metadata": {
    "collapsed": true
   },
   "outputs": [],
   "source": [
    "def number_match(guess, answer):\n",
    "    return (one_hot_to_matrix(guess) == one_hot_to_matrix(answer)).sum() "
   ]
  },
  {
   "cell_type": "code",
   "execution_count": null,
   "metadata": {
    "collapsed": true
   },
   "outputs": [],
   "source": []
  },
  {
   "cell_type": "code",
   "execution_count": null,
   "metadata": {
    "collapsed": true
   },
   "outputs": [],
   "source": []
  },
  {
   "cell_type": "code",
   "execution_count": null,
   "metadata": {
    "collapsed": true
   },
   "outputs": [],
   "source": []
  },
  {
   "cell_type": "code",
   "execution_count": null,
   "metadata": {
    "collapsed": true
   },
   "outputs": [],
   "source": [
    "#def predict(puz, model):\n",
    "#    model.eval()\n",
    "#    predictions = model(Variable(torch.Tensor([puz])))\n",
    "#    predictions = np.array(predictions[0].tolist())\n",
    "#    return argmax_to_matrix(predictions)\n",
    "\n"
   ]
  },
  {
   "cell_type": "code",
   "execution_count": null,
   "metadata": {
    "collapsed": true
   },
   "outputs": [],
   "source": []
  },
  {
   "cell_type": "code",
   "execution_count": null,
   "metadata": {
    "collapsed": true
   },
   "outputs": [],
   "source": []
  },
  {
   "cell_type": "code",
   "execution_count": null,
   "metadata": {
    "collapsed": true
   },
   "outputs": [],
   "source": []
  },
  {
   "cell_type": "code",
   "execution_count": 163,
   "metadata": {
    "collapsed": true
   },
   "outputs": [],
   "source": [
    "for i in range(len(y)):\n",
    "    if not np.all(matrix_to_one_hot(one_hot_to_matrix(y[i])) == y[i]):\n",
    "        print(\"bad\")\n",
    "        break\n",
    "        \n",
    "    if not np.all(one_hot_to_matrix(matrix_to_one_hot(one_hot_to_matrix(y[i]))) == one_hot_to_matrix(y[i])):\n",
    "        print(\"bad\")\n",
    "        break        "
   ]
  },
  {
   "cell_type": "code",
   "execution_count": 164,
   "metadata": {},
   "outputs": [
    {
     "data": {
      "text/plain": [
       "True"
      ]
     },
     "execution_count": 164,
     "metadata": {
      "bento_obj_id": "139954231402944"
     },
     "output_type": "execute_result"
    }
   ],
   "source": [
    "sudoku.is_complete(one_hot_to_matrix(y[0])) and sudoku.is_correct(one_hot_to_matrix(y[0]))"
   ]
  },
  {
   "cell_type": "code",
   "execution_count": 153,
   "metadata": {},
   "outputs": [
    {
     "data": {
      "text/plain": [
       "[array([[6, 4, 1, 7, 5, 9, 3, 2, 8],\n",
       "        [9, 3, 2, 4, 1, 8, 5, 6, 7],\n",
       "        [7, 5, 8, 2, 3, 6, 1, 9, 4],\n",
       "        [5, 8, 3, 9, 7, 2, 6, 4, 1],\n",
       "        [1, 2, 9, 6, 4, 3, 8, 7, 5],\n",
       "        [4, 6, 7, 1, 8, 5, 2, 3, 9],\n",
       "        [3, 7, 5, 8, 6, 4, 9, 1, 2],\n",
       "        [2, 1, 6, 5, 9, 7, 4, 8, 3],\n",
       "        [8, 9, 4, 3, 2, 1, 7, 5, 6]])]"
      ]
     },
     "execution_count": 153,
     "metadata": {
      "bento_obj_id": "139951452331464"
     },
     "output_type": "execute_result"
    }
   ],
   "source": [
    "sudoku.solve_puzzle(one_hot_to_matrix(x[0]))"
   ]
  },
  {
   "cell_type": "code",
   "execution_count": null,
   "metadata": {
    "collapsed": true
   },
   "outputs": [],
   "source": []
  },
  {
   "cell_type": "code",
   "execution_count": null,
   "metadata": {
    "collapsed": true
   },
   "outputs": [],
   "source": []
  },
  {
   "cell_type": "code",
   "execution_count": 85,
   "metadata": {},
   "outputs": [
    {
     "name": "stdout",
     "output_type": "stream",
     "text": [
      "wideanddeepnet 2917   0.877\n"
     ]
    }
   ],
   "source": [
    "with open('sudoku_eval.dat', 'r') as f:\n",
    "    x, y = get_x_y(f, batches=1000)\n",
    "\n",
    "\n",
    "#x, y = puz_x, puz_y\n",
    "for model_name in models.keys():    \n",
    "    tot = 0\n",
    "    for i in range(len(x)):\n",
    "        r = predict_one(x[i], models[model_name])\n",
    "        #print(np.sum(one_hot_to_matrix(r)==one_hot_to_matrix(y[i])))\n",
    "        tot = tot + (np.sum(one_hot_to_matrix(r) == one_hot_to_matrix(y[i])) == 1)\n",
    "        \n",
    "    print(model_name, ' ', tot * 1.0 / len(x))\n",
    "    "
   ]
  },
  {
   "cell_type": "code",
   "execution_count": 69,
   "metadata": {},
   "outputs": [
    {
     "name": "stdout",
     "output_type": "stream",
     "text": [
      "wideanddeepnet 1458   0.837\n"
     ]
    }
   ],
   "source": [
    "with open('sudoku_eval.dat', 'r') as f:\n",
    "    x, y = get_x_y(f, batches=1000)\n",
    "\n",
    "\n",
    "#x, y = puz_x, puz_y\n",
    "for model_name in models.keys():    \n",
    "    tot = 0\n",
    "    for i in range(len(x)):\n",
    "        r = predict_one(x[i], models[model_name])\n",
    "        #print(np.sum(one_hot_to_matrix(r)==one_hot_to_matrix(y[i])))\n",
    "        tot = tot + (np.sum(one_hot_to_matrix(r) == one_hot_to_matrix(y[i])) == 1)\n",
    "        \n",
    "    print(model_name, ' ', tot * 1.0 / len(x))\n",
    "    "
   ]
  },
  {
   "cell_type": "code",
   "execution_count": 97,
   "metadata": {},
   "outputs": [
    {
     "data": {
      "text/plain": [
       "array([[6, 2, 1, 7, 5, 6, 2, 4, 7],\n",
       "       [9, 2, 2, 7, 7, 9, 3, 2, 7],\n",
       "       [6, 8, 8, 3, 5, 6, 3, 4, 8],\n",
       "       [5, 3, 8, 7, 7, 2, 6, 4, 1],\n",
       "       [9, 2, 9, 9, 4, 4, 2, 4, 4],\n",
       "       [6, 2, 7, 7, 7, 2, 6, 9, 6],\n",
       "       [5, 4, 4, 8, 4, 4, 2, 5, 8],\n",
       "       [6, 6, 6, 8, 9, 9, 3, 8, 8],\n",
       "       [5, 4, 4, 3, 4, 1, 3, 5, 3]])"
      ]
     },
     "metadata": {
      "bento_obj_id": "140171422879952"
     },
     "output_type": "display_data"
    },
    {
     "name": "stdout",
     "output_type": "stream",
     "text": [
      "wideanddeepnet 1458   0.028\n"
     ]
    },
    {
     "data": {
      "text/plain": [
       "array([[6, 2, 1, 7, 5, 6, 2, 4, 7],\n",
       "       [9, 2, 2, 7, 7, 9, 3, 2, 7],\n",
       "       [6, 8, 8, 3, 5, 6, 3, 4, 8],\n",
       "       [5, 3, 8, 7, 7, 2, 6, 4, 1],\n",
       "       [9, 2, 9, 9, 4, 4, 2, 4, 4],\n",
       "       [6, 2, 7, 7, 7, 2, 6, 9, 6],\n",
       "       [5, 4, 4, 8, 4, 4, 2, 5, 8],\n",
       "       [6, 6, 6, 8, 9, 9, 3, 8, 8],\n",
       "       [5, 4, 4, 3, 3, 1, 3, 5, 3]])"
      ]
     },
     "metadata": {
      "bento_obj_id": "140171422880192"
     },
     "output_type": "display_data"
    },
    {
     "name": "stdout",
     "output_type": "stream",
     "text": [
      "wideanddeepnet 729.0   0.028\n"
     ]
    },
    {
     "data": {
      "text/plain": [
       "array([[9, 8, 1, 9, 4, 6, 8, 5, 5],\n",
       "       [8, 9, 5, 7, 3, 7, 6, 4, 5],\n",
       "       [1, 7, 9, 3, 5, 7, 6, 2, 1],\n",
       "       [3, 8, 3, 5, 9, 2, 9, 4, 6],\n",
       "       [9, 4, 4, 4, 2, 5, 1, 9, 4],\n",
       "       [9, 2, 8, 2, 3, 1, 2, 4, 6],\n",
       "       [6, 1, 5, 4, 4, 3, 9, 4, 5],\n",
       "       [4, 5, 3, 5, 4, 7, 5, 5, 5],\n",
       "       [9, 3, 4, 8, 7, 5, 2, 9, 4]])"
      ]
     },
     "metadata": {
      "bento_obj_id": "140171422880272"
     },
     "output_type": "display_data"
    },
    {
     "name": "stdout",
     "output_type": "stream",
     "text": [
      "wideanddeepnet 2916   0.011\n"
     ]
    },
    {
     "data": {
      "text/plain": [
       "array([[6, 2, 1, 7, 5, 6, 2, 4, 7],\n",
       "       [9, 2, 2, 7, 7, 9, 3, 2, 7],\n",
       "       [6, 8, 8, 3, 5, 6, 3, 4, 8],\n",
       "       [5, 3, 8, 7, 7, 2, 6, 4, 1],\n",
       "       [9, 2, 9, 9, 4, 4, 2, 4, 4],\n",
       "       [6, 2, 7, 7, 7, 2, 6, 9, 6],\n",
       "       [5, 4, 4, 8, 4, 4, 2, 5, 8],\n",
       "       [6, 6, 6, 8, 9, 9, 3, 8, 8],\n",
       "       [5, 4, 4, 3, 3, 1, 3, 5, 3]])"
      ]
     },
     "metadata": {
      "bento_obj_id": "140171422880352"
     },
     "output_type": "display_data"
    },
    {
     "name": "stdout",
     "output_type": "stream",
     "text": [
      "wideanddeepnet 14580   0.028\n"
     ]
    },
    {
     "data": {
      "text/plain": [
       "array([[6, 2, 1, 7, 5, 6, 2, 4, 7],\n",
       "       [9, 2, 2, 7, 7, 9, 3, 2, 7],\n",
       "       [6, 8, 8, 3, 5, 6, 3, 4, 8],\n",
       "       [5, 3, 8, 7, 7, 2, 6, 4, 1],\n",
       "       [9, 2, 9, 9, 4, 4, 2, 4, 4],\n",
       "       [6, 2, 7, 7, 7, 2, 6, 9, 6],\n",
       "       [5, 4, 4, 8, 4, 4, 2, 5, 8],\n",
       "       [6, 6, 6, 8, 9, 9, 3, 8, 8],\n",
       "       [5, 4, 4, 3, 3, 1, 3, 5, 3]])"
      ]
     },
     "metadata": {
      "bento_obj_id": "140171422880432"
     },
     "output_type": "display_data"
    },
    {
     "name": "stdout",
     "output_type": "stream",
     "text": [
      "wideanddeepnet 2917   0.028\n"
     ]
    }
   ],
   "source": [
    "with open('sudoku_eval.dat', 'r') as f:\n",
    "    x, y = get_x_y(f, batches=1000)\n",
    "\n",
    "\n",
    "#x, y = puz_x, puz_y\n",
    "for model_name in models.keys():    \n",
    "    tot = 0\n",
    "    for i in range(len(x)):\n",
    "        r = predict(x[i], models[model_name])\n",
    "        #print(np.sum(one_hot_to_matrix(r)==one_hot_to_matrix(y[i])))\n",
    "        tot = tot + (np.sum(r == one_hot_to_matrix(y[i])))\n",
    "        display(r)\n",
    "        break\n",
    "    print(model_name, ' ', tot * 1.0 / len(x))\n",
    "    "
   ]
  },
  {
   "cell_type": "code",
   "execution_count": 98,
   "metadata": {},
   "outputs": [
    {
     "name": "stdout",
     "output_type": "stream",
     "text": [
      "wideanddeepnet 1458\n",
      "13\n"
     ]
    },
    {
     "data": {
      "text/plain": [
       "array([[0, 2, 0, 0, 0, 0, 0, 0, 0],\n",
       "       [0, 0, 0, 0, 0, 0, 0, 0, 0],\n",
       "       [0, 0, 0, 0, 0, 0, 0, 0, 0],\n",
       "       [0, 0, 0, 0, 0, 0, 0, 0, 0],\n",
       "       [0, 0, 0, 0, 0, 0, 0, 0, 0],\n",
       "       [0, 0, 0, 0, 0, 0, 0, 0, 0],\n",
       "       [0, 0, 0, 0, 0, 0, 0, 0, 0],\n",
       "       [0, 0, 0, 0, 0, 0, 0, 0, 0],\n",
       "       [0, 0, 0, 0, 0, 0, 0, 0, 0]])"
      ]
     },
     "metadata": {
      "bento_obj_id": "140171444211920"
     },
     "output_type": "display_data"
    },
    {
     "name": "stdout",
     "output_type": "stream",
     "text": [
      "\n"
     ]
    },
    {
     "data": {
      "text/plain": [
       "array([[0, 0, 4, 0, 0, 1, 0, 8, 5],\n",
       "       [6, 0, 9, 3, 0, 8, 0, 4, 0],\n",
       "       [0, 8, 0, 4, 0, 0, 0, 3, 2],\n",
       "       [2, 0, 8, 0, 4, 0, 0, 0, 7],\n",
       "       [0, 0, 0, 0, 0, 0, 0, 0, 0],\n",
       "       [0, 6, 0, 2, 5, 0, 0, 0, 9],\n",
       "       [0, 0, 2, 5, 9, 0, 0, 0, 3],\n",
       "       [0, 0, 0, 0, 0, 0, 0, 0, 0],\n",
       "       [1, 9, 7, 0, 0, 2, 0, 0, 4]])"
      ]
     },
     "metadata": {
      "bento_obj_id": "140171444212160"
     },
     "output_type": "display_data"
    },
    {
     "name": "stdout",
     "output_type": "stream",
     "text": [
      "\n"
     ]
    },
    {
     "data": {
      "text/plain": [
       "array([[3, 2, 4, 9, 7, 1, 6, 8, 5],\n",
       "       [6, 5, 9, 3, 2, 8, 7, 4, 1],\n",
       "       [7, 8, 1, 4, 6, 5, 9, 3, 2],\n",
       "       [2, 1, 8, 6, 4, 9, 3, 5, 7],\n",
       "       [9, 7, 5, 1, 8, 3, 4, 2, 6],\n",
       "       [4, 6, 3, 2, 5, 7, 8, 1, 9],\n",
       "       [8, 4, 2, 5, 9, 6, 1, 7, 3],\n",
       "       [5, 3, 6, 7, 1, 4, 2, 9, 8],\n",
       "       [1, 9, 7, 8, 3, 2, 5, 6, 4]])"
      ]
     },
     "metadata": {
      "bento_obj_id": "140171444211920"
     },
     "output_type": "display_data"
    },
    {
     "name": "stdout",
     "output_type": "stream",
     "text": [
      "\n",
      "\n",
      "\n",
      "\n",
      "0\n"
     ]
    },
    {
     "data": {
      "text/plain": [
       "array([[0, 0, 0, 0, 0, 0, 0, 0, 0],\n",
       "       [0, 0, 0, 0, 0, 0, 0, 0, 0],\n",
       "       [0, 0, 0, 0, 0, 0, 0, 0, 0],\n",
       "       [0, 0, 0, 0, 0, 0, 0, 0, 0],\n",
       "       [0, 0, 0, 0, 0, 0, 0, 0, 0],\n",
       "       [0, 0, 0, 0, 0, 0, 6, 0, 0],\n",
       "       [0, 0, 0, 0, 0, 0, 0, 0, 0],\n",
       "       [0, 0, 0, 0, 0, 0, 0, 0, 0],\n",
       "       [0, 0, 0, 0, 0, 0, 0, 0, 0]])"
      ]
     },
     "metadata": {
      "bento_obj_id": "140171444212320"
     },
     "output_type": "display_data"
    },
    {
     "name": "stdout",
     "output_type": "stream",
     "text": [
      "\n"
     ]
    },
    {
     "data": {
      "text/plain": [
       "array([[0, 0, 0, 0, 0, 0, 0, 0, 0],\n",
       "       [0, 0, 0, 4, 1, 8, 5, 6, 0],\n",
       "       [7, 0, 0, 2, 0, 0, 1, 0, 0],\n",
       "       [0, 0, 0, 0, 0, 0, 0, 0, 0],\n",
       "       [1, 0, 0, 6, 0, 3, 8, 7, 5],\n",
       "       [4, 0, 0, 1, 8, 5, 0, 3, 0],\n",
       "       [3, 7, 0, 0, 0, 0, 9, 1, 0],\n",
       "       [2, 1, 0, 5, 0, 7, 4, 0, 0],\n",
       "       [8, 9, 0, 0, 2, 0, 7, 0, 0]])"
      ]
     },
     "metadata": {
      "bento_obj_id": "140171444212160"
     },
     "output_type": "display_data"
    },
    {
     "name": "stdout",
     "output_type": "stream",
     "text": [
      "\n"
     ]
    },
    {
     "data": {
      "text/plain": [
       "array([[6, 4, 1, 7, 5, 9, 3, 2, 8],\n",
       "       [9, 3, 2, 4, 1, 8, 5, 6, 7],\n",
       "       [7, 5, 8, 2, 3, 6, 1, 9, 4],\n",
       "       [5, 8, 3, 9, 7, 2, 6, 4, 1],\n",
       "       [1, 2, 9, 6, 4, 3, 8, 7, 5],\n",
       "       [4, 6, 7, 1, 8, 5, 2, 3, 9],\n",
       "       [3, 7, 5, 8, 6, 4, 9, 1, 2],\n",
       "       [2, 1, 6, 5, 9, 7, 4, 8, 3],\n",
       "       [8, 9, 4, 3, 2, 1, 7, 5, 6]])"
      ]
     },
     "metadata": {
      "bento_obj_id": "140171444212320"
     },
     "output_type": "display_data"
    },
    {
     "name": "stdout",
     "output_type": "stream",
     "text": [
      "\n",
      "\n",
      "\n",
      "wideanddeepnet 729.0\n",
      "13\n"
     ]
    },
    {
     "data": {
      "text/plain": [
       "array([[0, 2, 0, 0, 0, 0, 0, 0, 0],\n",
       "       [0, 0, 0, 0, 0, 0, 0, 0, 0],\n",
       "       [0, 0, 0, 0, 0, 0, 0, 0, 0],\n",
       "       [0, 0, 0, 0, 0, 0, 0, 0, 0],\n",
       "       [0, 0, 0, 0, 0, 0, 0, 0, 0],\n",
       "       [0, 0, 0, 0, 0, 0, 0, 0, 0],\n",
       "       [0, 0, 0, 0, 0, 0, 0, 0, 0],\n",
       "       [0, 0, 0, 0, 0, 0, 0, 0, 0],\n",
       "       [0, 0, 0, 0, 0, 0, 0, 0, 0]])"
      ]
     },
     "metadata": {
      "bento_obj_id": "140171444212320"
     },
     "output_type": "display_data"
    },
    {
     "name": "stdout",
     "output_type": "stream",
     "text": [
      "\n"
     ]
    },
    {
     "data": {
      "text/plain": [
       "array([[0, 0, 4, 0, 0, 1, 0, 8, 5],\n",
       "       [6, 0, 9, 3, 0, 8, 0, 4, 0],\n",
       "       [0, 8, 0, 4, 0, 0, 0, 3, 2],\n",
       "       [2, 0, 8, 0, 4, 0, 0, 0, 7],\n",
       "       [0, 0, 0, 0, 0, 0, 0, 0, 0],\n",
       "       [0, 6, 0, 2, 5, 0, 0, 0, 9],\n",
       "       [0, 0, 2, 5, 9, 0, 0, 0, 3],\n",
       "       [0, 0, 0, 0, 0, 0, 0, 0, 0],\n",
       "       [1, 9, 7, 0, 0, 2, 0, 0, 4]])"
      ]
     },
     "metadata": {
      "bento_obj_id": "140171444211920"
     },
     "output_type": "display_data"
    },
    {
     "name": "stdout",
     "output_type": "stream",
     "text": [
      "\n"
     ]
    },
    {
     "data": {
      "text/plain": [
       "array([[3, 2, 4, 9, 7, 1, 6, 8, 5],\n",
       "       [6, 5, 9, 3, 2, 8, 7, 4, 1],\n",
       "       [7, 8, 1, 4, 6, 5, 9, 3, 2],\n",
       "       [2, 1, 8, 6, 4, 9, 3, 5, 7],\n",
       "       [9, 7, 5, 1, 8, 3, 4, 2, 6],\n",
       "       [4, 6, 3, 2, 5, 7, 8, 1, 9],\n",
       "       [8, 4, 2, 5, 9, 6, 1, 7, 3],\n",
       "       [5, 3, 6, 7, 1, 4, 2, 9, 8],\n",
       "       [1, 9, 7, 8, 3, 2, 5, 6, 4]])"
      ]
     },
     "metadata": {
      "bento_obj_id": "140171444212320"
     },
     "output_type": "display_data"
    },
    {
     "name": "stdout",
     "output_type": "stream",
     "text": [
      "\n",
      "\n",
      "\n",
      "\n",
      "0\n"
     ]
    },
    {
     "data": {
      "text/plain": [
       "array([[0, 0, 0, 0, 0, 0, 0, 0, 0],\n",
       "       [0, 0, 0, 0, 0, 0, 0, 0, 0],\n",
       "       [0, 0, 0, 0, 0, 0, 0, 0, 0],\n",
       "       [0, 0, 0, 0, 0, 0, 0, 0, 0],\n",
       "       [0, 0, 0, 0, 0, 0, 0, 0, 0],\n",
       "       [0, 0, 0, 0, 0, 0, 6, 0, 0],\n",
       "       [0, 0, 0, 0, 0, 0, 0, 0, 0],\n",
       "       [0, 0, 0, 0, 0, 0, 0, 0, 0],\n",
       "       [0, 0, 0, 0, 0, 0, 0, 0, 0]])"
      ]
     },
     "metadata": {
      "bento_obj_id": "140171444212640"
     },
     "output_type": "display_data"
    },
    {
     "name": "stdout",
     "output_type": "stream",
     "text": [
      "\n"
     ]
    },
    {
     "data": {
      "text/plain": [
       "array([[0, 0, 0, 0, 0, 0, 0, 0, 0],\n",
       "       [0, 0, 0, 4, 1, 8, 5, 6, 0],\n",
       "       [7, 0, 0, 2, 0, 0, 1, 0, 0],\n",
       "       [0, 0, 0, 0, 0, 0, 0, 0, 0],\n",
       "       [1, 0, 0, 6, 0, 3, 8, 7, 5],\n",
       "       [4, 0, 0, 1, 8, 5, 0, 3, 0],\n",
       "       [3, 7, 0, 0, 0, 0, 9, 1, 0],\n",
       "       [2, 1, 0, 5, 0, 7, 4, 0, 0],\n",
       "       [8, 9, 0, 0, 2, 0, 7, 0, 0]])"
      ]
     },
     "metadata": {
      "bento_obj_id": "140171444211920"
     },
     "output_type": "display_data"
    },
    {
     "name": "stdout",
     "output_type": "stream",
     "text": [
      "\n"
     ]
    },
    {
     "data": {
      "text/plain": [
       "array([[6, 4, 1, 7, 5, 9, 3, 2, 8],\n",
       "       [9, 3, 2, 4, 1, 8, 5, 6, 7],\n",
       "       [7, 5, 8, 2, 3, 6, 1, 9, 4],\n",
       "       [5, 8, 3, 9, 7, 2, 6, 4, 1],\n",
       "       [1, 2, 9, 6, 4, 3, 8, 7, 5],\n",
       "       [4, 6, 7, 1, 8, 5, 2, 3, 9],\n",
       "       [3, 7, 5, 8, 6, 4, 9, 1, 2],\n",
       "       [2, 1, 6, 5, 9, 7, 4, 8, 3],\n",
       "       [8, 9, 4, 3, 2, 1, 7, 5, 6]])"
      ]
     },
     "metadata": {
      "bento_obj_id": "140171444212640"
     },
     "output_type": "display_data"
    },
    {
     "name": "stdout",
     "output_type": "stream",
     "text": [
      "\n",
      "\n",
      "\n",
      "wideanddeepnet 2916\n",
      "0\n"
     ]
    },
    {
     "data": {
      "text/plain": [
       "array([[0, 0, 0, 0, 0, 0, 0, 0, 0],\n",
       "       [0, 0, 0, 0, 0, 0, 0, 0, 0],\n",
       "       [0, 0, 0, 0, 0, 0, 0, 0, 0],\n",
       "       [0, 8, 0, 0, 0, 0, 0, 0, 0],\n",
       "       [0, 0, 0, 0, 0, 0, 0, 0, 0],\n",
       "       [0, 0, 0, 0, 0, 0, 0, 0, 0],\n",
       "       [0, 0, 0, 0, 0, 0, 0, 0, 0],\n",
       "       [0, 0, 0, 0, 0, 0, 0, 0, 0],\n",
       "       [0, 0, 0, 0, 0, 0, 0, 0, 0]])"
      ]
     },
     "metadata": {
      "bento_obj_id": "140171444212960"
     },
     "output_type": "display_data"
    },
    {
     "name": "stdout",
     "output_type": "stream",
     "text": [
      "\n"
     ]
    },
    {
     "data": {
      "text/plain": [
       "array([[0, 0, 0, 0, 0, 0, 0, 0, 0],\n",
       "       [0, 0, 0, 4, 1, 8, 5, 6, 0],\n",
       "       [7, 0, 0, 2, 0, 0, 1, 0, 0],\n",
       "       [0, 0, 0, 0, 0, 0, 0, 0, 0],\n",
       "       [1, 0, 0, 6, 0, 3, 8, 7, 5],\n",
       "       [4, 0, 0, 1, 8, 5, 0, 3, 0],\n",
       "       [3, 7, 0, 0, 0, 0, 9, 1, 0],\n",
       "       [2, 1, 0, 5, 0, 7, 4, 0, 0],\n",
       "       [8, 9, 0, 0, 2, 0, 7, 0, 0]])"
      ]
     },
     "metadata": {
      "bento_obj_id": "140171444211920"
     },
     "output_type": "display_data"
    },
    {
     "name": "stdout",
     "output_type": "stream",
     "text": [
      "\n"
     ]
    },
    {
     "data": {
      "text/plain": [
       "array([[6, 4, 1, 7, 5, 9, 3, 2, 8],\n",
       "       [9, 3, 2, 4, 1, 8, 5, 6, 7],\n",
       "       [7, 5, 8, 2, 3, 6, 1, 9, 4],\n",
       "       [5, 8, 3, 9, 7, 2, 6, 4, 1],\n",
       "       [1, 2, 9, 6, 4, 3, 8, 7, 5],\n",
       "       [4, 6, 7, 1, 8, 5, 2, 3, 9],\n",
       "       [3, 7, 5, 8, 6, 4, 9, 1, 2],\n",
       "       [2, 1, 6, 5, 9, 7, 4, 8, 3],\n",
       "       [8, 9, 4, 3, 2, 1, 7, 5, 6]])"
      ]
     },
     "metadata": {
      "bento_obj_id": "140171444212960"
     },
     "output_type": "display_data"
    },
    {
     "name": "stdout",
     "output_type": "stream",
     "text": [
      "\n",
      "\n",
      "\n",
      "\n",
      "1\n"
     ]
    },
    {
     "data": {
      "text/plain": [
       "array([[0, 0, 0, 0, 0, 0, 0, 0, 0],\n",
       "       [0, 0, 0, 0, 0, 0, 0, 0, 0],\n",
       "       [0, 0, 0, 0, 0, 0, 0, 0, 0],\n",
       "       [0, 0, 0, 0, 0, 0, 0, 0, 0],\n",
       "       [0, 0, 0, 0, 0, 0, 0, 9, 0],\n",
       "       [0, 0, 0, 0, 0, 0, 0, 0, 0],\n",
       "       [0, 0, 0, 0, 0, 0, 0, 0, 0],\n",
       "       [0, 0, 0, 0, 0, 0, 0, 0, 0],\n",
       "       [0, 0, 0, 0, 0, 0, 0, 0, 0]])"
      ]
     },
     "metadata": {
      "bento_obj_id": "140171444213440"
     },
     "output_type": "display_data"
    },
    {
     "name": "stdout",
     "output_type": "stream",
     "text": [
      "\n"
     ]
    },
    {
     "data": {
      "text/plain": [
       "array([[0, 0, 0, 0, 0, 0, 0, 0, 0],\n",
       "       [0, 6, 5, 8, 1, 4, 0, 0, 0],\n",
       "       [0, 0, 1, 0, 0, 2, 0, 0, 7],\n",
       "       [0, 0, 0, 0, 0, 0, 0, 0, 0],\n",
       "       [5, 7, 8, 3, 0, 6, 0, 0, 1],\n",
       "       [0, 3, 0, 5, 8, 1, 0, 0, 4],\n",
       "       [0, 1, 9, 0, 0, 0, 0, 7, 3],\n",
       "       [0, 0, 4, 7, 0, 5, 0, 1, 2],\n",
       "       [0, 0, 7, 0, 2, 0, 0, 9, 8]])"
      ]
     },
     "metadata": {
      "bento_obj_id": "140171444212160"
     },
     "output_type": "display_data"
    },
    {
     "name": "stdout",
     "output_type": "stream",
     "text": [
      "\n"
     ]
    },
    {
     "data": {
      "text/plain": [
       "array([[8, 2, 3, 9, 5, 7, 1, 4, 6],\n",
       "       [7, 6, 5, 8, 1, 4, 2, 3, 9],\n",
       "       [4, 9, 1, 6, 3, 2, 8, 5, 7],\n",
       "       [1, 4, 6, 2, 7, 9, 3, 8, 5],\n",
       "       [5, 7, 8, 3, 4, 6, 9, 2, 1],\n",
       "       [9, 3, 2, 5, 8, 1, 7, 6, 4],\n",
       "       [2, 1, 9, 4, 6, 8, 5, 7, 3],\n",
       "       [3, 8, 4, 7, 9, 5, 6, 1, 2],\n",
       "       [6, 5, 7, 1, 2, 3, 4, 9, 8]])"
      ]
     },
     "metadata": {
      "bento_obj_id": "140171444213440"
     },
     "output_type": "display_data"
    },
    {
     "name": "stdout",
     "output_type": "stream",
     "text": [
      "\n",
      "\n",
      "\n",
      "wideanddeepnet 14580\n",
      "13\n"
     ]
    },
    {
     "data": {
      "text/plain": [
       "array([[0, 2, 0, 0, 0, 0, 0, 0, 0],\n",
       "       [0, 0, 0, 0, 0, 0, 0, 0, 0],\n",
       "       [0, 0, 0, 0, 0, 0, 0, 0, 0],\n",
       "       [0, 0, 0, 0, 0, 0, 0, 0, 0],\n",
       "       [0, 0, 0, 0, 0, 0, 0, 0, 0],\n",
       "       [0, 0, 0, 0, 0, 0, 0, 0, 0],\n",
       "       [0, 0, 0, 0, 0, 0, 0, 0, 0],\n",
       "       [0, 0, 0, 0, 0, 0, 0, 0, 0],\n",
       "       [0, 0, 0, 0, 0, 0, 0, 0, 0]])"
      ]
     },
     "metadata": {
      "bento_obj_id": "140171444212160"
     },
     "output_type": "display_data"
    },
    {
     "name": "stdout",
     "output_type": "stream",
     "text": [
      "\n"
     ]
    },
    {
     "data": {
      "text/plain": [
       "array([[0, 0, 4, 0, 0, 1, 0, 8, 5],\n",
       "       [6, 0, 9, 3, 0, 8, 0, 4, 0],\n",
       "       [0, 8, 0, 4, 0, 0, 0, 3, 2],\n",
       "       [2, 0, 8, 0, 4, 0, 0, 0, 7],\n",
       "       [0, 0, 0, 0, 0, 0, 0, 0, 0],\n",
       "       [0, 6, 0, 2, 5, 0, 0, 0, 9],\n",
       "       [0, 0, 2, 5, 9, 0, 0, 0, 3],\n",
       "       [0, 0, 0, 0, 0, 0, 0, 0, 0],\n",
       "       [1, 9, 7, 0, 0, 2, 0, 0, 4]])"
      ]
     },
     "metadata": {
      "bento_obj_id": "140171444211920"
     },
     "output_type": "display_data"
    },
    {
     "name": "stdout",
     "output_type": "stream",
     "text": [
      "\n"
     ]
    },
    {
     "data": {
      "text/plain": [
       "array([[3, 2, 4, 9, 7, 1, 6, 8, 5],\n",
       "       [6, 5, 9, 3, 2, 8, 7, 4, 1],\n",
       "       [7, 8, 1, 4, 6, 5, 9, 3, 2],\n",
       "       [2, 1, 8, 6, 4, 9, 3, 5, 7],\n",
       "       [9, 7, 5, 1, 8, 3, 4, 2, 6],\n",
       "       [4, 6, 3, 2, 5, 7, 8, 1, 9],\n",
       "       [8, 4, 2, 5, 9, 6, 1, 7, 3],\n",
       "       [5, 3, 6, 7, 1, 4, 2, 9, 8],\n",
       "       [1, 9, 7, 8, 3, 2, 5, 6, 4]])"
      ]
     },
     "metadata": {
      "bento_obj_id": "140171444212160"
     },
     "output_type": "display_data"
    },
    {
     "name": "stdout",
     "output_type": "stream",
     "text": [
      "\n",
      "\n",
      "\n",
      "\n",
      "0\n"
     ]
    },
    {
     "data": {
      "text/plain": [
       "array([[0, 0, 0, 0, 0, 0, 0, 0, 0],\n",
       "       [0, 0, 0, 0, 0, 0, 0, 0, 0],\n",
       "       [0, 0, 0, 0, 0, 0, 0, 0, 0],\n",
       "       [0, 0, 0, 0, 0, 0, 0, 0, 0],\n",
       "       [0, 0, 0, 0, 0, 0, 0, 0, 0],\n",
       "       [0, 0, 0, 0, 0, 0, 6, 0, 0],\n",
       "       [0, 0, 0, 0, 0, 0, 0, 0, 0],\n",
       "       [0, 0, 0, 0, 0, 0, 0, 0, 0],\n",
       "       [0, 0, 0, 0, 0, 0, 0, 0, 0]])"
      ]
     },
     "metadata": {
      "bento_obj_id": "140171444213440"
     },
     "output_type": "display_data"
    },
    {
     "name": "stdout",
     "output_type": "stream",
     "text": [
      "\n"
     ]
    },
    {
     "data": {
      "text/plain": [
       "array([[0, 0, 0, 0, 0, 0, 0, 0, 0],\n",
       "       [0, 0, 0, 4, 1, 8, 5, 6, 0],\n",
       "       [7, 0, 0, 2, 0, 0, 1, 0, 0],\n",
       "       [0, 0, 0, 0, 0, 0, 0, 0, 0],\n",
       "       [1, 0, 0, 6, 0, 3, 8, 7, 5],\n",
       "       [4, 0, 0, 1, 8, 5, 0, 3, 0],\n",
       "       [3, 7, 0, 0, 0, 0, 9, 1, 0],\n",
       "       [2, 1, 0, 5, 0, 7, 4, 0, 0],\n",
       "       [8, 9, 0, 0, 2, 0, 7, 0, 0]])"
      ]
     },
     "metadata": {
      "bento_obj_id": "140171444211920"
     },
     "output_type": "display_data"
    },
    {
     "name": "stdout",
     "output_type": "stream",
     "text": [
      "\n"
     ]
    },
    {
     "data": {
      "text/plain": [
       "array([[6, 4, 1, 7, 5, 9, 3, 2, 8],\n",
       "       [9, 3, 2, 4, 1, 8, 5, 6, 7],\n",
       "       [7, 5, 8, 2, 3, 6, 1, 9, 4],\n",
       "       [5, 8, 3, 9, 7, 2, 6, 4, 1],\n",
       "       [1, 2, 9, 6, 4, 3, 8, 7, 5],\n",
       "       [4, 6, 7, 1, 8, 5, 2, 3, 9],\n",
       "       [3, 7, 5, 8, 6, 4, 9, 1, 2],\n",
       "       [2, 1, 6, 5, 9, 7, 4, 8, 3],\n",
       "       [8, 9, 4, 3, 2, 1, 7, 5, 6]])"
      ]
     },
     "metadata": {
      "bento_obj_id": "140171444213440"
     },
     "output_type": "display_data"
    },
    {
     "name": "stdout",
     "output_type": "stream",
     "text": [
      "\n",
      "\n",
      "\n",
      "wideanddeepnet 2917\n",
      "13\n"
     ]
    },
    {
     "data": {
      "text/plain": [
       "array([[0, 2, 0, 0, 0, 0, 0, 0, 0],\n",
       "       [0, 0, 0, 0, 0, 0, 0, 0, 0],\n",
       "       [0, 0, 0, 0, 0, 0, 0, 0, 0],\n",
       "       [0, 0, 0, 0, 0, 0, 0, 0, 0],\n",
       "       [0, 0, 0, 0, 0, 0, 0, 0, 0],\n",
       "       [0, 0, 0, 0, 0, 0, 0, 0, 0],\n",
       "       [0, 0, 0, 0, 0, 0, 0, 0, 0],\n",
       "       [0, 0, 0, 0, 0, 0, 0, 0, 0],\n",
       "       [0, 0, 0, 0, 0, 0, 0, 0, 0]])"
      ]
     },
     "metadata": {
      "bento_obj_id": "140171444213440"
     },
     "output_type": "display_data"
    },
    {
     "name": "stdout",
     "output_type": "stream",
     "text": [
      "\n"
     ]
    },
    {
     "data": {
      "text/plain": [
       "array([[0, 0, 4, 0, 0, 1, 0, 8, 5],\n",
       "       [6, 0, 9, 3, 0, 8, 0, 4, 0],\n",
       "       [0, 8, 0, 4, 0, 0, 0, 3, 2],\n",
       "       [2, 0, 8, 0, 4, 0, 0, 0, 7],\n",
       "       [0, 0, 0, 0, 0, 0, 0, 0, 0],\n",
       "       [0, 6, 0, 2, 5, 0, 0, 0, 9],\n",
       "       [0, 0, 2, 5, 9, 0, 0, 0, 3],\n",
       "       [0, 0, 0, 0, 0, 0, 0, 0, 0],\n",
       "       [1, 9, 7, 0, 0, 2, 0, 0, 4]])"
      ]
     },
     "metadata": {
      "bento_obj_id": "140171444213440"
     },
     "output_type": "display_data"
    },
    {
     "name": "stdout",
     "output_type": "stream",
     "text": [
      "\n"
     ]
    },
    {
     "data": {
      "text/plain": [
       "array([[3, 2, 4, 9, 7, 1, 6, 8, 5],\n",
       "       [6, 5, 9, 3, 2, 8, 7, 4, 1],\n",
       "       [7, 8, 1, 4, 6, 5, 9, 3, 2],\n",
       "       [2, 1, 8, 6, 4, 9, 3, 5, 7],\n",
       "       [9, 7, 5, 1, 8, 3, 4, 2, 6],\n",
       "       [4, 6, 3, 2, 5, 7, 8, 1, 9],\n",
       "       [8, 4, 2, 5, 9, 6, 1, 7, 3],\n",
       "       [5, 3, 6, 7, 1, 4, 2, 9, 8],\n",
       "       [1, 9, 7, 8, 3, 2, 5, 6, 4]])"
      ]
     },
     "metadata": {
      "bento_obj_id": "140171444213440"
     },
     "output_type": "display_data"
    },
    {
     "name": "stdout",
     "output_type": "stream",
     "text": [
      "\n",
      "\n",
      "\n",
      "\n",
      "0\n"
     ]
    },
    {
     "data": {
      "text/plain": [
       "array([[0, 0, 0, 0, 0, 0, 0, 0, 0],\n",
       "       [0, 0, 0, 0, 0, 0, 0, 0, 0],\n",
       "       [0, 0, 0, 0, 0, 0, 0, 0, 0],\n",
       "       [0, 0, 0, 0, 0, 0, 0, 0, 0],\n",
       "       [0, 0, 0, 0, 0, 0, 0, 0, 0],\n",
       "       [0, 0, 0, 0, 0, 0, 6, 0, 0],\n",
       "       [0, 0, 0, 0, 0, 0, 0, 0, 0],\n",
       "       [0, 0, 0, 0, 0, 0, 0, 0, 0],\n",
       "       [0, 0, 0, 0, 0, 0, 0, 0, 0]])"
      ]
     },
     "metadata": {
      "bento_obj_id": "140171444212160"
     },
     "output_type": "display_data"
    },
    {
     "name": "stdout",
     "output_type": "stream",
     "text": [
      "\n"
     ]
    },
    {
     "data": {
      "text/plain": [
       "array([[0, 0, 0, 0, 0, 0, 0, 0, 0],\n",
       "       [0, 0, 0, 4, 1, 8, 5, 6, 0],\n",
       "       [7, 0, 0, 2, 0, 0, 1, 0, 0],\n",
       "       [0, 0, 0, 0, 0, 0, 0, 0, 0],\n",
       "       [1, 0, 0, 6, 0, 3, 8, 7, 5],\n",
       "       [4, 0, 0, 1, 8, 5, 0, 3, 0],\n",
       "       [3, 7, 0, 0, 0, 0, 9, 1, 0],\n",
       "       [2, 1, 0, 5, 0, 7, 4, 0, 0],\n",
       "       [8, 9, 0, 0, 2, 0, 7, 0, 0]])"
      ]
     },
     "metadata": {
      "bento_obj_id": "140171444213440"
     },
     "output_type": "display_data"
    },
    {
     "name": "stdout",
     "output_type": "stream",
     "text": [
      "\n"
     ]
    },
    {
     "data": {
      "text/plain": [
       "array([[6, 4, 1, 7, 5, 9, 3, 2, 8],\n",
       "       [9, 3, 2, 4, 1, 8, 5, 6, 7],\n",
       "       [7, 5, 8, 2, 3, 6, 1, 9, 4],\n",
       "       [5, 8, 3, 9, 7, 2, 6, 4, 1],\n",
       "       [1, 2, 9, 6, 4, 3, 8, 7, 5],\n",
       "       [4, 6, 7, 1, 8, 5, 2, 3, 9],\n",
       "       [3, 7, 5, 8, 6, 4, 9, 1, 2],\n",
       "       [2, 1, 6, 5, 9, 7, 4, 8, 3],\n",
       "       [8, 9, 4, 3, 2, 1, 7, 5, 6]])"
      ]
     },
     "metadata": {
      "bento_obj_id": "140171444212160"
     },
     "output_type": "display_data"
    },
    {
     "name": "stdout",
     "output_type": "stream",
     "text": [
      "\n",
      "\n",
      "\n"
     ]
    }
   ],
   "source": [
    "threshold = 0\n",
    "\n",
    "with open('sudoku_eval.dat', 'r') as f:\n",
    "    x, y = get_x_y(f, batches=1000)\n",
    "\n",
    "\n",
    "\n",
    "#x, y = puz_x, puz_y\n",
    "for model_name in models.keys():    \n",
    "    tot = 0\n",
    "    print(model_name)\n",
    "    for i in range(len(x)):\n",
    "        r = predict_one(x[i], models[model_name])\n",
    "        #print(np.sum(one_hot_to_matrix(r)==one_hot_to_matrix(y[i])))\n",
    "        is_correct = (np.sum(one_hot_to_matrix(r) == one_hot_to_matrix(y[i])) == 1)\n",
    "        if is_correct and np.random.rand() > threshold:\n",
    "            print(i)\n",
    "            display(one_hot_to_matrix(r))\n",
    "            print('')    \n",
    "            display(one_hot_to_matrix(x[i]))\n",
    "            print('')    \n",
    "            display(one_hot_to_matrix(y[i]))            \n",
    "            break\n",
    "    print('')    \n",
    "    print('')        \n",
    "    print('')        \n",
    "    print('')       \n",
    "    for i in range(len(x)):\n",
    "        r = predict_one(x[i], models[model_name])\n",
    "        #print(np.sum(one_hot_to_matrix(r)==one_hot_to_matrix(y[i])))\n",
    "        is_correct = (np.sum(one_hot_to_matrix(r) == one_hot_to_matrix(y[i])) == 1)\n",
    "        if not is_correct and np.random.rand() > threshold:\n",
    "            print(i)\n",
    "            display(one_hot_to_matrix(r))\n",
    "            print('')    \n",
    "            display(one_hot_to_matrix(x[i]))\n",
    "            print('')    \n",
    "            display(one_hot_to_matrix(y[i]))           \n",
    "            break    \n",
    "            \n",
    "    print('')        \n",
    "    print('')        \n",
    "    print('')                \n",
    "#    print(model_name, ' ', tot * 1.0 / len(x))\n",
    "    "
   ]
  },
  {
   "cell_type": "code",
   "execution_count": 49,
   "metadata": {},
   "outputs": [
    {
     "data": {
      "text/plain": [
       "array([[0, 0, 0, 0, 0, 0, 0, 0, 0],\n",
       "       [0, 0, 0, 4, 1, 8, 5, 6, 0],\n",
       "       [7, 0, 0, 2, 0, 0, 1, 0, 0],\n",
       "       [0, 0, 0, 0, 0, 0, 0, 0, 0],\n",
       "       [1, 0, 0, 6, 0, 3, 8, 7, 5],\n",
       "       [4, 0, 0, 1, 8, 5, 0, 3, 0],\n",
       "       [3, 7, 0, 0, 0, 0, 9, 1, 0],\n",
       "       [2, 1, 0, 5, 0, 7, 4, 0, 0],\n",
       "       [8, 9, 0, 0, 2, 0, 7, 0, 0]])"
      ]
     },
     "metadata": {
      "bento_obj_id": "140247581185568"
     },
     "output_type": "display_data"
    },
    {
     "data": {
      "text/plain": [
       "array([[6, 4, 1, 7, 5, 9, 3, 2, 8],\n",
       "       [9, 3, 2, 4, 1, 8, 5, 6, 7],\n",
       "       [7, 5, 8, 2, 3, 6, 1, 9, 4],\n",
       "       [5, 8, 3, 9, 7, 2, 6, 4, 1],\n",
       "       [1, 2, 9, 6, 4, 3, 8, 7, 5],\n",
       "       [4, 6, 7, 1, 8, 5, 2, 3, 9],\n",
       "       [3, 7, 5, 8, 6, 4, 9, 1, 2],\n",
       "       [2, 1, 6, 5, 9, 7, 4, 8, 3],\n",
       "       [8, 9, 4, 3, 2, 1, 7, 5, 6]])"
      ]
     },
     "metadata": {
      "bento_obj_id": "140247581185888"
     },
     "output_type": "display_data"
    },
    {
     "name": "stdout",
     "output_type": "stream",
     "text": [
      "True\n",
      "True\n"
     ]
    },
    {
     "data": {
      "text/plain": [
       "array([[0, 0, 1, 0, 0, 0, 3, 0, 0],\n",
       "       [9, 0, 0, 0, 0, 0, 0, 0, 7],\n",
       "       [0, 0, 0, 0, 0, 0, 0, 0, 0],\n",
       "       [0, 0, 0, 0, 0, 2, 0, 0, 1],\n",
       "       [0, 2, 0, 0, 4, 0, 0, 0, 0],\n",
       "       [0, 0, 7, 0, 0, 0, 0, 0, 0],\n",
       "       [0, 0, 5, 8, 0, 0, 0, 0, 2],\n",
       "       [0, 0, 6, 0, 9, 0, 0, 8, 0],\n",
       "       [0, 0, 0, 3, 0, 1, 0, 5, 0]])"
      ]
     },
     "metadata": {
      "bento_obj_id": "140247492157968"
     },
     "output_type": "display_data"
    },
    {
     "data": {
      "text/plain": [
       "{2, 3, 9}"
      ]
     },
     "metadata": {
      "bento_obj_id": "140247514285672"
     },
     "output_type": "display_data"
    },
    {
     "data": {
      "text/plain": [
       "True"
      ]
     },
     "metadata": {
      "bento_obj_id": "140248216971608"
     },
     "output_type": "display_data"
    }
   ],
   "source": [
    "from importlib import reload\n",
    "reload(sudoku)\n",
    "\n",
    "i = 0\n",
    "\n",
    "mtx = one_hot_to_matrix(x[i])\n",
    "sln = one_hot_to_matrix(y[i])\n",
    "\n",
    "print('matrix')\n",
    "display(mtx)\n",
    "\n",
    "print('\\nsolution')\n",
    "display(sln)\n",
    "\n",
    "\n",
    "print('is solution correct ', sudoku.is_complete(sln) and sudoku.is_correct(sln))\n",
    "\n",
    "print('algorithmic solutions')\n",
    "display(sudoku.solve_step(mtx))\n",
    "\n",
    "display(sudoku.get_possibilities(mtx)[1,2])\n",
    "\n",
    "display(np.all(sudoku.solve_puzzle(mtx)[0] == sln))"
   ]
  },
  {
   "cell_type": "code",
   "execution_count": null,
   "metadata": {
    "collapsed": true
   },
   "outputs": [],
   "source": [
    "# do an eval with full matrix prediction"
   ]
  }
 ],
 "metadata": {
  "bento_stylesheets": {
   "bento/extensions/flow/main.css": true,
   "bento/extensions/kernel_selector/main.css": true,
   "bento/extensions/kernel_ui/main.css": true,
   "bento/extensions/theme/main.css": true
  },
  "disseminate_notebook_id": {
   "notebook_id": "1908348832565477"
  },
  "disseminate_notebook_info": {
   "cell_hash": "f3cf6d87ca8c4ee16f472d7c77f3e375",
   "description": "",
   "hide_code": false,
   "hipster_group": "",
   "notebook_number": "23078",
   "others_can_edit": false,
   "revision_id": "170340660486518",
   "tags": "",
   "tasks": "",
   "title": "torch_sudoku"
  },
  "kernelspec": {
   "display_name": "Python 3",
   "language": "python",
   "name": "python3"
  },
  "language_info": {
   "codemirror_mode": {
    "name": "ipython",
    "version": 3
   },
   "file_extension": ".py",
   "mimetype": "text/x-python",
   "name": "python",
   "nbconvert_exporter": "python",
   "pygments_lexer": "ipython3",
   "version": "3.7.3"
  }
 },
 "nbformat": 4,
 "nbformat_minor": 2
}
