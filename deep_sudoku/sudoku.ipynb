{
 "cells": [
  {
   "cell_type": "markdown",
   "metadata": {},
   "source": [
    "# Solving Sudoku with Python"
   ]
  },
  {
   "cell_type": "code",
   "execution_count": 1,
   "metadata": {},
   "outputs": [],
   "source": [
    "import pandas as pd\n",
    "import numpy as np"
   ]
  },
  {
   "cell_type": "code",
   "execution_count": 2,
   "metadata": {},
   "outputs": [],
   "source": [
    "#puzzles \n",
    "\n",
    "p1=\"\"\"000003600\n",
    "000760009\n",
    "000092780\n",
    "201050803\n",
    "056030140\n",
    "403070506\n",
    "062480000\n",
    "800015000\n",
    "007900000\"\"\"\n",
    "\n",
    "p2=\"\"\"093850000\n",
    "500073000\n",
    "007400000\n",
    "409010208\n",
    "062040710\n",
    "701030406\n",
    "000005300\n",
    "000120009\n",
    "000096870\"\"\"\n",
    "\n",
    "#hard puzzle\n",
    "p3=\"\"\"000304900\n",
    "040065000\n",
    "006800000\n",
    "430000108\n",
    "090000020\n",
    "201000035\n",
    "000006300\n",
    "000210060\n",
    "008507000\"\"\""
   ]
  },
  {
   "cell_type": "code",
   "execution_count": 3,
   "metadata": {},
   "outputs": [],
   "source": [
    "def is_correct(p):\n",
    "    \"\"\"Are all of the rows, cols, and boxes completed (1-9 entries)\"\"\"\n",
    "    full = set(range(1,10))\n",
    "    for c in range(0,9):\n",
    "        for r in range(0,9): \n",
    "            for get_func in get_rect:\n",
    "                if len(set(get_func(p,r,c)).intersection(full)) != 9:\n",
    "                    return False\n",
    "    return True\n",
    "\n",
    "\n",
    "\n",
    "def is_complete(p):\n",
    "    \"\"\"Are all of the rows, cols, and boxes non zero\"\"\"\n",
    "    for c in range(0,9):\n",
    "        for r in range(0,9): \n",
    "            if p[r,c] == 0:\n",
    "                return False                \n",
    "    return True"
   ]
  },
  {
   "cell_type": "code",
   "execution_count": 4,
   "metadata": {},
   "outputs": [],
   "source": [
    "def create_matrix():\n",
    "    return np.zeros(dtype=int, shape=(9,9))"
   ]
  },
  {
   "cell_type": "code",
   "execution_count": 5,
   "metadata": {},
   "outputs": [],
   "source": [
    "#convert strings to a matrix\n",
    "def to_matrix(p):\n",
    "    return np.array([np.array([int(i) for i in r]) for r in p.split('\\n')])"
   ]
  },
  {
   "cell_type": "code",
   "execution_count": 10,
   "metadata": {},
   "outputs": [],
   "source": [
    "# helper functions to pull associated rows, columns and boxes for a given cell.\n",
    "get_row = lambda p,x,y: (p[x]).flatten()\n",
    "get_col = lambda p,x,y: (p[:,y]).flatten()\n",
    "get_box = lambda p,x,y: (p[3*int(x/3):3*int(x/3)+3,3*int(y/3):3*int(y/3)+3]).flatten()\n",
    "\n",
    "get_rect = [get_row, get_col, get_box]"
   ]
  },
  {
   "cell_type": "code",
   "execution_count": 11,
   "metadata": {},
   "outputs": [],
   "source": [
    "def get_possibilities(p):\n",
    "    \"\"\"For each entry in the grid, list out all of the things it could be\"\"\"\n",
    "    full = set(range(1,10))\n",
    "    possibiliteis = np.array([[set() for x in range(1, 10)] for x in range(1, 10)])\n",
    "    for c in range(0,9):\n",
    "        for r in range(0,9):\n",
    "            candidates = set(full)\n",
    "            if p[r,c] == 0:   \n",
    "                for get_func in get_rect:\n",
    "                    [candidates.remove(x) for x in set(get_func(p,r,c)) if x in candidates]\n",
    "                possibiliteis[r,c] = candidates\n",
    "            else:\n",
    "                possibiliteis[r,c] = set([p[r,c]])\n",
    "    return possibiliteis\n",
    "\n",
    "def solve_step(p):\n",
    "    \"\"\"Attempt to solve the sudoku puzzle using 2 stratigies\"\"\"\n",
    "    \n",
    "    solution = create_matrix()\n",
    "\n",
    "    is_update = False\n",
    "    possibiliteis = get_possibilities(p)\n",
    "\n",
    "    # if there is only one possible thing a grid item could be, then we have our answer!\n",
    "    for c in range(0,9):\n",
    "        for r in range(0,9):\n",
    "            if p[r,c] == 0:   \n",
    "                if len(possibiliteis[r,c]) == 1:\n",
    "                    solution[r,c] = list(possibiliteis[r,c])[0]\n",
    "                    is_update = True\n",
    "\n",
    "    # This is sort of the opposite of the above\n",
    "    # If this is the only cell in the row, col, box than can be a number - then make it so\n",
    "    for c in range(0,9):\n",
    "        for r in range(0,9):\n",
    "            if p[r,c] == 0:    \n",
    "                for get_func in get_rect:\n",
    "                    #for each possibility, see if this is the only cell that can satisfy it\n",
    "                    func_poss = [s for s in get_func(possibiliteis,r,c)]\n",
    "                    func_poss.remove(possibiliteis[r,c])\n",
    "                    poss = set(range(1,10))\n",
    "\n",
    "                    for s in func_poss:\n",
    "                        for e in s:\n",
    "                            if e in poss:\n",
    "                                poss.remove(e)\n",
    "                    if len(poss) == 1:\n",
    "                        solution[r,c] = poss.pop()\n",
    "                        is_update = True\n",
    "    if is_update:\n",
    "        return solution\n",
    "    else:\n",
    "        return None\n"
   ]
  },
  {
   "cell_type": "code",
   "execution_count": 12,
   "metadata": {},
   "outputs": [],
   "source": [
    "def solve(px, solution_list=None):\n",
    "\n",
    "    if solution_list is None:\n",
    "        solution_list = []\n",
    "        \n",
    "    p = px.copy()\n",
    "    \n",
    "    solution = solve_step(p)\n",
    "    \n",
    "    while solution is not None:\n",
    "        p += solution\n",
    "        solution_list.append(solution)\n",
    "        solution = solve_step(p)\n",
    "        \n",
    "    if is_complete(p):\n",
    "        if is_correct(p):\n",
    "            return p, solution_list\n",
    "        else:\n",
    "            return None, None\n",
    "    \n",
    "    # find the first cell with multiple possibilities\n",
    "    # make a guess!\n",
    "    possibiliteis = get_possibilities(p)\n",
    "    solution = create_matrix()\n",
    "    \n",
    "    min_pos = 11\n",
    "    min_r = -1\n",
    "    min_c = -1\n",
    "    r_rows = np.arange(0, 9)\n",
    "    c_rows = np.arange(0, 9)\n",
    "    \n",
    "    np.random.shuffle(r_rows)\n",
    "    np.random.shuffle(c_rows)\n",
    "\n",
    "    for c in c_rows:\n",
    "        for r in r_rows:\n",
    "            num_pos = len(possibiliteis[r,c])\n",
    "            if num_pos > 1 and min_pos > num_pos:\n",
    "                min_r = r\n",
    "                min_c = c\n",
    "                min_pos = num_pos\n",
    "                \n",
    "    if min_r == -1 and min_c==-1:\n",
    "        return None, None\n",
    "    \n",
    "    poss_list = np.array(list(possibiliteis[min_r, min_c]))\n",
    "    np.random.shuffle(poss_list)\n",
    "    \n",
    "    for poss in poss_list:\n",
    "        p[min_r,min_c] = poss\n",
    "        solution[min_r,min_c] = poss\n",
    "\n",
    "        rs, slns = solve(p, solution_list + [solution])\n",
    "\n",
    "        if rs is not None:\n",
    "            if is_complete(rs):\n",
    "                if is_correct(rs):\n",
    "                    return rs, slns\n",
    "        p[min_r,min_c] = 0\n",
    "        solution[min_r,min_c] = 0\n",
    "                               \n",
    "    return None, None"
   ]
  },
  {
   "cell_type": "code",
   "execution_count": 13,
   "metadata": {},
   "outputs": [
    {
     "name": "stdout",
     "output_type": "stream",
     "text": [
      "[[5 1 2 3 7 4 9 8 6]\n",
      " [8 4 3 9 6 5 2 7 1]\n",
      " [9 7 6 8 2 1 5 4 3]\n",
      " [4 3 7 6 5 2 1 9 8]\n",
      " [6 9 5 1 3 8 7 2 4]\n",
      " [2 8 1 7 4 9 6 3 5]\n",
      " [1 2 9 4 8 6 3 5 7]\n",
      " [7 5 4 2 1 3 8 6 9]\n",
      " [3 6 8 5 9 7 4 1 2]]\n",
      "True\n",
      "True\n",
      "[[9 7 8 5 4 3 6 2 1]\n",
      " [1 2 4 7 6 8 3 5 9]\n",
      " [6 3 5 1 9 2 7 8 4]\n",
      " [2 9 1 6 5 4 8 7 3]\n",
      " [7 5 6 8 3 9 1 4 2]\n",
      " [4 8 3 2 7 1 5 9 6]\n",
      " [3 6 2 4 8 7 9 1 5]\n",
      " [8 4 9 3 1 5 2 6 7]\n",
      " [5 1 7 9 2 6 4 3 8]]\n",
      "True\n",
      "True\n",
      "[[6 9 3 8 5 2 1 4 7]\n",
      " [5 1 4 9 7 3 6 8 2]\n",
      " [2 8 7 4 6 1 9 3 5]\n",
      " [4 3 9 6 1 7 2 5 8]\n",
      " [8 6 2 5 4 9 7 1 3]\n",
      " [7 5 1 2 3 8 4 9 6]\n",
      " [9 4 6 7 8 5 3 2 1]\n",
      " [3 7 8 1 2 4 5 6 9]\n",
      " [1 2 5 3 9 6 8 7 4]]\n",
      "True\n",
      "True\n"
     ]
    }
   ],
   "source": [
    "p3_solution, steps = solve(to_matrix(p3))\n",
    "print(p3_solution)\n",
    "print(is_correct(p3_solution))\n",
    "print(is_complete(p3_solution))\n",
    "\n",
    "p1_solution, steps = solve(to_matrix(p1))\n",
    "print(p1_solution)\n",
    "print(is_correct(p1_solution))\n",
    "print(is_complete(p1_solution))\n",
    "\n",
    "p2_solution, slns = solve(to_matrix(p2))\n",
    "print(p2_solution)\n",
    "print(is_correct(p2_solution))\n",
    "print(is_complete(p2_solution))"
   ]
  },
  {
   "cell_type": "code",
   "execution_count": 21,
   "metadata": {},
   "outputs": [
    {
     "name": "stdout",
     "output_type": "stream",
     "text": [
      "[[9 5 3 7 6 8 4 1 2]\n",
      " [2 8 4 5 1 3 9 7 6]\n",
      " [6 7 1 4 9 2 8 5 3]\n",
      " [3 9 7 6 8 1 2 4 5]\n",
      " [1 4 5 2 7 9 3 6 8]\n",
      " [8 6 2 3 5 4 7 9 1]\n",
      " [4 1 8 9 3 5 6 2 7]\n",
      " [7 3 9 1 2 6 5 8 4]\n",
      " [5 2 6 8 4 7 1 3 9]]\n",
      "True\n",
      "True\n"
     ]
    },
    {
     "data": {
      "text/plain": [
       "70"
      ]
     },
     "execution_count": 21,
     "metadata": {},
     "output_type": "execute_result"
    }
   ],
   "source": [
    "sln, steps = solve(create_matrix())\n",
    "print(sln)\n",
    "print(is_correct(sln))\n",
    "print(is_complete(sln))\n",
    "len(steps)"
   ]
  },
  {
   "cell_type": "markdown",
   "metadata": {},
   "source": [
    "###### Huzzah!"
   ]
  }
 ],
 "metadata": {
  "kernelspec": {
   "display_name": "Python 3",
   "language": "python",
   "name": "python3"
  },
  "language_info": {
   "codemirror_mode": {
    "name": "ipython",
    "version": 3
   },
   "file_extension": ".py",
   "mimetype": "text/x-python",
   "name": "python",
   "nbconvert_exporter": "python",
   "pygments_lexer": "ipython3",
   "version": "3.7.3"
  }
 },
 "nbformat": 4,
 "nbformat_minor": 1
}
